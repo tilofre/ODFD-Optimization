{
 "cells": [
  {
   "cell_type": "code",
   "execution_count": 1,
   "id": "1958032f",
   "metadata": {},
   "outputs": [],
   "source": [
    "import pandas as pd\n",
    "import numpy as np\n",
    "from statsmodels.tsa.statespace.sarimax import SARIMAX\n",
    "from sklearn.metrics import mean_squared_error, mean_absolute_error, r2_score\n",
    "import matplotlib.pyplot as plt\n",
    "import math\n",
    "import time"
   ]
  },
  {
   "cell_type": "code",
   "execution_count": 2,
   "id": "0ca6de93",
   "metadata": {},
   "outputs": [],
   "source": [
    "dataArima = pd.read_parquet(\"Data/agg_table_new_zones8Bot.parquet\")\n",
    "#The already binned and aggregated dataset\n"
   ]
  },
  {
   "cell_type": "code",
   "execution_count": null,
   "id": "3e50c4b0",
   "metadata": {},
   "outputs": [],
   "source": [
    "#Preparing the data for the ARIMA and creating a pivot table to predict for all 139 zones\n",
    "dataArima[\"time_bin\"] = pd.to_datetime(dataArima[\"time_bin\"])\n",
    "pivot_data = dataArima.pivot_table(index='time_bin', columns='h3_index', values='order_count', fill_value=0)"
   ]
  },
  {
   "cell_type": "code",
   "execution_count": null,
   "id": "0e099199",
   "metadata": {},
   "outputs": [],
   "source": [
    "#As there were some time bins without a value and not in the table we have to fill it with zeros\n",
    "start_time_full = pivot_data.index.min()\n",
    "end_time_full = pivot_data.index.max()\n",
    "full_index_all_zones = pd.date_range(start=start_time_full, end=end_time_full, freq='15min')\n",
    "pivot_data = pivot_data.reindex(full_index_all_zones, fill_value=0)"
   ]
  },
  {
   "cell_type": "code",
   "execution_count": null,
   "id": "c5ba6182",
   "metadata": {},
   "outputs": [],
   "source": [
    "#We use fourier features to recreate seasonal patterns with the help of sin and cos waves\n",
    "def create_fourier_features(index, seasonal_period, k):\n",
    "    n_samples = len(index)\n",
    "    time = np.arange(n_samples)\n",
    "    features = {}\n",
    "    for i in range(1, k + 1):\n",
    "        features[f'sin_{i}'] = np.sin(2 * np.pi * i * time / seasonal_period)\n",
    "        features[f'cos_{i}'] = np.cos(2 * np.pi * i * time / seasonal_period)\n",
    "    return pd.DataFrame(features, index=index)"
   ]
  },
  {
   "cell_type": "code",
   "execution_count": null,
   "id": "1b96d72d",
   "metadata": {},
   "outputs": [],
   "source": [
    "seasonal_period = 96 #(24*4) One day \n",
    "k = 24 #High value of fourier features to learn spikes\n",
    "pdq_order = (2, 0, 1) # (p, d, q) with d=0 (AR) (I) (MA)\n",
    "all_fourier_features = create_fourier_features(pivot_data.index, seasonal_period, k) # Preparation of the exogene variables with the data set\n",
    "split_point_idx = int(len(pivot_data) * 0.875) #We use only test and train split as we don't need to validate. The value is unobserved by the model\n",
    "results = {}\n",
    "\n",
    "# Each 48 the values are refitted\n",
    "refit_interval = 48\n",
    "\n",
    "# preparing loop\n",
    "total_zones = len(pivot_data.columns)\n",
    "start_time_total = time.time()"
   ]
  },
  {
   "cell_type": "code",
   "execution_count": null,
   "id": "4543efcd",
   "metadata": {},
   "outputs": [
    {
     "name": "stdout",
     "output_type": "stream",
     "text": [
      "\n",
      "--- Bearbeite Zone 1/139: 88329b430dfffff ---\n",
      "Zone 88329b430dfffff - Refitting bei Schritt 1...\n",
      "Zone 88329b430dfffff - Refitting bei Schritt 49...\n",
      "Zone 88329b430dfffff abgeschlossen in 6.00 Sekunden.\n",
      "Zone 88329b430dfffff - RMSE: 0.24, R2: -0.0070\n",
      "\n",
      "--- Bearbeite Zone 2/139: 88329b4325fffff ---\n",
      "Zone 88329b4325fffff - Refitting bei Schritt 1...\n"
     ]
    },
    {
     "name": "stderr",
     "output_type": "stream",
     "text": [
      "c:\\Users\\freud\\anaconda3\\envs\\tf310\\lib\\site-packages\\statsmodels\\tsa\\statespace\\sarimax.py:966: UserWarning: Non-stationary starting autoregressive parameters found. Using zeros as starting parameters.\n",
      "  warn('Non-stationary starting autoregressive parameters'\n",
      "c:\\Users\\freud\\anaconda3\\envs\\tf310\\lib\\site-packages\\statsmodels\\tsa\\statespace\\sarimax.py:978: UserWarning: Non-invertible starting MA parameters found. Using zeros as starting parameters.\n",
      "  warn('Non-invertible starting MA parameters found.'\n"
     ]
    },
    {
     "name": "stdout",
     "output_type": "stream",
     "text": [
      "Zone 88329b4325fffff - Refitting bei Schritt 49...\n"
     ]
    },
    {
     "name": "stderr",
     "output_type": "stream",
     "text": [
      "c:\\Users\\freud\\anaconda3\\envs\\tf310\\lib\\site-packages\\statsmodels\\tsa\\statespace\\sarimax.py:966: UserWarning: Non-stationary starting autoregressive parameters found. Using zeros as starting parameters.\n",
      "  warn('Non-stationary starting autoregressive parameters'\n",
      "c:\\Users\\freud\\anaconda3\\envs\\tf310\\lib\\site-packages\\statsmodels\\tsa\\statespace\\sarimax.py:978: UserWarning: Non-invertible starting MA parameters found. Using zeros as starting parameters.\n",
      "  warn('Non-invertible starting MA parameters found.'\n"
     ]
    },
    {
     "name": "stdout",
     "output_type": "stream",
     "text": [
      "Zone 88329b4325fffff abgeschlossen in 6.07 Sekunden.\n",
      "Zone 88329b4325fffff - RMSE: 0.01, R2: 0.0000\n",
      "\n",
      "--- Bearbeite Zone 3/139: 88329b432dfffff ---\n",
      "Zone 88329b432dfffff - Refitting bei Schritt 1...\n"
     ]
    },
    {
     "name": "stderr",
     "output_type": "stream",
     "text": [
      "c:\\Users\\freud\\anaconda3\\envs\\tf310\\lib\\site-packages\\statsmodels\\tsa\\statespace\\sarimax.py:966: UserWarning: Non-stationary starting autoregressive parameters found. Using zeros as starting parameters.\n",
      "  warn('Non-stationary starting autoregressive parameters'\n"
     ]
    },
    {
     "name": "stdout",
     "output_type": "stream",
     "text": [
      "Zone 88329b432dfffff - Refitting bei Schritt 49...\n"
     ]
    },
    {
     "name": "stderr",
     "output_type": "stream",
     "text": [
      "c:\\Users\\freud\\anaconda3\\envs\\tf310\\lib\\site-packages\\statsmodels\\tsa\\statespace\\sarimax.py:966: UserWarning: Non-stationary starting autoregressive parameters found. Using zeros as starting parameters.\n",
      "  warn('Non-stationary starting autoregressive parameters'\n"
     ]
    },
    {
     "name": "stdout",
     "output_type": "stream",
     "text": [
      "Zone 88329b432dfffff abgeschlossen in 10.17 Sekunden.\n",
      "Zone 88329b432dfffff - RMSE: 0.57, R2: 0.0995\n",
      "\n",
      "--- Bearbeite Zone 4/139: 88329b4343fffff ---\n",
      "Zone 88329b4343fffff - Refitting bei Schritt 1...\n"
     ]
    },
    {
     "name": "stderr",
     "output_type": "stream",
     "text": [
      "c:\\Users\\freud\\anaconda3\\envs\\tf310\\lib\\site-packages\\statsmodels\\tsa\\statespace\\sarimax.py:966: UserWarning: Non-stationary starting autoregressive parameters found. Using zeros as starting parameters.\n",
      "  warn('Non-stationary starting autoregressive parameters'\n",
      "c:\\Users\\freud\\anaconda3\\envs\\tf310\\lib\\site-packages\\statsmodels\\tsa\\statespace\\sarimax.py:978: UserWarning: Non-invertible starting MA parameters found. Using zeros as starting parameters.\n",
      "  warn('Non-invertible starting MA parameters found.'\n"
     ]
    },
    {
     "name": "stdout",
     "output_type": "stream",
     "text": [
      "Zone 88329b4343fffff - Refitting bei Schritt 49...\n"
     ]
    },
    {
     "name": "stderr",
     "output_type": "stream",
     "text": [
      "c:\\Users\\freud\\anaconda3\\envs\\tf310\\lib\\site-packages\\statsmodels\\tsa\\statespace\\sarimax.py:966: UserWarning: Non-stationary starting autoregressive parameters found. Using zeros as starting parameters.\n",
      "  warn('Non-stationary starting autoregressive parameters'\n",
      "c:\\Users\\freud\\anaconda3\\envs\\tf310\\lib\\site-packages\\statsmodels\\tsa\\statespace\\sarimax.py:978: UserWarning: Non-invertible starting MA parameters found. Using zeros as starting parameters.\n",
      "  warn('Non-invertible starting MA parameters found.'\n"
     ]
    },
    {
     "name": "stdout",
     "output_type": "stream",
     "text": [
      "Zone 88329b4343fffff abgeschlossen in 7.45 Sekunden.\n",
      "Zone 88329b4343fffff - RMSE: 0.18, R2: -0.0127\n",
      "\n",
      "--- Bearbeite Zone 5/139: 88329b4345fffff ---\n",
      "Zone 88329b4345fffff - Refitting bei Schritt 1...\n"
     ]
    },
    {
     "name": "stderr",
     "output_type": "stream",
     "text": [
      "c:\\Users\\freud\\anaconda3\\envs\\tf310\\lib\\site-packages\\statsmodels\\tsa\\statespace\\sarimax.py:966: UserWarning: Non-stationary starting autoregressive parameters found. Using zeros as starting parameters.\n",
      "  warn('Non-stationary starting autoregressive parameters'\n"
     ]
    },
    {
     "name": "stdout",
     "output_type": "stream",
     "text": [
      "Zone 88329b4345fffff - Refitting bei Schritt 49...\n"
     ]
    },
    {
     "name": "stderr",
     "output_type": "stream",
     "text": [
      "c:\\Users\\freud\\anaconda3\\envs\\tf310\\lib\\site-packages\\statsmodels\\tsa\\statespace\\sarimax.py:966: UserWarning: Non-stationary starting autoregressive parameters found. Using zeros as starting parameters.\n",
      "  warn('Non-stationary starting autoregressive parameters'\n"
     ]
    },
    {
     "name": "stdout",
     "output_type": "stream",
     "text": [
      "Zone 88329b4345fffff abgeschlossen in 15.27 Sekunden.\n",
      "Zone 88329b4345fffff - RMSE: 0.41, R2: 0.0383\n",
      "\n",
      "--- Bearbeite Zone 6/139: 88329b4361fffff ---\n",
      "Zone 88329b4361fffff - Refitting bei Schritt 1...\n",
      "Zone 88329b4361fffff - Refitting bei Schritt 49...\n",
      "Zone 88329b4361fffff abgeschlossen in 6.23 Sekunden.\n",
      "Zone 88329b4361fffff - RMSE: 1.20, R2: 0.3256\n",
      "\n",
      "--- Bearbeite Zone 7/139: 88329b4363fffff ---\n",
      "Zone 88329b4363fffff - Refitting bei Schritt 1...\n"
     ]
    },
    {
     "name": "stderr",
     "output_type": "stream",
     "text": [
      "c:\\Users\\freud\\anaconda3\\envs\\tf310\\lib\\site-packages\\statsmodels\\tsa\\statespace\\sarimax.py:966: UserWarning: Non-stationary starting autoregressive parameters found. Using zeros as starting parameters.\n",
      "  warn('Non-stationary starting autoregressive parameters'\n",
      "c:\\Users\\freud\\anaconda3\\envs\\tf310\\lib\\site-packages\\statsmodels\\tsa\\statespace\\sarimax.py:978: UserWarning: Non-invertible starting MA parameters found. Using zeros as starting parameters.\n",
      "  warn('Non-invertible starting MA parameters found.'\n"
     ]
    },
    {
     "name": "stdout",
     "output_type": "stream",
     "text": [
      "Zone 88329b4363fffff - Refitting bei Schritt 49...\n"
     ]
    },
    {
     "name": "stderr",
     "output_type": "stream",
     "text": [
      "c:\\Users\\freud\\anaconda3\\envs\\tf310\\lib\\site-packages\\statsmodels\\tsa\\statespace\\sarimax.py:966: UserWarning: Non-stationary starting autoregressive parameters found. Using zeros as starting parameters.\n",
      "  warn('Non-stationary starting autoregressive parameters'\n",
      "c:\\Users\\freud\\anaconda3\\envs\\tf310\\lib\\site-packages\\statsmodels\\tsa\\statespace\\sarimax.py:978: UserWarning: Non-invertible starting MA parameters found. Using zeros as starting parameters.\n",
      "  warn('Non-invertible starting MA parameters found.'\n"
     ]
    },
    {
     "name": "stdout",
     "output_type": "stream",
     "text": [
      "Zone 88329b4363fffff abgeschlossen in 12.88 Sekunden.\n",
      "Zone 88329b4363fffff - RMSE: 0.29, R2: -0.0860\n",
      "\n",
      "--- Bearbeite Zone 8/139: 88329b4365fffff ---\n",
      "Zone 88329b4365fffff - Refitting bei Schritt 1...\n",
      "Zone 88329b4365fffff - Refitting bei Schritt 49...\n"
     ]
    },
    {
     "name": "stderr",
     "output_type": "stream",
     "text": [
      "c:\\Users\\freud\\anaconda3\\envs\\tf310\\lib\\site-packages\\statsmodels\\tsa\\statespace\\sarimax.py:966: UserWarning: Non-stationary starting autoregressive parameters found. Using zeros as starting parameters.\n",
      "  warn('Non-stationary starting autoregressive parameters'\n",
      "c:\\Users\\freud\\anaconda3\\envs\\tf310\\lib\\site-packages\\statsmodels\\tsa\\statespace\\sarimax.py:978: UserWarning: Non-invertible starting MA parameters found. Using zeros as starting parameters.\n",
      "  warn('Non-invertible starting MA parameters found.'\n"
     ]
    },
    {
     "name": "stdout",
     "output_type": "stream",
     "text": [
      "Zone 88329b4365fffff abgeschlossen in 13.80 Sekunden.\n",
      "Zone 88329b4365fffff - RMSE: 0.25, R2: 0.0728\n",
      "\n",
      "--- Bearbeite Zone 9/139: 88329b4369fffff ---\n",
      "Zone 88329b4369fffff - Refitting bei Schritt 1...\n"
     ]
    },
    {
     "name": "stderr",
     "output_type": "stream",
     "text": [
      "c:\\Users\\freud\\anaconda3\\envs\\tf310\\lib\\site-packages\\statsmodels\\tsa\\statespace\\sarimax.py:966: UserWarning: Non-stationary starting autoregressive parameters found. Using zeros as starting parameters.\n",
      "  warn('Non-stationary starting autoregressive parameters'\n",
      "c:\\Users\\freud\\anaconda3\\envs\\tf310\\lib\\site-packages\\statsmodels\\tsa\\statespace\\sarimax.py:978: UserWarning: Non-invertible starting MA parameters found. Using zeros as starting parameters.\n",
      "  warn('Non-invertible starting MA parameters found.'\n"
     ]
    },
    {
     "name": "stdout",
     "output_type": "stream",
     "text": [
      "Zone 88329b4369fffff - Refitting bei Schritt 49...\n"
     ]
    },
    {
     "name": "stderr",
     "output_type": "stream",
     "text": [
      "c:\\Users\\freud\\anaconda3\\envs\\tf310\\lib\\site-packages\\statsmodels\\tsa\\statespace\\sarimax.py:966: UserWarning: Non-stationary starting autoregressive parameters found. Using zeros as starting parameters.\n",
      "  warn('Non-stationary starting autoregressive parameters'\n",
      "c:\\Users\\freud\\anaconda3\\envs\\tf310\\lib\\site-packages\\statsmodels\\tsa\\statespace\\sarimax.py:978: UserWarning: Non-invertible starting MA parameters found. Using zeros as starting parameters.\n",
      "  warn('Non-invertible starting MA parameters found.'\n"
     ]
    },
    {
     "name": "stdout",
     "output_type": "stream",
     "text": [
      "Zone 88329b4369fffff abgeschlossen in 17.19 Sekunden.\n",
      "Zone 88329b4369fffff - RMSE: 0.40, R2: 0.2155\n",
      "\n",
      "--- Bearbeite Zone 10/139: 88329b436dfffff ---\n",
      "Zone 88329b436dfffff - Refitting bei Schritt 1...\n",
      "Zone 88329b436dfffff - Refitting bei Schritt 49...\n",
      "Zone 88329b436dfffff abgeschlossen in 6.51 Sekunden.\n",
      "Zone 88329b436dfffff - RMSE: 1.61, R2: 0.6587\n",
      "\n",
      "--- Bearbeite Zone 11/139: 88329b4a49fffff ---\n",
      "Zone 88329b4a49fffff - Refitting bei Schritt 1...\n"
     ]
    },
    {
     "name": "stderr",
     "output_type": "stream",
     "text": [
      "c:\\Users\\freud\\anaconda3\\envs\\tf310\\lib\\site-packages\\statsmodels\\tsa\\statespace\\sarimax.py:966: UserWarning: Non-stationary starting autoregressive parameters found. Using zeros as starting parameters.\n",
      "  warn('Non-stationary starting autoregressive parameters'\n",
      "c:\\Users\\freud\\anaconda3\\envs\\tf310\\lib\\site-packages\\statsmodels\\tsa\\statespace\\sarimax.py:978: UserWarning: Non-invertible starting MA parameters found. Using zeros as starting parameters.\n",
      "  warn('Non-invertible starting MA parameters found.'\n"
     ]
    },
    {
     "name": "stdout",
     "output_type": "stream",
     "text": [
      "Zone 88329b4a49fffff - Refitting bei Schritt 49...\n"
     ]
    },
    {
     "name": "stderr",
     "output_type": "stream",
     "text": [
      "c:\\Users\\freud\\anaconda3\\envs\\tf310\\lib\\site-packages\\statsmodels\\tsa\\statespace\\sarimax.py:966: UserWarning: Non-stationary starting autoregressive parameters found. Using zeros as starting parameters.\n",
      "  warn('Non-stationary starting autoregressive parameters'\n",
      "c:\\Users\\freud\\anaconda3\\envs\\tf310\\lib\\site-packages\\statsmodels\\tsa\\statespace\\sarimax.py:978: UserWarning: Non-invertible starting MA parameters found. Using zeros as starting parameters.\n",
      "  warn('Non-invertible starting MA parameters found.'\n"
     ]
    },
    {
     "name": "stdout",
     "output_type": "stream",
     "text": [
      "Zone 88329b4a49fffff abgeschlossen in 12.09 Sekunden.\n",
      "Zone 88329b4a49fffff - RMSE: 0.15, R2: -0.0308\n",
      "\n",
      "--- Bearbeite Zone 12/139: 88329b5101fffff ---\n",
      "Zone 88329b5101fffff - Refitting bei Schritt 1...\n",
      "Zone 88329b5101fffff - Refitting bei Schritt 49...\n",
      "Zone 88329b5101fffff abgeschlossen in 7.69 Sekunden.\n",
      "Zone 88329b5101fffff - RMSE: 1.32, R2: 0.6755\n",
      "\n",
      "--- Bearbeite Zone 13/139: 88329b5105fffff ---\n",
      "Zone 88329b5105fffff - Refitting bei Schritt 1...\n"
     ]
    },
    {
     "name": "stderr",
     "output_type": "stream",
     "text": [
      "c:\\Users\\freud\\anaconda3\\envs\\tf310\\lib\\site-packages\\statsmodels\\tsa\\statespace\\sarimax.py:966: UserWarning: Non-stationary starting autoregressive parameters found. Using zeros as starting parameters.\n",
      "  warn('Non-stationary starting autoregressive parameters'\n",
      "c:\\Users\\freud\\anaconda3\\envs\\tf310\\lib\\site-packages\\statsmodels\\tsa\\statespace\\sarimax.py:978: UserWarning: Non-invertible starting MA parameters found. Using zeros as starting parameters.\n",
      "  warn('Non-invertible starting MA parameters found.'\n"
     ]
    },
    {
     "name": "stdout",
     "output_type": "stream",
     "text": [
      "Zone 88329b5105fffff - Refitting bei Schritt 49...\n"
     ]
    },
    {
     "name": "stderr",
     "output_type": "stream",
     "text": [
      "c:\\Users\\freud\\anaconda3\\envs\\tf310\\lib\\site-packages\\statsmodels\\tsa\\statespace\\sarimax.py:966: UserWarning: Non-stationary starting autoregressive parameters found. Using zeros as starting parameters.\n",
      "  warn('Non-stationary starting autoregressive parameters'\n",
      "c:\\Users\\freud\\anaconda3\\envs\\tf310\\lib\\site-packages\\statsmodels\\tsa\\statespace\\sarimax.py:978: UserWarning: Non-invertible starting MA parameters found. Using zeros as starting parameters.\n",
      "  warn('Non-invertible starting MA parameters found.'\n"
     ]
    },
    {
     "name": "stdout",
     "output_type": "stream",
     "text": [
      "Zone 88329b5105fffff abgeschlossen in 14.71 Sekunden.\n",
      "Zone 88329b5105fffff - RMSE: 0.36, R2: 0.3629\n",
      "\n",
      "--- Bearbeite Zone 14/139: 88329b5109fffff ---\n",
      "Zone 88329b5109fffff - Refitting bei Schritt 1...\n",
      "Zone 88329b5109fffff - Refitting bei Schritt 49...\n",
      "Zone 88329b5109fffff abgeschlossen in 7.37 Sekunden.\n",
      "Zone 88329b5109fffff - RMSE: 3.23, R2: 0.8410\n",
      "\n",
      "--- Bearbeite Zone 15/139: 88329b510bfffff ---\n",
      "Zone 88329b510bfffff - Refitting bei Schritt 1...\n",
      "Zone 88329b510bfffff - Refitting bei Schritt 49...\n",
      "Zone 88329b510bfffff abgeschlossen in 7.30 Sekunden.\n",
      "Zone 88329b510bfffff - RMSE: 0.77, R2: 0.3440\n",
      "\n",
      "--- Bearbeite Zone 16/139: 88329b510dfffff ---\n",
      "Zone 88329b510dfffff - Refitting bei Schritt 1...\n"
     ]
    },
    {
     "name": "stderr",
     "output_type": "stream",
     "text": [
      "c:\\Users\\freud\\anaconda3\\envs\\tf310\\lib\\site-packages\\statsmodels\\tsa\\statespace\\sarimax.py:966: UserWarning: Non-stationary starting autoregressive parameters found. Using zeros as starting parameters.\n",
      "  warn('Non-stationary starting autoregressive parameters'\n"
     ]
    },
    {
     "name": "stdout",
     "output_type": "stream",
     "text": [
      "Zone 88329b510dfffff - Refitting bei Schritt 49...\n"
     ]
    },
    {
     "name": "stderr",
     "output_type": "stream",
     "text": [
      "c:\\Users\\freud\\anaconda3\\envs\\tf310\\lib\\site-packages\\statsmodels\\tsa\\statespace\\sarimax.py:966: UserWarning: Non-stationary starting autoregressive parameters found. Using zeros as starting parameters.\n",
      "  warn('Non-stationary starting autoregressive parameters'\n"
     ]
    },
    {
     "name": "stdout",
     "output_type": "stream",
     "text": [
      "Zone 88329b510dfffff abgeschlossen in 16.48 Sekunden.\n",
      "Zone 88329b510dfffff - RMSE: 0.89, R2: 0.3840\n",
      "\n",
      "--- Bearbeite Zone 17/139: 88329b5143fffff ---\n",
      "Zone 88329b5143fffff - Refitting bei Schritt 1...\n",
      "Zone 88329b5143fffff - Refitting bei Schritt 49...\n",
      "Zone 88329b5143fffff abgeschlossen in 6.66 Sekunden.\n",
      "Zone 88329b5143fffff - RMSE: 3.82, R2: 0.8959\n",
      "\n",
      "--- Bearbeite Zone 18/139: 88329b5147fffff ---\n",
      "Zone 88329b5147fffff - Refitting bei Schritt 1...\n"
     ]
    },
    {
     "name": "stderr",
     "output_type": "stream",
     "text": [
      "c:\\Users\\freud\\anaconda3\\envs\\tf310\\lib\\site-packages\\statsmodels\\tsa\\statespace\\sarimax.py:966: UserWarning: Non-stationary starting autoregressive parameters found. Using zeros as starting parameters.\n",
      "  warn('Non-stationary starting autoregressive parameters'\n"
     ]
    },
    {
     "name": "stdout",
     "output_type": "stream",
     "text": [
      "Zone 88329b5147fffff - Refitting bei Schritt 49...\n"
     ]
    },
    {
     "name": "stderr",
     "output_type": "stream",
     "text": [
      "c:\\Users\\freud\\anaconda3\\envs\\tf310\\lib\\site-packages\\statsmodels\\tsa\\statespace\\sarimax.py:966: UserWarning: Non-stationary starting autoregressive parameters found. Using zeros as starting parameters.\n",
      "  warn('Non-stationary starting autoregressive parameters'\n"
     ]
    },
    {
     "name": "stdout",
     "output_type": "stream",
     "text": [
      "Zone 88329b5147fffff abgeschlossen in 15.19 Sekunden.\n",
      "Zone 88329b5147fffff - RMSE: 2.00, R2: 0.7268\n",
      "\n",
      "--- Bearbeite Zone 19/139: 88329b514bfffff ---\n",
      "Zone 88329b514bfffff - Refitting bei Schritt 1...\n",
      "Zone 88329b514bfffff - Refitting bei Schritt 49...\n",
      "Zone 88329b514bfffff abgeschlossen in 12.27 Sekunden.\n",
      "Zone 88329b514bfffff - RMSE: 0.35, R2: 0.0062\n",
      "\n",
      "--- Bearbeite Zone 20/139: 88329b5151fffff ---\n",
      "Zone 88329b5151fffff - Refitting bei Schritt 1...\n",
      "Zone 88329b5151fffff - Refitting bei Schritt 49...\n",
      "Zone 88329b5151fffff abgeschlossen in 14.27 Sekunden.\n",
      "Zone 88329b5151fffff - RMSE: 0.03, R2: 0.0000\n",
      "\n",
      "--- Bearbeite Zone 21/139: 88329b5155fffff ---\n",
      "Zone 88329b5155fffff - Refitting bei Schritt 1...\n"
     ]
    },
    {
     "name": "stderr",
     "output_type": "stream",
     "text": [
      "c:\\Users\\freud\\anaconda3\\envs\\tf310\\lib\\site-packages\\statsmodels\\tsa\\statespace\\sarimax.py:966: UserWarning: Non-stationary starting autoregressive parameters found. Using zeros as starting parameters.\n",
      "  warn('Non-stationary starting autoregressive parameters'\n"
     ]
    },
    {
     "name": "stdout",
     "output_type": "stream",
     "text": [
      "Zone 88329b5155fffff - Refitting bei Schritt 49...\n"
     ]
    },
    {
     "name": "stderr",
     "output_type": "stream",
     "text": [
      "c:\\Users\\freud\\anaconda3\\envs\\tf310\\lib\\site-packages\\statsmodels\\tsa\\statespace\\sarimax.py:966: UserWarning: Non-stationary starting autoregressive parameters found. Using zeros as starting parameters.\n",
      "  warn('Non-stationary starting autoregressive parameters'\n"
     ]
    },
    {
     "name": "stdout",
     "output_type": "stream",
     "text": [
      "Zone 88329b5155fffff abgeschlossen in 14.58 Sekunden.\n",
      "Zone 88329b5155fffff - RMSE: 1.55, R2: 0.5805\n",
      "\n",
      "--- Bearbeite Zone 22/139: 88329b516bfffff ---\n",
      "Zone 88329b516bfffff - Refitting bei Schritt 1...\n"
     ]
    },
    {
     "name": "stderr",
     "output_type": "stream",
     "text": [
      "c:\\Users\\freud\\anaconda3\\envs\\tf310\\lib\\site-packages\\statsmodels\\tsa\\statespace\\sarimax.py:966: UserWarning: Non-stationary starting autoregressive parameters found. Using zeros as starting parameters.\n",
      "  warn('Non-stationary starting autoregressive parameters'\n"
     ]
    },
    {
     "name": "stdout",
     "output_type": "stream",
     "text": [
      "Zone 88329b516bfffff - Refitting bei Schritt 49...\n",
      "Zone 88329b516bfffff abgeschlossen in 9.83 Sekunden.\n",
      "Zone 88329b516bfffff - RMSE: 0.51, R2: 0.2695\n",
      "\n",
      "--- Bearbeite Zone 23/139: 88329b5801fffff ---\n",
      "Zone 88329b5801fffff - Refitting bei Schritt 1...\n"
     ]
    },
    {
     "name": "stderr",
     "output_type": "stream",
     "text": [
      "c:\\Users\\freud\\anaconda3\\envs\\tf310\\lib\\site-packages\\statsmodels\\tsa\\statespace\\sarimax.py:966: UserWarning: Non-stationary starting autoregressive parameters found. Using zeros as starting parameters.\n",
      "  warn('Non-stationary starting autoregressive parameters'\n"
     ]
    },
    {
     "name": "stdout",
     "output_type": "stream",
     "text": [
      "Zone 88329b5801fffff - Refitting bei Schritt 49...\n"
     ]
    },
    {
     "name": "stderr",
     "output_type": "stream",
     "text": [
      "c:\\Users\\freud\\anaconda3\\envs\\tf310\\lib\\site-packages\\statsmodels\\tsa\\statespace\\sarimax.py:966: UserWarning: Non-stationary starting autoregressive parameters found. Using zeros as starting parameters.\n",
      "  warn('Non-stationary starting autoregressive parameters'\n"
     ]
    },
    {
     "name": "stdout",
     "output_type": "stream",
     "text": [
      "Zone 88329b5801fffff abgeschlossen in 9.18 Sekunden.\n",
      "Zone 88329b5801fffff - RMSE: 1.95, R2: 0.8433\n",
      "\n",
      "--- Bearbeite Zone 24/139: 88329b5805fffff ---\n",
      "Zone 88329b5805fffff - Refitting bei Schritt 1...\n"
     ]
    },
    {
     "name": "stderr",
     "output_type": "stream",
     "text": [
      "c:\\Users\\freud\\anaconda3\\envs\\tf310\\lib\\site-packages\\statsmodels\\tsa\\statespace\\sarimax.py:966: UserWarning: Non-stationary starting autoregressive parameters found. Using zeros as starting parameters.\n",
      "  warn('Non-stationary starting autoregressive parameters'\n"
     ]
    },
    {
     "name": "stdout",
     "output_type": "stream",
     "text": [
      "Zone 88329b5805fffff - Refitting bei Schritt 49...\n",
      "Zone 88329b5805fffff abgeschlossen in 6.49 Sekunden.\n",
      "Zone 88329b5805fffff - RMSE: 6.09, R2: 0.8149\n",
      "\n",
      "--- Bearbeite Zone 25/139: 88329b5807fffff ---\n",
      "Zone 88329b5807fffff - Refitting bei Schritt 1...\n",
      "Zone 88329b5807fffff - Refitting bei Schritt 49...\n",
      "Zone 88329b5807fffff abgeschlossen in 8.56 Sekunden.\n",
      "Zone 88329b5807fffff - RMSE: 0.46, R2: 0.2172\n",
      "\n",
      "--- Bearbeite Zone 26/139: 88329b5809fffff ---\n",
      "Zone 88329b5809fffff - Refitting bei Schritt 1...\n",
      "Zone 88329b5809fffff - Refitting bei Schritt 49...\n",
      "Zone 88329b5809fffff abgeschlossen in 7.30 Sekunden.\n",
      "Zone 88329b5809fffff - RMSE: 0.94, R2: 0.2040\n",
      "\n",
      "--- Bearbeite Zone 27/139: 88329b580bfffff ---\n",
      "Zone 88329b580bfffff - Refitting bei Schritt 1...\n",
      "Zone 88329b580bfffff - Refitting bei Schritt 49...\n",
      "Zone 88329b580bfffff abgeschlossen in 9.78 Sekunden.\n",
      "Zone 88329b580bfffff - RMSE: 1.81, R2: 0.3075\n",
      "\n",
      "--- Bearbeite Zone 28/139: 88329b580dfffff ---\n",
      "Zone 88329b580dfffff - Refitting bei Schritt 1...\n"
     ]
    },
    {
     "name": "stderr",
     "output_type": "stream",
     "text": [
      "c:\\Users\\freud\\anaconda3\\envs\\tf310\\lib\\site-packages\\statsmodels\\tsa\\statespace\\sarimax.py:966: UserWarning: Non-stationary starting autoregressive parameters found. Using zeros as starting parameters.\n",
      "  warn('Non-stationary starting autoregressive parameters'\n"
     ]
    },
    {
     "name": "stdout",
     "output_type": "stream",
     "text": [
      "Zone 88329b580dfffff - Refitting bei Schritt 49...\n"
     ]
    },
    {
     "name": "stderr",
     "output_type": "stream",
     "text": [
      "c:\\Users\\freud\\anaconda3\\envs\\tf310\\lib\\site-packages\\statsmodels\\tsa\\statespace\\sarimax.py:966: UserWarning: Non-stationary starting autoregressive parameters found. Using zeros as starting parameters.\n",
      "  warn('Non-stationary starting autoregressive parameters'\n"
     ]
    },
    {
     "name": "stdout",
     "output_type": "stream",
     "text": [
      "Zone 88329b580dfffff abgeschlossen in 13.75 Sekunden.\n",
      "Zone 88329b580dfffff - RMSE: 0.60, R2: 0.5867\n",
      "\n",
      "--- Bearbeite Zone 29/139: 88329b5811fffff ---\n",
      "Zone 88329b5811fffff - Refitting bei Schritt 1...\n",
      "Zone 88329b5811fffff - Refitting bei Schritt 49...\n",
      "Zone 88329b5811fffff abgeschlossen in 8.23 Sekunden.\n",
      "Zone 88329b5811fffff - RMSE: 2.68, R2: 0.8102\n",
      "\n",
      "--- Bearbeite Zone 30/139: 88329b5813fffff ---\n",
      "Zone 88329b5813fffff - Refitting bei Schritt 1...\n",
      "Zone 88329b5813fffff - Refitting bei Schritt 49...\n",
      "Zone 88329b5813fffff abgeschlossen in 7.91 Sekunden.\n",
      "Zone 88329b5813fffff - RMSE: 2.72, R2: 0.9098\n",
      "\n",
      "--- Bearbeite Zone 31/139: 88329b5815fffff ---\n",
      "Zone 88329b5815fffff - Refitting bei Schritt 1...\n"
     ]
    },
    {
     "name": "stderr",
     "output_type": "stream",
     "text": [
      "c:\\Users\\freud\\anaconda3\\envs\\tf310\\lib\\site-packages\\statsmodels\\tsa\\statespace\\sarimax.py:966: UserWarning: Non-stationary starting autoregressive parameters found. Using zeros as starting parameters.\n",
      "  warn('Non-stationary starting autoregressive parameters'\n"
     ]
    },
    {
     "name": "stdout",
     "output_type": "stream",
     "text": [
      "Zone 88329b5815fffff - Refitting bei Schritt 49...\n"
     ]
    },
    {
     "name": "stderr",
     "output_type": "stream",
     "text": [
      "c:\\Users\\freud\\anaconda3\\envs\\tf310\\lib\\site-packages\\statsmodels\\tsa\\statespace\\sarimax.py:966: UserWarning: Non-stationary starting autoregressive parameters found. Using zeros as starting parameters.\n",
      "  warn('Non-stationary starting autoregressive parameters'\n"
     ]
    },
    {
     "name": "stdout",
     "output_type": "stream",
     "text": [
      "Zone 88329b5815fffff abgeschlossen in 9.58 Sekunden.\n",
      "Zone 88329b5815fffff - RMSE: 0.92, R2: 0.1025\n",
      "\n",
      "--- Bearbeite Zone 32/139: 88329b5817fffff ---\n",
      "Zone 88329b5817fffff - Refitting bei Schritt 1...\n",
      "Zone 88329b5817fffff - Refitting bei Schritt 49...\n",
      "Zone 88329b5817fffff abgeschlossen in 8.68 Sekunden.\n",
      "Zone 88329b5817fffff - RMSE: 3.04, R2: 0.8838\n",
      "\n",
      "--- Bearbeite Zone 33/139: 88329b5819fffff ---\n",
      "Zone 88329b5819fffff - Refitting bei Schritt 1...\n",
      "Zone 88329b5819fffff - Refitting bei Schritt 49...\n",
      "Zone 88329b5819fffff abgeschlossen in 8.10 Sekunden.\n",
      "Zone 88329b5819fffff - RMSE: 3.98, R2: 0.8782\n",
      "\n",
      "--- Bearbeite Zone 34/139: 88329b581bfffff ---\n",
      "Zone 88329b581bfffff - Refitting bei Schritt 1...\n"
     ]
    },
    {
     "name": "stderr",
     "output_type": "stream",
     "text": [
      "c:\\Users\\freud\\anaconda3\\envs\\tf310\\lib\\site-packages\\statsmodels\\tsa\\statespace\\sarimax.py:966: UserWarning: Non-stationary starting autoregressive parameters found. Using zeros as starting parameters.\n",
      "  warn('Non-stationary starting autoregressive parameters'\n"
     ]
    },
    {
     "name": "stdout",
     "output_type": "stream",
     "text": [
      "Zone 88329b581bfffff - Refitting bei Schritt 49...\n"
     ]
    },
    {
     "name": "stderr",
     "output_type": "stream",
     "text": [
      "c:\\Users\\freud\\anaconda3\\envs\\tf310\\lib\\site-packages\\statsmodels\\tsa\\statespace\\sarimax.py:966: UserWarning: Non-stationary starting autoregressive parameters found. Using zeros as starting parameters.\n",
      "  warn('Non-stationary starting autoregressive parameters'\n"
     ]
    },
    {
     "name": "stdout",
     "output_type": "stream",
     "text": [
      "Zone 88329b581bfffff abgeschlossen in 13.26 Sekunden.\n",
      "Zone 88329b581bfffff - RMSE: 2.34, R2: 0.7348\n",
      "\n",
      "--- Bearbeite Zone 35/139: 88329b581dfffff ---\n",
      "Zone 88329b581dfffff - Refitting bei Schritt 1...\n"
     ]
    },
    {
     "name": "stderr",
     "output_type": "stream",
     "text": [
      "c:\\Users\\freud\\anaconda3\\envs\\tf310\\lib\\site-packages\\statsmodels\\base\\model.py:607: ConvergenceWarning: Maximum Likelihood optimization failed to converge. Check mle_retvals\n",
      "  warnings.warn(\"Maximum Likelihood optimization failed to \"\n"
     ]
    },
    {
     "name": "stdout",
     "output_type": "stream",
     "text": [
      "Zone 88329b581dfffff - Refitting bei Schritt 49...\n",
      "Zone 88329b581dfffff abgeschlossen in 12.51 Sekunden.\n",
      "Zone 88329b581dfffff - RMSE: 1.78, R2: 0.8423\n",
      "\n",
      "--- Bearbeite Zone 36/139: 88329b5829fffff ---\n",
      "Zone 88329b5829fffff - Refitting bei Schritt 1...\n"
     ]
    },
    {
     "name": "stderr",
     "output_type": "stream",
     "text": [
      "c:\\Users\\freud\\anaconda3\\envs\\tf310\\lib\\site-packages\\statsmodels\\tsa\\statespace\\sarimax.py:966: UserWarning: Non-stationary starting autoregressive parameters found. Using zeros as starting parameters.\n",
      "  warn('Non-stationary starting autoregressive parameters'\n",
      "c:\\Users\\freud\\anaconda3\\envs\\tf310\\lib\\site-packages\\statsmodels\\tsa\\statespace\\sarimax.py:978: UserWarning: Non-invertible starting MA parameters found. Using zeros as starting parameters.\n",
      "  warn('Non-invertible starting MA parameters found.'\n"
     ]
    },
    {
     "name": "stdout",
     "output_type": "stream",
     "text": [
      "Zone 88329b5829fffff - Refitting bei Schritt 49...\n"
     ]
    },
    {
     "name": "stderr",
     "output_type": "stream",
     "text": [
      "c:\\Users\\freud\\anaconda3\\envs\\tf310\\lib\\site-packages\\statsmodels\\tsa\\statespace\\sarimax.py:966: UserWarning: Non-stationary starting autoregressive parameters found. Using zeros as starting parameters.\n",
      "  warn('Non-stationary starting autoregressive parameters'\n",
      "c:\\Users\\freud\\anaconda3\\envs\\tf310\\lib\\site-packages\\statsmodels\\tsa\\statespace\\sarimax.py:978: UserWarning: Non-invertible starting MA parameters found. Using zeros as starting parameters.\n",
      "  warn('Non-invertible starting MA parameters found.'\n"
     ]
    },
    {
     "name": "stdout",
     "output_type": "stream",
     "text": [
      "Zone 88329b5829fffff abgeschlossen in 10.34 Sekunden.\n",
      "Zone 88329b5829fffff - RMSE: 0.27, R2: -0.0710\n",
      "\n",
      "--- Bearbeite Zone 37/139: 88329b5831fffff ---\n",
      "Zone 88329b5831fffff - Refitting bei Schritt 1...\n"
     ]
    },
    {
     "name": "stderr",
     "output_type": "stream",
     "text": [
      "c:\\Users\\freud\\anaconda3\\envs\\tf310\\lib\\site-packages\\statsmodels\\tsa\\statespace\\sarimax.py:966: UserWarning: Non-stationary starting autoregressive parameters found. Using zeros as starting parameters.\n",
      "  warn('Non-stationary starting autoregressive parameters'\n",
      "c:\\Users\\freud\\anaconda3\\envs\\tf310\\lib\\site-packages\\statsmodels\\tsa\\statespace\\sarimax.py:978: UserWarning: Non-invertible starting MA parameters found. Using zeros as starting parameters.\n",
      "  warn('Non-invertible starting MA parameters found.'\n"
     ]
    },
    {
     "name": "stdout",
     "output_type": "stream",
     "text": [
      "Zone 88329b5831fffff - Refitting bei Schritt 49...\n"
     ]
    },
    {
     "name": "stderr",
     "output_type": "stream",
     "text": [
      "c:\\Users\\freud\\anaconda3\\envs\\tf310\\lib\\site-packages\\statsmodels\\tsa\\statespace\\sarimax.py:966: UserWarning: Non-stationary starting autoregressive parameters found. Using zeros as starting parameters.\n",
      "  warn('Non-stationary starting autoregressive parameters'\n",
      "c:\\Users\\freud\\anaconda3\\envs\\tf310\\lib\\site-packages\\statsmodels\\tsa\\statespace\\sarimax.py:978: UserWarning: Non-invertible starting MA parameters found. Using zeros as starting parameters.\n",
      "  warn('Non-invertible starting MA parameters found.'\n"
     ]
    },
    {
     "name": "stdout",
     "output_type": "stream",
     "text": [
      "Zone 88329b5831fffff abgeschlossen in 3.75 Sekunden.\n",
      "Zone 88329b5831fffff - RMSE: 0.10, R2: -0.0156\n",
      "\n",
      "--- Bearbeite Zone 38/139: 88329b5835fffff ---\n",
      "Zone 88329b5835fffff - Refitting bei Schritt 1...\n",
      "Zone 88329b5835fffff - Refitting bei Schritt 49...\n",
      "Zone 88329b5835fffff abgeschlossen in 12.96 Sekunden.\n",
      "Zone 88329b5835fffff - RMSE: 0.54, R2: 0.2606\n",
      "\n",
      "--- Bearbeite Zone 39/139: 88329b5839fffff ---\n",
      "Zone 88329b5839fffff - Refitting bei Schritt 1...\n"
     ]
    },
    {
     "name": "stderr",
     "output_type": "stream",
     "text": [
      "c:\\Users\\freud\\anaconda3\\envs\\tf310\\lib\\site-packages\\statsmodels\\tsa\\statespace\\sarimax.py:966: UserWarning: Non-stationary starting autoregressive parameters found. Using zeros as starting parameters.\n",
      "  warn('Non-stationary starting autoregressive parameters'\n",
      "c:\\Users\\freud\\anaconda3\\envs\\tf310\\lib\\site-packages\\statsmodels\\tsa\\statespace\\sarimax.py:978: UserWarning: Non-invertible starting MA parameters found. Using zeros as starting parameters.\n",
      "  warn('Non-invertible starting MA parameters found.'\n"
     ]
    },
    {
     "name": "stdout",
     "output_type": "stream",
     "text": [
      "Zone 88329b5839fffff - Refitting bei Schritt 49...\n"
     ]
    },
    {
     "name": "stderr",
     "output_type": "stream",
     "text": [
      "c:\\Users\\freud\\anaconda3\\envs\\tf310\\lib\\site-packages\\statsmodels\\tsa\\statespace\\sarimax.py:966: UserWarning: Non-stationary starting autoregressive parameters found. Using zeros as starting parameters.\n",
      "  warn('Non-stationary starting autoregressive parameters'\n",
      "c:\\Users\\freud\\anaconda3\\envs\\tf310\\lib\\site-packages\\statsmodels\\tsa\\statespace\\sarimax.py:978: UserWarning: Non-invertible starting MA parameters found. Using zeros as starting parameters.\n",
      "  warn('Non-invertible starting MA parameters found.'\n"
     ]
    },
    {
     "name": "stdout",
     "output_type": "stream",
     "text": [
      "Zone 88329b5839fffff abgeschlossen in 8.55 Sekunden.\n",
      "Zone 88329b5839fffff - RMSE: 1.00, R2: 0.2471\n",
      "\n",
      "--- Bearbeite Zone 40/139: 88329b583bfffff ---\n",
      "Zone 88329b583bfffff - Refitting bei Schritt 1...\n"
     ]
    },
    {
     "name": "stderr",
     "output_type": "stream",
     "text": [
      "c:\\Users\\freud\\anaconda3\\envs\\tf310\\lib\\site-packages\\statsmodels\\tsa\\statespace\\sarimax.py:966: UserWarning: Non-stationary starting autoregressive parameters found. Using zeros as starting parameters.\n",
      "  warn('Non-stationary starting autoregressive parameters'\n",
      "c:\\Users\\freud\\anaconda3\\envs\\tf310\\lib\\site-packages\\statsmodels\\tsa\\statespace\\sarimax.py:978: UserWarning: Non-invertible starting MA parameters found. Using zeros as starting parameters.\n",
      "  warn('Non-invertible starting MA parameters found.'\n"
     ]
    },
    {
     "name": "stdout",
     "output_type": "stream",
     "text": [
      "Zone 88329b583bfffff - Refitting bei Schritt 49...\n"
     ]
    },
    {
     "name": "stderr",
     "output_type": "stream",
     "text": [
      "c:\\Users\\freud\\anaconda3\\envs\\tf310\\lib\\site-packages\\statsmodels\\tsa\\statespace\\sarimax.py:966: UserWarning: Non-stationary starting autoregressive parameters found. Using zeros as starting parameters.\n",
      "  warn('Non-stationary starting autoregressive parameters'\n",
      "c:\\Users\\freud\\anaconda3\\envs\\tf310\\lib\\site-packages\\statsmodels\\tsa\\statespace\\sarimax.py:978: UserWarning: Non-invertible starting MA parameters found. Using zeros as starting parameters.\n",
      "  warn('Non-invertible starting MA parameters found.'\n"
     ]
    },
    {
     "name": "stdout",
     "output_type": "stream",
     "text": [
      "Zone 88329b583bfffff abgeschlossen in 18.69 Sekunden.\n",
      "Zone 88329b583bfffff - RMSE: 0.40, R2: 0.3901\n",
      "\n",
      "--- Bearbeite Zone 41/139: 88329b5851fffff ---\n",
      "Zone 88329b5851fffff - Refitting bei Schritt 1...\n"
     ]
    },
    {
     "name": "stderr",
     "output_type": "stream",
     "text": [
      "c:\\Users\\freud\\anaconda3\\envs\\tf310\\lib\\site-packages\\statsmodels\\tsa\\statespace\\sarimax.py:966: UserWarning: Non-stationary starting autoregressive parameters found. Using zeros as starting parameters.\n",
      "  warn('Non-stationary starting autoregressive parameters'\n"
     ]
    },
    {
     "name": "stdout",
     "output_type": "stream",
     "text": [
      "Zone 88329b5851fffff - Refitting bei Schritt 49...\n"
     ]
    },
    {
     "name": "stderr",
     "output_type": "stream",
     "text": [
      "c:\\Users\\freud\\anaconda3\\envs\\tf310\\lib\\site-packages\\statsmodels\\tsa\\statespace\\sarimax.py:966: UserWarning: Non-stationary starting autoregressive parameters found. Using zeros as starting parameters.\n",
      "  warn('Non-stationary starting autoregressive parameters'\n"
     ]
    },
    {
     "name": "stdout",
     "output_type": "stream",
     "text": [
      "Zone 88329b5851fffff abgeschlossen in 9.61 Sekunden.\n",
      "Zone 88329b5851fffff - RMSE: 2.02, R2: 0.6010\n",
      "\n",
      "--- Bearbeite Zone 42/139: 88329b5853fffff ---\n",
      "Zone 88329b5853fffff - Refitting bei Schritt 1...\n",
      "Zone 88329b5853fffff - Refitting bei Schritt 49...\n",
      "Zone 88329b5853fffff abgeschlossen in 7.11 Sekunden.\n",
      "Zone 88329b5853fffff - RMSE: 2.78, R2: 0.7572\n",
      "\n",
      "--- Bearbeite Zone 43/139: 88329b5855fffff ---\n",
      "Zone 88329b5855fffff - Refitting bei Schritt 1...\n",
      "Zone 88329b5855fffff - Refitting bei Schritt 49...\n",
      "Zone 88329b5855fffff abgeschlossen in 9.63 Sekunden.\n",
      "Zone 88329b5855fffff - RMSE: 0.60, R2: 0.4876\n",
      "\n",
      "--- Bearbeite Zone 44/139: 88329b5857fffff ---\n",
      "Zone 88329b5857fffff - Refitting bei Schritt 1...\n",
      "Zone 88329b5857fffff - Refitting bei Schritt 49...\n",
      "Zone 88329b5857fffff abgeschlossen in 8.95 Sekunden.\n",
      "Zone 88329b5857fffff - RMSE: 3.92, R2: 0.9305\n",
      "\n",
      "--- Bearbeite Zone 45/139: 88329b5859fffff ---\n",
      "Zone 88329b5859fffff - Refitting bei Schritt 1...\n"
     ]
    },
    {
     "name": "stderr",
     "output_type": "stream",
     "text": [
      "c:\\Users\\freud\\anaconda3\\envs\\tf310\\lib\\site-packages\\statsmodels\\tsa\\statespace\\sarimax.py:966: UserWarning: Non-stationary starting autoregressive parameters found. Using zeros as starting parameters.\n",
      "  warn('Non-stationary starting autoregressive parameters'\n"
     ]
    },
    {
     "name": "stdout",
     "output_type": "stream",
     "text": [
      "Zone 88329b5859fffff - Refitting bei Schritt 49...\n"
     ]
    },
    {
     "name": "stderr",
     "output_type": "stream",
     "text": [
      "c:\\Users\\freud\\anaconda3\\envs\\tf310\\lib\\site-packages\\statsmodels\\tsa\\statespace\\sarimax.py:966: UserWarning: Non-stationary starting autoregressive parameters found. Using zeros as starting parameters.\n",
      "  warn('Non-stationary starting autoregressive parameters'\n"
     ]
    },
    {
     "name": "stdout",
     "output_type": "stream",
     "text": [
      "Zone 88329b5859fffff abgeschlossen in 15.14 Sekunden.\n",
      "Zone 88329b5859fffff - RMSE: 1.26, R2: 0.6229\n",
      "\n",
      "--- Bearbeite Zone 46/139: 88329b585bfffff ---\n",
      "Zone 88329b585bfffff - Refitting bei Schritt 1...\n"
     ]
    },
    {
     "name": "stderr",
     "output_type": "stream",
     "text": [
      "c:\\Users\\freud\\anaconda3\\envs\\tf310\\lib\\site-packages\\statsmodels\\tsa\\statespace\\sarimax.py:966: UserWarning: Non-stationary starting autoregressive parameters found. Using zeros as starting parameters.\n",
      "  warn('Non-stationary starting autoregressive parameters'\n"
     ]
    },
    {
     "name": "stdout",
     "output_type": "stream",
     "text": [
      "Zone 88329b585bfffff - Refitting bei Schritt 49...\n",
      "Zone 88329b585bfffff abgeschlossen in 6.17 Sekunden.\n",
      "Zone 88329b585bfffff - RMSE: 2.28, R2: 0.5518\n",
      "\n",
      "--- Bearbeite Zone 47/139: 88329b585dfffff ---\n",
      "Zone 88329b585dfffff - Refitting bei Schritt 1...\n"
     ]
    },
    {
     "name": "stderr",
     "output_type": "stream",
     "text": [
      "c:\\Users\\freud\\anaconda3\\envs\\tf310\\lib\\site-packages\\statsmodels\\tsa\\statespace\\sarimax.py:966: UserWarning: Non-stationary starting autoregressive parameters found. Using zeros as starting parameters.\n",
      "  warn('Non-stationary starting autoregressive parameters'\n"
     ]
    },
    {
     "name": "stdout",
     "output_type": "stream",
     "text": [
      "Zone 88329b585dfffff - Refitting bei Schritt 49...\n"
     ]
    },
    {
     "name": "stderr",
     "output_type": "stream",
     "text": [
      "c:\\Users\\freud\\anaconda3\\envs\\tf310\\lib\\site-packages\\statsmodels\\tsa\\statespace\\sarimax.py:966: UserWarning: Non-stationary starting autoregressive parameters found. Using zeros as starting parameters.\n",
      "  warn('Non-stationary starting autoregressive parameters'\n"
     ]
    },
    {
     "name": "stdout",
     "output_type": "stream",
     "text": [
      "Zone 88329b585dfffff abgeschlossen in 9.96 Sekunden.\n",
      "Zone 88329b585dfffff - RMSE: 0.50, R2: 0.0270\n",
      "\n",
      "--- Bearbeite Zone 48/139: 88329b5863fffff ---\n",
      "Zone 88329b5863fffff - Refitting bei Schritt 1...\n"
     ]
    },
    {
     "name": "stderr",
     "output_type": "stream",
     "text": [
      "c:\\Users\\freud\\anaconda3\\envs\\tf310\\lib\\site-packages\\statsmodels\\tsa\\statespace\\sarimax.py:966: UserWarning: Non-stationary starting autoregressive parameters found. Using zeros as starting parameters.\n",
      "  warn('Non-stationary starting autoregressive parameters'\n"
     ]
    },
    {
     "name": "stdout",
     "output_type": "stream",
     "text": [
      "Zone 88329b5863fffff - Refitting bei Schritt 49...\n"
     ]
    },
    {
     "name": "stderr",
     "output_type": "stream",
     "text": [
      "c:\\Users\\freud\\anaconda3\\envs\\tf310\\lib\\site-packages\\statsmodels\\tsa\\statespace\\sarimax.py:966: UserWarning: Non-stationary starting autoregressive parameters found. Using zeros as starting parameters.\n",
      "  warn('Non-stationary starting autoregressive parameters'\n"
     ]
    },
    {
     "name": "stdout",
     "output_type": "stream",
     "text": [
      "Zone 88329b5863fffff abgeschlossen in 11.86 Sekunden.\n",
      "Zone 88329b5863fffff - RMSE: 6.62, R2: 0.9275\n",
      "\n",
      "--- Bearbeite Zone 49/139: 88329b586bfffff ---\n",
      "Zone 88329b586bfffff - Refitting bei Schritt 1...\n",
      "Zone 88329b586bfffff - Refitting bei Schritt 49...\n",
      "Zone 88329b586bfffff abgeschlossen in 6.86 Sekunden.\n",
      "Zone 88329b586bfffff - RMSE: 0.49, R2: 0.4015\n",
      "\n",
      "--- Bearbeite Zone 50/139: 88329b5881fffff ---\n",
      "Zone 88329b5881fffff - Refitting bei Schritt 1...\n"
     ]
    },
    {
     "name": "stderr",
     "output_type": "stream",
     "text": [
      "c:\\Users\\freud\\anaconda3\\envs\\tf310\\lib\\site-packages\\statsmodels\\tsa\\statespace\\sarimax.py:966: UserWarning: Non-stationary starting autoregressive parameters found. Using zeros as starting parameters.\n",
      "  warn('Non-stationary starting autoregressive parameters'\n"
     ]
    },
    {
     "name": "stdout",
     "output_type": "stream",
     "text": [
      "Zone 88329b5881fffff - Refitting bei Schritt 49...\n"
     ]
    },
    {
     "name": "stderr",
     "output_type": "stream",
     "text": [
      "c:\\Users\\freud\\anaconda3\\envs\\tf310\\lib\\site-packages\\statsmodels\\tsa\\statespace\\sarimax.py:966: UserWarning: Non-stationary starting autoregressive parameters found. Using zeros as starting parameters.\n",
      "  warn('Non-stationary starting autoregressive parameters'\n"
     ]
    },
    {
     "name": "stdout",
     "output_type": "stream",
     "text": [
      "Zone 88329b5881fffff abgeschlossen in 7.92 Sekunden.\n",
      "Zone 88329b5881fffff - RMSE: 2.09, R2: 0.7608\n",
      "\n",
      "--- Bearbeite Zone 51/139: 88329b5883fffff ---\n",
      "Zone 88329b5883fffff - Refitting bei Schritt 1...\n",
      "Zone 88329b5883fffff - Refitting bei Schritt 49...\n",
      "Zone 88329b5883fffff abgeschlossen in 10.29 Sekunden.\n",
      "Zone 88329b5883fffff - RMSE: 3.80, R2: 0.9254\n",
      "\n",
      "--- Bearbeite Zone 52/139: 88329b5885fffff ---\n",
      "Zone 88329b5885fffff - Refitting bei Schritt 1...\n"
     ]
    },
    {
     "name": "stderr",
     "output_type": "stream",
     "text": [
      "c:\\Users\\freud\\anaconda3\\envs\\tf310\\lib\\site-packages\\statsmodels\\tsa\\statespace\\sarimax.py:966: UserWarning: Non-stationary starting autoregressive parameters found. Using zeros as starting parameters.\n",
      "  warn('Non-stationary starting autoregressive parameters'\n"
     ]
    },
    {
     "name": "stdout",
     "output_type": "stream",
     "text": [
      "Zone 88329b5885fffff - Refitting bei Schritt 49...\n"
     ]
    },
    {
     "name": "stderr",
     "output_type": "stream",
     "text": [
      "c:\\Users\\freud\\anaconda3\\envs\\tf310\\lib\\site-packages\\statsmodels\\tsa\\statespace\\sarimax.py:966: UserWarning: Non-stationary starting autoregressive parameters found. Using zeros as starting parameters.\n",
      "  warn('Non-stationary starting autoregressive parameters'\n"
     ]
    },
    {
     "name": "stdout",
     "output_type": "stream",
     "text": [
      "Zone 88329b5885fffff abgeschlossen in 7.41 Sekunden.\n",
      "Zone 88329b5885fffff - RMSE: 1.47, R2: 0.6627\n",
      "\n",
      "--- Bearbeite Zone 53/139: 88329b5887fffff ---\n",
      "Zone 88329b5887fffff - Refitting bei Schritt 1...\n"
     ]
    },
    {
     "name": "stderr",
     "output_type": "stream",
     "text": [
      "c:\\Users\\freud\\anaconda3\\envs\\tf310\\lib\\site-packages\\statsmodels\\tsa\\statespace\\sarimax.py:966: UserWarning: Non-stationary starting autoregressive parameters found. Using zeros as starting parameters.\n",
      "  warn('Non-stationary starting autoregressive parameters'\n"
     ]
    },
    {
     "name": "stdout",
     "output_type": "stream",
     "text": [
      "Zone 88329b5887fffff - Refitting bei Schritt 49...\n"
     ]
    },
    {
     "name": "stderr",
     "output_type": "stream",
     "text": [
      "c:\\Users\\freud\\anaconda3\\envs\\tf310\\lib\\site-packages\\statsmodels\\tsa\\statespace\\sarimax.py:966: UserWarning: Non-stationary starting autoregressive parameters found. Using zeros as starting parameters.\n",
      "  warn('Non-stationary starting autoregressive parameters'\n"
     ]
    },
    {
     "name": "stdout",
     "output_type": "stream",
     "text": [
      "Zone 88329b5887fffff abgeschlossen in 9.24 Sekunden.\n",
      "Zone 88329b5887fffff - RMSE: 1.20, R2: 0.8281\n",
      "\n",
      "--- Bearbeite Zone 54/139: 88329b5889fffff ---\n",
      "Zone 88329b5889fffff - Refitting bei Schritt 1...\n"
     ]
    },
    {
     "name": "stderr",
     "output_type": "stream",
     "text": [
      "c:\\Users\\freud\\anaconda3\\envs\\tf310\\lib\\site-packages\\statsmodels\\tsa\\statespace\\sarimax.py:966: UserWarning: Non-stationary starting autoregressive parameters found. Using zeros as starting parameters.\n",
      "  warn('Non-stationary starting autoregressive parameters'\n"
     ]
    },
    {
     "name": "stdout",
     "output_type": "stream",
     "text": [
      "Zone 88329b5889fffff - Refitting bei Schritt 49...\n"
     ]
    },
    {
     "name": "stderr",
     "output_type": "stream",
     "text": [
      "c:\\Users\\freud\\anaconda3\\envs\\tf310\\lib\\site-packages\\statsmodels\\tsa\\statespace\\sarimax.py:966: UserWarning: Non-stationary starting autoregressive parameters found. Using zeros as starting parameters.\n",
      "  warn('Non-stationary starting autoregressive parameters'\n"
     ]
    },
    {
     "name": "stdout",
     "output_type": "stream",
     "text": [
      "Zone 88329b5889fffff abgeschlossen in 15.25 Sekunden.\n",
      "Zone 88329b5889fffff - RMSE: 4.38, R2: 0.9703\n",
      "\n",
      "--- Bearbeite Zone 55/139: 88329b588bfffff ---\n",
      "Zone 88329b588bfffff - Refitting bei Schritt 1...\n"
     ]
    },
    {
     "name": "stderr",
     "output_type": "stream",
     "text": [
      "c:\\Users\\freud\\anaconda3\\envs\\tf310\\lib\\site-packages\\statsmodels\\tsa\\statespace\\sarimax.py:966: UserWarning: Non-stationary starting autoregressive parameters found. Using zeros as starting parameters.\n",
      "  warn('Non-stationary starting autoregressive parameters'\n"
     ]
    },
    {
     "name": "stdout",
     "output_type": "stream",
     "text": [
      "Zone 88329b588bfffff - Refitting bei Schritt 49...\n"
     ]
    },
    {
     "name": "stderr",
     "output_type": "stream",
     "text": [
      "c:\\Users\\freud\\anaconda3\\envs\\tf310\\lib\\site-packages\\statsmodels\\tsa\\statespace\\sarimax.py:966: UserWarning: Non-stationary starting autoregressive parameters found. Using zeros as starting parameters.\n",
      "  warn('Non-stationary starting autoregressive parameters'\n"
     ]
    },
    {
     "name": "stdout",
     "output_type": "stream",
     "text": [
      "Zone 88329b588bfffff abgeschlossen in 8.64 Sekunden.\n",
      "Zone 88329b588bfffff - RMSE: 3.42, R2: 0.8258\n",
      "\n",
      "--- Bearbeite Zone 56/139: 88329b588dfffff ---\n",
      "Zone 88329b588dfffff - Refitting bei Schritt 1...\n"
     ]
    },
    {
     "name": "stderr",
     "output_type": "stream",
     "text": [
      "c:\\Users\\freud\\anaconda3\\envs\\tf310\\lib\\site-packages\\statsmodels\\tsa\\statespace\\sarimax.py:966: UserWarning: Non-stationary starting autoregressive parameters found. Using zeros as starting parameters.\n",
      "  warn('Non-stationary starting autoregressive parameters'\n"
     ]
    },
    {
     "name": "stdout",
     "output_type": "stream",
     "text": [
      "Zone 88329b588dfffff - Refitting bei Schritt 49...\n"
     ]
    },
    {
     "name": "stderr",
     "output_type": "stream",
     "text": [
      "c:\\Users\\freud\\anaconda3\\envs\\tf310\\lib\\site-packages\\statsmodels\\tsa\\statespace\\sarimax.py:966: UserWarning: Non-stationary starting autoregressive parameters found. Using zeros as starting parameters.\n",
      "  warn('Non-stationary starting autoregressive parameters'\n"
     ]
    },
    {
     "name": "stdout",
     "output_type": "stream",
     "text": [
      "Zone 88329b588dfffff abgeschlossen in 13.09 Sekunden.\n",
      "Zone 88329b588dfffff - RMSE: 6.44, R2: 0.9739\n",
      "\n",
      "--- Bearbeite Zone 57/139: 88329b5895fffff ---\n",
      "Zone 88329b5895fffff - Refitting bei Schritt 1...\n",
      "Zone 88329b5895fffff - Refitting bei Schritt 49...\n",
      "Zone 88329b5895fffff abgeschlossen in 8.80 Sekunden.\n",
      "Zone 88329b5895fffff - RMSE: 3.42, R2: 0.9068\n",
      "\n",
      "--- Bearbeite Zone 58/139: 88329b589dfffff ---\n",
      "Zone 88329b589dfffff - Refitting bei Schritt 1...\n",
      "Zone 88329b589dfffff - Refitting bei Schritt 49...\n",
      "Zone 88329b589dfffff abgeschlossen in 13.04 Sekunden.\n",
      "Zone 88329b589dfffff - RMSE: 2.43, R2: 0.7240\n",
      "\n",
      "--- Bearbeite Zone 59/139: 88329b58a1fffff ---\n",
      "Zone 88329b58a1fffff - Refitting bei Schritt 1...\n",
      "Zone 88329b58a1fffff - Refitting bei Schritt 49...\n",
      "Zone 88329b58a1fffff abgeschlossen in 7.74 Sekunden.\n",
      "Zone 88329b58a1fffff - RMSE: 0.81, R2: 0.5137\n",
      "\n",
      "--- Bearbeite Zone 60/139: 88329b58a3fffff ---\n",
      "Zone 88329b58a3fffff - Refitting bei Schritt 1...\n",
      "Zone 88329b58a3fffff - Refitting bei Schritt 49...\n",
      "Zone 88329b58a3fffff abgeschlossen in 7.27 Sekunden.\n",
      "Zone 88329b58a3fffff - RMSE: 1.36, R2: 0.6453\n",
      "\n",
      "--- Bearbeite Zone 61/139: 88329b58a9fffff ---\n",
      "Zone 88329b58a9fffff - Refitting bei Schritt 1...\n"
     ]
    },
    {
     "name": "stderr",
     "output_type": "stream",
     "text": [
      "c:\\Users\\freud\\anaconda3\\envs\\tf310\\lib\\site-packages\\statsmodels\\tsa\\statespace\\sarimax.py:966: UserWarning: Non-stationary starting autoregressive parameters found. Using zeros as starting parameters.\n",
      "  warn('Non-stationary starting autoregressive parameters'\n",
      "c:\\Users\\freud\\anaconda3\\envs\\tf310\\lib\\site-packages\\statsmodels\\tsa\\statespace\\sarimax.py:978: UserWarning: Non-invertible starting MA parameters found. Using zeros as starting parameters.\n",
      "  warn('Non-invertible starting MA parameters found.'\n"
     ]
    },
    {
     "name": "stdout",
     "output_type": "stream",
     "text": [
      "Zone 88329b58a9fffff - Refitting bei Schritt 49...\n"
     ]
    },
    {
     "name": "stderr",
     "output_type": "stream",
     "text": [
      "c:\\Users\\freud\\anaconda3\\envs\\tf310\\lib\\site-packages\\statsmodels\\tsa\\statespace\\sarimax.py:966: UserWarning: Non-stationary starting autoregressive parameters found. Using zeros as starting parameters.\n",
      "  warn('Non-stationary starting autoregressive parameters'\n",
      "c:\\Users\\freud\\anaconda3\\envs\\tf310\\lib\\site-packages\\statsmodels\\tsa\\statespace\\sarimax.py:978: UserWarning: Non-invertible starting MA parameters found. Using zeros as starting parameters.\n",
      "  warn('Non-invertible starting MA parameters found.'\n"
     ]
    },
    {
     "name": "stdout",
     "output_type": "stream",
     "text": [
      "Zone 88329b58a9fffff abgeschlossen in 10.00 Sekunden.\n",
      "Zone 88329b58a9fffff - RMSE: 0.69, R2: 0.3933\n",
      "\n",
      "--- Bearbeite Zone 62/139: 88329b58abfffff ---\n",
      "Zone 88329b58abfffff - Refitting bei Schritt 1...\n"
     ]
    },
    {
     "name": "stderr",
     "output_type": "stream",
     "text": [
      "c:\\Users\\freud\\anaconda3\\envs\\tf310\\lib\\site-packages\\statsmodels\\tsa\\statespace\\sarimax.py:966: UserWarning: Non-stationary starting autoregressive parameters found. Using zeros as starting parameters.\n",
      "  warn('Non-stationary starting autoregressive parameters'\n"
     ]
    },
    {
     "name": "stdout",
     "output_type": "stream",
     "text": [
      "Zone 88329b58abfffff - Refitting bei Schritt 49...\n",
      "Zone 88329b58abfffff abgeschlossen in 8.84 Sekunden.\n",
      "Zone 88329b58abfffff - RMSE: 0.82, R2: 0.2941\n",
      "\n",
      "--- Bearbeite Zone 63/139: 88329b58adfffff ---\n",
      "Zone 88329b58adfffff - Refitting bei Schritt 1...\n",
      "Zone 88329b58adfffff - Refitting bei Schritt 49...\n",
      "Zone 88329b58adfffff abgeschlossen in 12.93 Sekunden.\n",
      "Zone 88329b58adfffff - RMSE: 0.58, R2: 0.0550\n",
      "\n",
      "--- Bearbeite Zone 64/139: 88329b58b1fffff ---\n",
      "Zone 88329b58b1fffff - Refitting bei Schritt 1...\n"
     ]
    },
    {
     "name": "stderr",
     "output_type": "stream",
     "text": [
      "c:\\Users\\freud\\anaconda3\\envs\\tf310\\lib\\site-packages\\statsmodels\\tsa\\statespace\\sarimax.py:966: UserWarning: Non-stationary starting autoregressive parameters found. Using zeros as starting parameters.\n",
      "  warn('Non-stationary starting autoregressive parameters'\n"
     ]
    },
    {
     "name": "stdout",
     "output_type": "stream",
     "text": [
      "Zone 88329b58b1fffff - Refitting bei Schritt 49...\n"
     ]
    },
    {
     "name": "stderr",
     "output_type": "stream",
     "text": [
      "c:\\Users\\freud\\anaconda3\\envs\\tf310\\lib\\site-packages\\statsmodels\\tsa\\statespace\\sarimax.py:966: UserWarning: Non-stationary starting autoregressive parameters found. Using zeros as starting parameters.\n",
      "  warn('Non-stationary starting autoregressive parameters'\n"
     ]
    },
    {
     "name": "stdout",
     "output_type": "stream",
     "text": [
      "Zone 88329b58b1fffff abgeschlossen in 16.48 Sekunden.\n",
      "Zone 88329b58b1fffff - RMSE: 0.69, R2: 0.2998\n",
      "\n",
      "--- Bearbeite Zone 65/139: 88329b58b3fffff ---\n",
      "Zone 88329b58b3fffff - Refitting bei Schritt 1...\n",
      "Zone 88329b58b3fffff - Refitting bei Schritt 49...\n",
      "Zone 88329b58b3fffff abgeschlossen in 8.16 Sekunden.\n",
      "Zone 88329b58b3fffff - RMSE: 1.75, R2: 0.7684\n",
      "\n",
      "--- Bearbeite Zone 66/139: 88329b58b9fffff ---\n",
      "Zone 88329b58b9fffff - Refitting bei Schritt 1...\n"
     ]
    },
    {
     "name": "stderr",
     "output_type": "stream",
     "text": [
      "c:\\Users\\freud\\anaconda3\\envs\\tf310\\lib\\site-packages\\statsmodels\\tsa\\statespace\\sarimax.py:966: UserWarning: Non-stationary starting autoregressive parameters found. Using zeros as starting parameters.\n",
      "  warn('Non-stationary starting autoregressive parameters'\n"
     ]
    },
    {
     "name": "stdout",
     "output_type": "stream",
     "text": [
      "Zone 88329b58b9fffff - Refitting bei Schritt 49...\n"
     ]
    },
    {
     "name": "stderr",
     "output_type": "stream",
     "text": [
      "c:\\Users\\freud\\anaconda3\\envs\\tf310\\lib\\site-packages\\statsmodels\\tsa\\statespace\\sarimax.py:966: UserWarning: Non-stationary starting autoregressive parameters found. Using zeros as starting parameters.\n",
      "  warn('Non-stationary starting autoregressive parameters'\n"
     ]
    },
    {
     "name": "stdout",
     "output_type": "stream",
     "text": [
      "Zone 88329b58b9fffff abgeschlossen in 14.84 Sekunden.\n",
      "Zone 88329b58b9fffff - RMSE: 1.79, R2: 0.8642\n",
      "\n",
      "--- Bearbeite Zone 67/139: 88329b58bbfffff ---\n",
      "Zone 88329b58bbfffff - Refitting bei Schritt 1...\n"
     ]
    },
    {
     "name": "stderr",
     "output_type": "stream",
     "text": [
      "c:\\Users\\freud\\anaconda3\\envs\\tf310\\lib\\site-packages\\statsmodels\\tsa\\statespace\\sarimax.py:966: UserWarning: Non-stationary starting autoregressive parameters found. Using zeros as starting parameters.\n",
      "  warn('Non-stationary starting autoregressive parameters'\n",
      "c:\\Users\\freud\\anaconda3\\envs\\tf310\\lib\\site-packages\\statsmodels\\tsa\\statespace\\sarimax.py:978: UserWarning: Non-invertible starting MA parameters found. Using zeros as starting parameters.\n",
      "  warn('Non-invertible starting MA parameters found.'\n"
     ]
    },
    {
     "name": "stdout",
     "output_type": "stream",
     "text": [
      "Zone 88329b58bbfffff - Refitting bei Schritt 49...\n"
     ]
    },
    {
     "name": "stderr",
     "output_type": "stream",
     "text": [
      "c:\\Users\\freud\\anaconda3\\envs\\tf310\\lib\\site-packages\\statsmodels\\tsa\\statespace\\sarimax.py:966: UserWarning: Non-stationary starting autoregressive parameters found. Using zeros as starting parameters.\n",
      "  warn('Non-stationary starting autoregressive parameters'\n"
     ]
    },
    {
     "name": "stdout",
     "output_type": "stream",
     "text": [
      "Zone 88329b58bbfffff abgeschlossen in 10.40 Sekunden.\n",
      "Zone 88329b58bbfffff - RMSE: 0.73, R2: 0.3939\n",
      "\n",
      "--- Bearbeite Zone 68/139: 88329b58bdfffff ---\n",
      "Zone 88329b58bdfffff - Refitting bei Schritt 1...\n",
      "Zone 88329b58bdfffff - Refitting bei Schritt 49...\n",
      "Zone 88329b58bdfffff abgeschlossen in 8.25 Sekunden.\n",
      "Zone 88329b58bdfffff - RMSE: 4.97, R2: 0.9299\n",
      "\n",
      "--- Bearbeite Zone 69/139: 88329b58c1fffff ---\n",
      "Zone 88329b58c1fffff - Refitting bei Schritt 1...\n"
     ]
    },
    {
     "name": "stderr",
     "output_type": "stream",
     "text": [
      "c:\\Users\\freud\\anaconda3\\envs\\tf310\\lib\\site-packages\\statsmodels\\tsa\\statespace\\sarimax.py:966: UserWarning: Non-stationary starting autoregressive parameters found. Using zeros as starting parameters.\n",
      "  warn('Non-stationary starting autoregressive parameters'\n"
     ]
    },
    {
     "name": "stdout",
     "output_type": "stream",
     "text": [
      "Zone 88329b58c1fffff - Refitting bei Schritt 49...\n"
     ]
    },
    {
     "name": "stderr",
     "output_type": "stream",
     "text": [
      "c:\\Users\\freud\\anaconda3\\envs\\tf310\\lib\\site-packages\\statsmodels\\tsa\\statespace\\sarimax.py:966: UserWarning: Non-stationary starting autoregressive parameters found. Using zeros as starting parameters.\n",
      "  warn('Non-stationary starting autoregressive parameters'\n"
     ]
    },
    {
     "name": "stdout",
     "output_type": "stream",
     "text": [
      "Zone 88329b58c1fffff abgeschlossen in 8.27 Sekunden.\n",
      "Zone 88329b58c1fffff - RMSE: 2.64, R2: 0.7653\n",
      "\n",
      "--- Bearbeite Zone 70/139: 88329b58c3fffff ---\n",
      "Zone 88329b58c3fffff - Refitting bei Schritt 1...\n"
     ]
    },
    {
     "name": "stderr",
     "output_type": "stream",
     "text": [
      "c:\\Users\\freud\\anaconda3\\envs\\tf310\\lib\\site-packages\\statsmodels\\tsa\\statespace\\sarimax.py:966: UserWarning: Non-stationary starting autoregressive parameters found. Using zeros as starting parameters.\n",
      "  warn('Non-stationary starting autoregressive parameters'\n"
     ]
    },
    {
     "name": "stdout",
     "output_type": "stream",
     "text": [
      "Zone 88329b58c3fffff - Refitting bei Schritt 49...\n"
     ]
    },
    {
     "name": "stderr",
     "output_type": "stream",
     "text": [
      "c:\\Users\\freud\\anaconda3\\envs\\tf310\\lib\\site-packages\\statsmodels\\tsa\\statespace\\sarimax.py:966: UserWarning: Non-stationary starting autoregressive parameters found. Using zeros as starting parameters.\n",
      "  warn('Non-stationary starting autoregressive parameters'\n"
     ]
    },
    {
     "name": "stdout",
     "output_type": "stream",
     "text": [
      "Zone 88329b58c3fffff abgeschlossen in 12.64 Sekunden.\n",
      "Zone 88329b58c3fffff - RMSE: 5.36, R2: 0.9208\n",
      "\n",
      "--- Bearbeite Zone 71/139: 88329b58c5fffff ---\n",
      "Zone 88329b58c5fffff - Refitting bei Schritt 1...\n"
     ]
    },
    {
     "name": "stderr",
     "output_type": "stream",
     "text": [
      "c:\\Users\\freud\\anaconda3\\envs\\tf310\\lib\\site-packages\\statsmodels\\tsa\\statespace\\sarimax.py:966: UserWarning: Non-stationary starting autoregressive parameters found. Using zeros as starting parameters.\n",
      "  warn('Non-stationary starting autoregressive parameters'\n"
     ]
    },
    {
     "name": "stdout",
     "output_type": "stream",
     "text": [
      "Zone 88329b58c5fffff - Refitting bei Schritt 49...\n"
     ]
    },
    {
     "name": "stderr",
     "output_type": "stream",
     "text": [
      "c:\\Users\\freud\\anaconda3\\envs\\tf310\\lib\\site-packages\\statsmodels\\tsa\\statespace\\sarimax.py:966: UserWarning: Non-stationary starting autoregressive parameters found. Using zeros as starting parameters.\n",
      "  warn('Non-stationary starting autoregressive parameters'\n"
     ]
    },
    {
     "name": "stdout",
     "output_type": "stream",
     "text": [
      "Zone 88329b58c5fffff abgeschlossen in 9.53 Sekunden.\n",
      "Zone 88329b58c5fffff - RMSE: 3.51, R2: 0.8223\n",
      "\n",
      "--- Bearbeite Zone 72/139: 88329b58c7fffff ---\n",
      "Zone 88329b58c7fffff - Refitting bei Schritt 1...\n",
      "Zone 88329b58c7fffff - Refitting bei Schritt 49...\n",
      "Zone 88329b58c7fffff abgeschlossen in 8.41 Sekunden.\n",
      "Zone 88329b58c7fffff - RMSE: 4.04, R2: 0.7639\n",
      "\n",
      "--- Bearbeite Zone 73/139: 88329b58c9fffff ---\n",
      "Zone 88329b58c9fffff - Refitting bei Schritt 1...\n",
      "Zone 88329b58c9fffff - Refitting bei Schritt 49...\n",
      "Zone 88329b58c9fffff abgeschlossen in 7.32 Sekunden.\n",
      "Zone 88329b58c9fffff - RMSE: 0.75, R2: 0.2345\n",
      "\n",
      "--- Bearbeite Zone 74/139: 88329b58cbfffff ---\n",
      "Zone 88329b58cbfffff - Refitting bei Schritt 1...\n"
     ]
    },
    {
     "name": "stderr",
     "output_type": "stream",
     "text": [
      "c:\\Users\\freud\\anaconda3\\envs\\tf310\\lib\\site-packages\\statsmodels\\tsa\\statespace\\sarimax.py:966: UserWarning: Non-stationary starting autoregressive parameters found. Using zeros as starting parameters.\n",
      "  warn('Non-stationary starting autoregressive parameters'\n"
     ]
    },
    {
     "name": "stdout",
     "output_type": "stream",
     "text": [
      "Zone 88329b58cbfffff - Refitting bei Schritt 49...\n",
      "Zone 88329b58cbfffff abgeschlossen in 7.11 Sekunden.\n",
      "Zone 88329b58cbfffff - RMSE: 7.37, R2: 0.9199\n",
      "\n",
      "--- Bearbeite Zone 75/139: 88329b58cdfffff ---\n",
      "Zone 88329b58cdfffff - Refitting bei Schritt 1...\n",
      "Zone 88329b58cdfffff - Refitting bei Schritt 49...\n",
      "Zone 88329b58cdfffff abgeschlossen in 8.53 Sekunden.\n",
      "Zone 88329b58cdfffff - RMSE: 3.20, R2: 0.9392\n",
      "\n",
      "--- Bearbeite Zone 76/139: 88329b58d1fffff ---\n",
      "Zone 88329b58d1fffff - Refitting bei Schritt 1...\n"
     ]
    },
    {
     "name": "stderr",
     "output_type": "stream",
     "text": [
      "c:\\Users\\freud\\anaconda3\\envs\\tf310\\lib\\site-packages\\statsmodels\\tsa\\statespace\\sarimax.py:966: UserWarning: Non-stationary starting autoregressive parameters found. Using zeros as starting parameters.\n",
      "  warn('Non-stationary starting autoregressive parameters'\n"
     ]
    },
    {
     "name": "stdout",
     "output_type": "stream",
     "text": [
      "Zone 88329b58d1fffff - Refitting bei Schritt 49...\n"
     ]
    },
    {
     "name": "stderr",
     "output_type": "stream",
     "text": [
      "c:\\Users\\freud\\anaconda3\\envs\\tf310\\lib\\site-packages\\statsmodels\\tsa\\statespace\\sarimax.py:966: UserWarning: Non-stationary starting autoregressive parameters found. Using zeros as starting parameters.\n",
      "  warn('Non-stationary starting autoregressive parameters'\n"
     ]
    },
    {
     "name": "stdout",
     "output_type": "stream",
     "text": [
      "Zone 88329b58d1fffff abgeschlossen in 9.62 Sekunden.\n",
      "Zone 88329b58d1fffff - RMSE: 2.04, R2: 0.6953\n",
      "\n",
      "--- Bearbeite Zone 77/139: 88329b58d3fffff ---\n",
      "Zone 88329b58d3fffff - Refitting bei Schritt 1...\n"
     ]
    },
    {
     "name": "stderr",
     "output_type": "stream",
     "text": [
      "c:\\Users\\freud\\anaconda3\\envs\\tf310\\lib\\site-packages\\statsmodels\\tsa\\statespace\\sarimax.py:966: UserWarning: Non-stationary starting autoregressive parameters found. Using zeros as starting parameters.\n",
      "  warn('Non-stationary starting autoregressive parameters'\n",
      "c:\\Users\\freud\\anaconda3\\envs\\tf310\\lib\\site-packages\\statsmodels\\tsa\\statespace\\sarimax.py:978: UserWarning: Non-invertible starting MA parameters found. Using zeros as starting parameters.\n",
      "  warn('Non-invertible starting MA parameters found.'\n"
     ]
    },
    {
     "name": "stdout",
     "output_type": "stream",
     "text": [
      "Zone 88329b58d3fffff - Refitting bei Schritt 49...\n"
     ]
    },
    {
     "name": "stderr",
     "output_type": "stream",
     "text": [
      "c:\\Users\\freud\\anaconda3\\envs\\tf310\\lib\\site-packages\\statsmodels\\tsa\\statespace\\sarimax.py:966: UserWarning: Non-stationary starting autoregressive parameters found. Using zeros as starting parameters.\n",
      "  warn('Non-stationary starting autoregressive parameters'\n",
      "c:\\Users\\freud\\anaconda3\\envs\\tf310\\lib\\site-packages\\statsmodels\\tsa\\statespace\\sarimax.py:978: UserWarning: Non-invertible starting MA parameters found. Using zeros as starting parameters.\n",
      "  warn('Non-invertible starting MA parameters found.'\n"
     ]
    },
    {
     "name": "stdout",
     "output_type": "stream",
     "text": [
      "Zone 88329b58d3fffff abgeschlossen in 7.78 Sekunden.\n",
      "Zone 88329b58d3fffff - RMSE: 0.72, R2: 0.3302\n",
      "\n",
      "--- Bearbeite Zone 78/139: 88329b58d5fffff ---\n",
      "Zone 88329b58d5fffff - Refitting bei Schritt 1...\n",
      "Zone 88329b58d5fffff - Refitting bei Schritt 49...\n",
      "Zone 88329b58d5fffff abgeschlossen in 7.67 Sekunden.\n",
      "Zone 88329b58d5fffff - RMSE: 3.57, R2: 0.8948\n",
      "\n",
      "--- Bearbeite Zone 79/139: 88329b58d7fffff ---\n",
      "Zone 88329b58d7fffff - Refitting bei Schritt 1...\n",
      "Zone 88329b58d7fffff - Refitting bei Schritt 49...\n",
      "Zone 88329b58d7fffff abgeschlossen in 8.66 Sekunden.\n",
      "Zone 88329b58d7fffff - RMSE: 2.22, R2: 0.8486\n",
      "\n",
      "--- Bearbeite Zone 80/139: 88329b58d9fffff ---\n",
      "Zone 88329b58d9fffff - Refitting bei Schritt 1...\n"
     ]
    },
    {
     "name": "stderr",
     "output_type": "stream",
     "text": [
      "c:\\Users\\freud\\anaconda3\\envs\\tf310\\lib\\site-packages\\statsmodels\\tsa\\statespace\\sarimax.py:966: UserWarning: Non-stationary starting autoregressive parameters found. Using zeros as starting parameters.\n",
      "  warn('Non-stationary starting autoregressive parameters'\n"
     ]
    },
    {
     "name": "stdout",
     "output_type": "stream",
     "text": [
      "Zone 88329b58d9fffff - Refitting bei Schritt 49...\n"
     ]
    },
    {
     "name": "stderr",
     "output_type": "stream",
     "text": [
      "c:\\Users\\freud\\anaconda3\\envs\\tf310\\lib\\site-packages\\statsmodels\\tsa\\statespace\\sarimax.py:966: UserWarning: Non-stationary starting autoregressive parameters found. Using zeros as starting parameters.\n",
      "  warn('Non-stationary starting autoregressive parameters'\n"
     ]
    },
    {
     "name": "stdout",
     "output_type": "stream",
     "text": [
      "Zone 88329b58d9fffff abgeschlossen in 10.44 Sekunden.\n",
      "Zone 88329b58d9fffff - RMSE: 2.41, R2: 0.5774\n",
      "\n",
      "--- Bearbeite Zone 81/139: 88329b58dbfffff ---\n",
      "Zone 88329b58dbfffff - Refitting bei Schritt 1...\n",
      "Zone 88329b58dbfffff - Refitting bei Schritt 49...\n",
      "Zone 88329b58dbfffff abgeschlossen in 7.21 Sekunden.\n",
      "Zone 88329b58dbfffff - RMSE: 0.85, R2: 0.1925\n",
      "\n",
      "--- Bearbeite Zone 82/139: 88329b58ddfffff ---\n",
      "Zone 88329b58ddfffff - Refitting bei Schritt 1...\n",
      "Zone 88329b58ddfffff - Refitting bei Schritt 49...\n"
     ]
    },
    {
     "name": "stderr",
     "output_type": "stream",
     "text": [
      "c:\\Users\\freud\\anaconda3\\envs\\tf310\\lib\\site-packages\\statsmodels\\tsa\\statespace\\sarimax.py:966: UserWarning: Non-stationary starting autoregressive parameters found. Using zeros as starting parameters.\n",
      "  warn('Non-stationary starting autoregressive parameters'\n"
     ]
    },
    {
     "name": "stdout",
     "output_type": "stream",
     "text": [
      "Zone 88329b58ddfffff abgeschlossen in 7.69 Sekunden.\n",
      "Zone 88329b58ddfffff - RMSE: 2.11, R2: 0.8346\n",
      "\n",
      "--- Bearbeite Zone 83/139: 88329b58e1fffff ---\n",
      "Zone 88329b58e1fffff - Refitting bei Schritt 1...\n"
     ]
    },
    {
     "name": "stderr",
     "output_type": "stream",
     "text": [
      "c:\\Users\\freud\\anaconda3\\envs\\tf310\\lib\\site-packages\\statsmodels\\tsa\\statespace\\sarimax.py:966: UserWarning: Non-stationary starting autoregressive parameters found. Using zeros as starting parameters.\n",
      "  warn('Non-stationary starting autoregressive parameters'\n"
     ]
    },
    {
     "name": "stdout",
     "output_type": "stream",
     "text": [
      "Zone 88329b58e1fffff - Refitting bei Schritt 49...\n"
     ]
    },
    {
     "name": "stderr",
     "output_type": "stream",
     "text": [
      "c:\\Users\\freud\\anaconda3\\envs\\tf310\\lib\\site-packages\\statsmodels\\tsa\\statespace\\sarimax.py:966: UserWarning: Non-stationary starting autoregressive parameters found. Using zeros as starting parameters.\n",
      "  warn('Non-stationary starting autoregressive parameters'\n"
     ]
    },
    {
     "name": "stdout",
     "output_type": "stream",
     "text": [
      "Zone 88329b58e1fffff abgeschlossen in 9.05 Sekunden.\n",
      "Zone 88329b58e1fffff - RMSE: 4.65, R2: 0.8982\n",
      "\n",
      "--- Bearbeite Zone 84/139: 88329b58e3fffff ---\n",
      "Zone 88329b58e3fffff - Refitting bei Schritt 1...\n"
     ]
    },
    {
     "name": "stderr",
     "output_type": "stream",
     "text": [
      "c:\\Users\\freud\\anaconda3\\envs\\tf310\\lib\\site-packages\\statsmodels\\tsa\\statespace\\sarimax.py:966: UserWarning: Non-stationary starting autoregressive parameters found. Using zeros as starting parameters.\n",
      "  warn('Non-stationary starting autoregressive parameters'\n"
     ]
    },
    {
     "name": "stdout",
     "output_type": "stream",
     "text": [
      "Zone 88329b58e3fffff - Refitting bei Schritt 49...\n"
     ]
    },
    {
     "name": "stderr",
     "output_type": "stream",
     "text": [
      "c:\\Users\\freud\\anaconda3\\envs\\tf310\\lib\\site-packages\\statsmodels\\tsa\\statespace\\sarimax.py:966: UserWarning: Non-stationary starting autoregressive parameters found. Using zeros as starting parameters.\n",
      "  warn('Non-stationary starting autoregressive parameters'\n"
     ]
    },
    {
     "name": "stdout",
     "output_type": "stream",
     "text": [
      "Zone 88329b58e3fffff abgeschlossen in 9.92 Sekunden.\n",
      "Zone 88329b58e3fffff - RMSE: 4.68, R2: 0.8862\n",
      "\n",
      "--- Bearbeite Zone 85/139: 88329b58e5fffff ---\n",
      "Zone 88329b58e5fffff - Refitting bei Schritt 1...\n",
      "Zone 88329b58e5fffff - Refitting bei Schritt 49...\n",
      "Zone 88329b58e5fffff abgeschlossen in 6.99 Sekunden.\n",
      "Zone 88329b58e5fffff - RMSE: 1.79, R2: 0.5675\n",
      "\n",
      "--- Bearbeite Zone 86/139: 88329b58e7fffff ---\n",
      "Zone 88329b58e7fffff - Refitting bei Schritt 1...\n",
      "Zone 88329b58e7fffff - Refitting bei Schritt 49...\n",
      "Zone 88329b58e7fffff abgeschlossen in 8.03 Sekunden.\n",
      "Zone 88329b58e7fffff - RMSE: 0.83, R2: 0.6769\n",
      "\n",
      "--- Bearbeite Zone 87/139: 88329b58e9fffff ---\n",
      "Zone 88329b58e9fffff - Refitting bei Schritt 1...\n"
     ]
    },
    {
     "name": "stderr",
     "output_type": "stream",
     "text": [
      "c:\\Users\\freud\\anaconda3\\envs\\tf310\\lib\\site-packages\\statsmodels\\tsa\\statespace\\sarimax.py:966: UserWarning: Non-stationary starting autoregressive parameters found. Using zeros as starting parameters.\n",
      "  warn('Non-stationary starting autoregressive parameters'\n"
     ]
    },
    {
     "name": "stdout",
     "output_type": "stream",
     "text": [
      "Zone 88329b58e9fffff - Refitting bei Schritt 49...\n",
      "Zone 88329b58e9fffff abgeschlossen in 7.17 Sekunden.\n",
      "Zone 88329b58e9fffff - RMSE: 4.64, R2: 0.7071\n",
      "\n",
      "--- Bearbeite Zone 88/139: 88329b58ebfffff ---\n",
      "Zone 88329b58ebfffff - Refitting bei Schritt 1...\n",
      "Zone 88329b58ebfffff - Refitting bei Schritt 49...\n"
     ]
    }
   ],
   "source": [
    "#We are going zone by zone to determine the values\n",
    "for i, zone_id in enumerate(pivot_data.columns):\n",
    "    print(f\"\\n--- Bearbeite Zone {i+1}/{total_zones}: {zone_id} ---\")\n",
    "    zone_series = pivot_data[zone_id]\n",
    "    zone_series_log = np.log1p(zone_series)\n",
    "\n",
    "    # Train/Test Split for this zone\n",
    "    train_endog_zone = zone_series_log.iloc[:split_point_idx]\n",
    "    test_endog_zone = zone_series_log.iloc[split_point_idx:]\n",
    "    test_actual_zone = zone_series.iloc[split_point_idx:]\n",
    "\n",
    "    train_exog_zone = all_fourier_features.iloc[:split_point_idx]\n",
    "    test_exog_zone = all_fourier_features.iloc[split_point_idx:]\n",
    "\n",
    "    # We use a walk forward for the training by using the variables\n",
    "    history_endog = train_endog_zone.copy() # endogene variables (log)\n",
    "    history_exog = train_exog_zone.copy() # exogene variables\n",
    "    predictions_log_zone = [] # List of log predictions for this zone\n",
    "    current_model_fit = None # Platzhalter für das aktuell gültige Modell\n",
    "    zone_start_time = time.time()\n",
    "\n",
    "    for t in range(len(test_endog_zone)):\n",
    "        if t % refit_interval == 0 or current_model_fit is None:\n",
    "            # Train model with history data during refit interval\n",
    "            model = SARIMAX(endog=history_endog,\n",
    "                            exog=history_exog,\n",
    "                            order=pdq_order,\n",
    "                            seasonal_order=(0, 0, 0, 0))\n",
    "            \n",
    "            try:\n",
    "                # We enforce stationarity, by letting it on standard true\n",
    "                #Maxiter is the max number of iterations\n",
    "                current_model_fit = model.fit(disp=False, maxiter=200, method='lbfgs') #lbfgs is our optimization model\n",
    "            except Exception as e:\n",
    "                print(f\"Error refitting zone {zone_id} at step {t+1}: {e}\")\n",
    "                # Fallback: If refit fails\n",
    "                if current_model_fit is None:\n",
    "                     print(f\"Termination because of this zone here: {zone_id}\")\n",
    "                     predictions_log_zone = [np.nan] * len(test_endog_zone)\n",
    "                     break # Next zone\n",
    "\n",
    "        # Predictions with actual model\n",
    "        try:\n",
    "            exog_next_step = test_exog_zone.iloc[[t]] # Prepare exogenes for next step\n",
    "            yhat_log = current_model_fit.forecast(steps=1, exog=exog_next_step)  # Predict one step\n",
    "            predictions_log_zone.append(yhat_log.iloc[0])  #Extract value\n",
    "        except Exception as e:\n",
    "             print(f\"Error predicting {zone_id} at step {t+1}: {e}\")\n",
    "             if predictions_log_zone:\n",
    "                 predictions_log_zone.append(predictions_log_zone[-1])\n",
    "             else:\n",
    "                 predictions_log_zone.append(np.nan)\n",
    "\n",
    "        # Add observation to next step\n",
    "        obs_log = test_endog_zone.iloc[[t]]\n",
    "        history_endog = pd.concat([history_endog, obs_log]) # Endog extended\n",
    "        history_exog = pd.concat([history_exog, test_exog_zone.iloc[[t]]]) # Exog extended\n",
    "\n",
    "    zone_end_time = time.time()\n",
    "    #Calculate metrics for each zone\n",
    "    if len(predictions_log_zone) == len(test_actual_zone):\n",
    "        predictions_zone = np.expm1(np.array(predictions_log_zone))\n",
    "        predictions_zone[predictions_zone < 0] = 0\n",
    "\n",
    "        mae = mean_absolute_error(test_actual_zone, predictions_zone)\n",
    "        mse = mean_squared_error(test_actual_zone, predictions_zone)\n",
    "        rmse = math.sqrt(mse)\n",
    "        r2 = r2_score(test_actual_zone, predictions_zone)\n",
    "\n",
    "        nonzero_indices = test_actual_zone != 0\n",
    "        actual_vals = test_actual_zone.values\n",
    "        forecast_vals = predictions_zone\n",
    "\n",
    "        if np.any(nonzero_indices):#for zero division\n",
    "            mape = np.mean(np.abs((actual_vals[nonzero_indices] - forecast_vals[nonzero_indices]) / actual_vals[nonzero_indices])) * 100\n",
    "        else:\n",
    "            mape = np.nan\n",
    "    else: #If it breaks\n",
    "        mae, mse, rmse, r2, mape = [np.nan] * 5\n",
    "        predictions_zone = np.full(len(test_actual_zone), np.nan)\n",
    "\n",
    "\n",
    "    results[zone_id] = {\n",
    "        'predictions': predictions_zone,\n",
    "        'actual': test_actual_zone.values,\n",
    "        'mae': mae,\n",
    "        'rmse': rmse,\n",
    "        'r2': r2,\n",
    "        'mape': mape\n",
    "    }\n",
    "    print(f\"Zone {zone_id} - RMSE: {rmse:.2f}, R2: {r2:.4f}\")\n",
    "\n",
    "\n",
    "total_end_time = time.time()"
   ]
  },
  {
   "cell_type": "code",
   "execution_count": null,
   "id": "59a7eb8e",
   "metadata": {},
   "outputs": [],
   "source": [
    "#Calculate NRMSE\n",
    "for zone_id, res in results.items():\n",
    "    if 'rmse' in res and 'actual' in res and not np.isnan(res['rmse']):\n",
    "        actual_vals = res['actual']\n",
    "        rmse = res['rmse']\n",
    "\n",
    "        mean_actual = np.mean(actual_vals)\n",
    "        nrmse = (rmse / mean_actual) * 100 if mean_actual != 0 else np.nan \n",
    "        results[zone_id]['nrmse'] = nrmse\n",
    "    else:\n",
    "        results[zone_id]['nrmse'] = np.nan\n",
    "#Calculate the averages of all 139 zones\n",
    "avg_rmse = np.nanmean([res['rmse'] for res in results.values()])\n",
    "avg_r2 = np.nanmean([res['r2'] for res in results.values()])\n",
    "avg_mape = np.nanmean([res['mape'] for res in results.values()])\n",
    "avg_mae = np.nanmean([res['mae'] for res in results.values()]) # nanmean because of nans\n",
    "\n",
    "print(f\"Average. RMSE: {avg_rmse:.2f}\")\n",
    "print(f\"Average. MAPE: {avg_mape:.2f}%\")\n",
    "print(f\"Average. MAE: {avg_mae:.2f}%\")\n",
    "print(f\"Average. R2: {avg_r2:.4f}\")"
   ]
  },
  {
   "cell_type": "code",
   "execution_count": null,
   "id": "8b3da30a",
   "metadata": {},
   "outputs": [],
   "source": [
    "#For our target zone for comparison\n",
    "target_zone_id = '88329b5aa1fffff'\n",
    "\n",
    "if target_zone_id in results:\n",
    "    plt.figure(figsize=(15, 7))\n",
    "    #Train data\n",
    "    plt.plot(pivot_data.index[:split_point_idx],\n",
    "             pivot_data[target_zone_id].iloc[:split_point_idx],\n",
    "             label=f\"Train (Zone {target_zone_id})\")\n",
    "    #Test data\n",
    "    plt.plot(pivot_data.index[split_point_idx:],\n",
    "             results[target_zone_id]['actual'],\n",
    "             label=f\"Test (Zone {target_zone_id})\", color='orange')\n",
    "    #Predictions\n",
    "    plt.plot(pivot_data.index[split_point_idx:],\n",
    "             results[target_zone_id]['predictions'],\n",
    "             label=f\"Walk-Forward Forecast (k={k}, d=0)\", color='green', linestyle='--')\n",
    "    plt.title(f\"Walk-Forward Validation for zone {target_zone_id}\")\n",
    "    plt.legend()\n",
    "    plt.show()\n",
    "\n",
    "    # Export as numpy array for comparison\n",
    "    predictions_to_export = results[target_zone_id]['predictions']\n",
    "    export_filename = 'prognose_arima.npy' # Fixed filename\n",
    "    np.save(export_filename, predictions_to_export)\n",
    "\n",
    "else:\n",
    "    print(f\"Zone not found: This is a list of valid zones:  {list(results.keys())}\")"
   ]
  }
 ],
 "metadata": {
  "kernelspec": {
   "display_name": "tf310",
   "language": "python",
   "name": "python3"
  },
  "language_info": {
   "codemirror_mode": {
    "name": "ipython",
    "version": 3
   },
   "file_extension": ".py",
   "mimetype": "text/x-python",
   "name": "python",
   "nbconvert_exporter": "python",
   "pygments_lexer": "ipython3",
   "version": "3.10.13"
  }
 },
 "nbformat": 4,
 "nbformat_minor": 5
}
