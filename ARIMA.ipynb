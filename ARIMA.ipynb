{
 "cells": [
  {
   "cell_type": "code",
   "execution_count": 10,
   "id": "1958032f",
   "metadata": {},
   "outputs": [],
   "source": [
    "import pandas as pd\n",
    "import numpy as np\n",
    "from statsmodels.tsa.statespace.sarimax import SARIMAX\n",
    "from sklearn.metrics import mean_squared_error, mean_absolute_error, r2_score\n",
    "import matplotlib.pyplot as plt\n",
    "import math\n",
    "import time"
   ]
  },
  {
   "cell_type": "code",
   "execution_count": null,
   "id": "0ca6de93",
   "metadata": {},
   "outputs": [],
   "source": [
    "dataArima = pd.read_parquet('Data/agg_table_new_zones8Bot.parquet')\n",
    "#The already binned and aggregated dataset\n"
   ]
  },
  {
   "cell_type": "code",
   "execution_count": null,
   "id": "3e50c4b0",
   "metadata": {},
   "outputs": [],
   "source": [
    "#Preparing the data for the ARIMA and creating a pivot table to predict for all 139 zones\n",
    "dataArima['time_bin'] = pd.to_datetime(dataArima['time_bin'])\n",
    "pivot_data = dataArima.pivot_table(index='time_bin', columns='h3_index', values='order_count', fill_value=0)"
   ]
  },
  {
   "cell_type": "code",
   "execution_count": 13,
   "id": "0e099199",
   "metadata": {},
   "outputs": [],
   "source": [
    "#As there were some time bins without a value and not in the table we have to fill it with zeros\n",
    "start_time_full = pivot_data.index.min()\n",
    "end_time_full = pivot_data.index.max()\n",
    "full_index_all_zones = pd.date_range(start=start_time_full, end=end_time_full, freq='15min')\n",
    "pivot_data = pivot_data.reindex(full_index_all_zones, fill_value=0)"
   ]
  },
  {
   "cell_type": "code",
   "execution_count": 14,
   "id": "c5ba6182",
   "metadata": {},
   "outputs": [],
   "source": [
    "#We use fourier features to recreate seasonal patterns with the help of sin and cos waves\n",
    "def create_fourier_features(index, seasonal_period, k):\n",
    "    n_samples = len(index)\n",
    "    time = np.arange(n_samples)\n",
    "    features = {}\n",
    "    for i in range(1, k + 1):\n",
    "        features[f'sin_{i}'] = np.sin(2 * np.pi * i * time / seasonal_period)\n",
    "        features[f'cos_{i}'] = np.cos(2 * np.pi * i * time / seasonal_period)\n",
    "    return pd.DataFrame(features, index=index)"
   ]
  },
  {
   "cell_type": "code",
   "execution_count": 15,
   "id": "1b96d72d",
   "metadata": {},
   "outputs": [],
   "source": [
    "seasonal_period = 96 #(24*4) One day \n",
    "k = 12 #High value of fourier features to learn spikes\n",
    "pdq_order = (2, 0, 1) # (p, d, q) with d=0 (AR) (I) (MA)\n",
    "all_fourier_features = create_fourier_features(pivot_data.index, seasonal_period, k) # Preparation of the exogene variables with the data set\n",
    "split_point_idx = int(len(pivot_data) * 0.875) #We use only test and train split as we don't need to validate. The value is unobserved by the model\n",
    "results = {}\n",
    "\n",
    "# Each 48 the values are refitted\n",
    "refit_interval = 48\n",
    "\n",
    "# preparing loop\n",
    "total_zones = len(pivot_data.columns)\n",
    "start_time_total = time.time()"
   ]
  },
  {
   "cell_type": "code",
   "execution_count": null,
   "id": "4543efcd",
   "metadata": {},
   "outputs": [
    {
     "name": "stdout",
     "output_type": "stream",
     "text": [
      "\n",
      "--- Working on Zone 1/139: 88329b430dfffff ---\n",
      "Zone 88329b430dfffff - RMSE: 0.23, R2: 0.0807\n",
      "\n",
      "--- Working on Zone 2/139: 88329b4325fffff ---\n",
      "Zone 88329b4325fffff - RMSE: 0.01, R2: 0.0000\n",
      "\n",
      "--- Working on Zone 3/139: 88329b432dfffff ---\n"
     ]
    },
    {
     "name": "stderr",
     "output_type": "stream",
     "text": [
      "c:\\Users\\freud\\anaconda3\\envs\\tf310\\lib\\site-packages\\statsmodels\\tsa\\statespace\\sarimax.py:966: UserWarning: Non-stationary starting autoregressive parameters found. Using zeros as starting parameters.\n",
      "  warn('Non-stationary starting autoregressive parameters'\n",
      "c:\\Users\\freud\\anaconda3\\envs\\tf310\\lib\\site-packages\\statsmodels\\tsa\\statespace\\sarimax.py:966: UserWarning: Non-stationary starting autoregressive parameters found. Using zeros as starting parameters.\n",
      "  warn('Non-stationary starting autoregressive parameters'\n"
     ]
    },
    {
     "name": "stdout",
     "output_type": "stream",
     "text": [
      "Zone 88329b432dfffff - RMSE: 0.56, R2: 0.1365\n",
      "\n",
      "--- Working on Zone 4/139: 88329b4343fffff ---\n"
     ]
    },
    {
     "name": "stderr",
     "output_type": "stream",
     "text": [
      "c:\\Users\\freud\\anaconda3\\envs\\tf310\\lib\\site-packages\\statsmodels\\tsa\\statespace\\sarimax.py:966: UserWarning: Non-stationary starting autoregressive parameters found. Using zeros as starting parameters.\n",
      "  warn('Non-stationary starting autoregressive parameters'\n",
      "c:\\Users\\freud\\anaconda3\\envs\\tf310\\lib\\site-packages\\statsmodels\\tsa\\statespace\\sarimax.py:978: UserWarning: Non-invertible starting MA parameters found. Using zeros as starting parameters.\n",
      "  warn('Non-invertible starting MA parameters found.'\n",
      "c:\\Users\\freud\\anaconda3\\envs\\tf310\\lib\\site-packages\\statsmodels\\tsa\\statespace\\sarimax.py:966: UserWarning: Non-stationary starting autoregressive parameters found. Using zeros as starting parameters.\n",
      "  warn('Non-stationary starting autoregressive parameters'\n",
      "c:\\Users\\freud\\anaconda3\\envs\\tf310\\lib\\site-packages\\statsmodels\\tsa\\statespace\\sarimax.py:978: UserWarning: Non-invertible starting MA parameters found. Using zeros as starting parameters.\n",
      "  warn('Non-invertible starting MA parameters found.'\n"
     ]
    },
    {
     "name": "stdout",
     "output_type": "stream",
     "text": [
      "Zone 88329b4343fffff - RMSE: 0.17, R2: 0.0222\n",
      "\n",
      "--- Working on Zone 5/139: 88329b4345fffff ---\n",
      "Zone 88329b4345fffff - RMSE: 0.40, R2: 0.0550\n",
      "\n",
      "--- Working on Zone 6/139: 88329b4361fffff ---\n",
      "Zone 88329b4361fffff - RMSE: 1.14, R2: 0.3848\n",
      "\n",
      "--- Working on Zone 7/139: 88329b4363fffff ---\n"
     ]
    },
    {
     "name": "stderr",
     "output_type": "stream",
     "text": [
      "c:\\Users\\freud\\anaconda3\\envs\\tf310\\lib\\site-packages\\statsmodels\\tsa\\statespace\\sarimax.py:966: UserWarning: Non-stationary starting autoregressive parameters found. Using zeros as starting parameters.\n",
      "  warn('Non-stationary starting autoregressive parameters'\n",
      "c:\\Users\\freud\\anaconda3\\envs\\tf310\\lib\\site-packages\\statsmodels\\tsa\\statespace\\sarimax.py:978: UserWarning: Non-invertible starting MA parameters found. Using zeros as starting parameters.\n",
      "  warn('Non-invertible starting MA parameters found.'\n",
      "c:\\Users\\freud\\anaconda3\\envs\\tf310\\lib\\site-packages\\statsmodels\\tsa\\statespace\\sarimax.py:966: UserWarning: Non-stationary starting autoregressive parameters found. Using zeros as starting parameters.\n",
      "  warn('Non-stationary starting autoregressive parameters'\n",
      "c:\\Users\\freud\\anaconda3\\envs\\tf310\\lib\\site-packages\\statsmodels\\tsa\\statespace\\sarimax.py:978: UserWarning: Non-invertible starting MA parameters found. Using zeros as starting parameters.\n",
      "  warn('Non-invertible starting MA parameters found.'\n"
     ]
    },
    {
     "name": "stdout",
     "output_type": "stream",
     "text": [
      "Zone 88329b4363fffff - RMSE: 0.29, R2: -0.1049\n",
      "\n",
      "--- Working on Zone 8/139: 88329b4365fffff ---\n"
     ]
    },
    {
     "name": "stderr",
     "output_type": "stream",
     "text": [
      "c:\\Users\\freud\\anaconda3\\envs\\tf310\\lib\\site-packages\\statsmodels\\tsa\\statespace\\sarimax.py:966: UserWarning: Non-stationary starting autoregressive parameters found. Using zeros as starting parameters.\n",
      "  warn('Non-stationary starting autoregressive parameters'\n",
      "c:\\Users\\freud\\anaconda3\\envs\\tf310\\lib\\site-packages\\statsmodels\\tsa\\statespace\\sarimax.py:978: UserWarning: Non-invertible starting MA parameters found. Using zeros as starting parameters.\n",
      "  warn('Non-invertible starting MA parameters found.'\n",
      "c:\\Users\\freud\\anaconda3\\envs\\tf310\\lib\\site-packages\\statsmodels\\tsa\\statespace\\sarimax.py:966: UserWarning: Non-stationary starting autoregressive parameters found. Using zeros as starting parameters.\n",
      "  warn('Non-stationary starting autoregressive parameters'\n",
      "c:\\Users\\freud\\anaconda3\\envs\\tf310\\lib\\site-packages\\statsmodels\\tsa\\statespace\\sarimax.py:978: UserWarning: Non-invertible starting MA parameters found. Using zeros as starting parameters.\n",
      "  warn('Non-invertible starting MA parameters found.'\n"
     ]
    },
    {
     "name": "stdout",
     "output_type": "stream",
     "text": [
      "Zone 88329b4365fffff - RMSE: 0.25, R2: 0.1119\n",
      "\n",
      "--- Working on Zone 9/139: 88329b4369fffff ---\n"
     ]
    },
    {
     "name": "stderr",
     "output_type": "stream",
     "text": [
      "c:\\Users\\freud\\anaconda3\\envs\\tf310\\lib\\site-packages\\statsmodels\\tsa\\statespace\\sarimax.py:966: UserWarning: Non-stationary starting autoregressive parameters found. Using zeros as starting parameters.\n",
      "  warn('Non-stationary starting autoregressive parameters'\n",
      "c:\\Users\\freud\\anaconda3\\envs\\tf310\\lib\\site-packages\\statsmodels\\tsa\\statespace\\sarimax.py:978: UserWarning: Non-invertible starting MA parameters found. Using zeros as starting parameters.\n",
      "  warn('Non-invertible starting MA parameters found.'\n",
      "c:\\Users\\freud\\anaconda3\\envs\\tf310\\lib\\site-packages\\statsmodels\\tsa\\statespace\\sarimax.py:966: UserWarning: Non-stationary starting autoregressive parameters found. Using zeros as starting parameters.\n",
      "  warn('Non-stationary starting autoregressive parameters'\n",
      "c:\\Users\\freud\\anaconda3\\envs\\tf310\\lib\\site-packages\\statsmodels\\tsa\\statespace\\sarimax.py:978: UserWarning: Non-invertible starting MA parameters found. Using zeros as starting parameters.\n",
      "  warn('Non-invertible starting MA parameters found.'\n"
     ]
    },
    {
     "name": "stdout",
     "output_type": "stream",
     "text": [
      "Zone 88329b4369fffff - RMSE: 0.40, R2: 0.2436\n",
      "\n",
      "--- Working on Zone 10/139: 88329b436dfffff ---\n",
      "Zone 88329b436dfffff - RMSE: 1.58, R2: 0.6742\n",
      "\n",
      "--- Working on Zone 11/139: 88329b4a49fffff ---\n"
     ]
    },
    {
     "name": "stderr",
     "output_type": "stream",
     "text": [
      "c:\\Users\\freud\\anaconda3\\envs\\tf310\\lib\\site-packages\\statsmodels\\tsa\\statespace\\sarimax.py:966: UserWarning: Non-stationary starting autoregressive parameters found. Using zeros as starting parameters.\n",
      "  warn('Non-stationary starting autoregressive parameters'\n",
      "c:\\Users\\freud\\anaconda3\\envs\\tf310\\lib\\site-packages\\statsmodels\\tsa\\statespace\\sarimax.py:978: UserWarning: Non-invertible starting MA parameters found. Using zeros as starting parameters.\n",
      "  warn('Non-invertible starting MA parameters found.'\n",
      "c:\\Users\\freud\\anaconda3\\envs\\tf310\\lib\\site-packages\\statsmodels\\tsa\\statespace\\sarimax.py:966: UserWarning: Non-stationary starting autoregressive parameters found. Using zeros as starting parameters.\n",
      "  warn('Non-stationary starting autoregressive parameters'\n",
      "c:\\Users\\freud\\anaconda3\\envs\\tf310\\lib\\site-packages\\statsmodels\\tsa\\statespace\\sarimax.py:978: UserWarning: Non-invertible starting MA parameters found. Using zeros as starting parameters.\n",
      "  warn('Non-invertible starting MA parameters found.'\n"
     ]
    },
    {
     "name": "stdout",
     "output_type": "stream",
     "text": [
      "Zone 88329b4a49fffff - RMSE: 0.14, R2: -0.0257\n",
      "\n",
      "--- Working on Zone 12/139: 88329b5101fffff ---\n",
      "Zone 88329b5101fffff - RMSE: 1.28, R2: 0.6992\n",
      "\n",
      "--- Working on Zone 13/139: 88329b5105fffff ---\n"
     ]
    },
    {
     "name": "stderr",
     "output_type": "stream",
     "text": [
      "c:\\Users\\freud\\anaconda3\\envs\\tf310\\lib\\site-packages\\statsmodels\\tsa\\statespace\\sarimax.py:966: UserWarning: Non-stationary starting autoregressive parameters found. Using zeros as starting parameters.\n",
      "  warn('Non-stationary starting autoregressive parameters'\n",
      "c:\\Users\\freud\\anaconda3\\envs\\tf310\\lib\\site-packages\\statsmodels\\tsa\\statespace\\sarimax.py:978: UserWarning: Non-invertible starting MA parameters found. Using zeros as starting parameters.\n",
      "  warn('Non-invertible starting MA parameters found.'\n",
      "c:\\Users\\freud\\anaconda3\\envs\\tf310\\lib\\site-packages\\statsmodels\\tsa\\statespace\\sarimax.py:966: UserWarning: Non-stationary starting autoregressive parameters found. Using zeros as starting parameters.\n",
      "  warn('Non-stationary starting autoregressive parameters'\n",
      "c:\\Users\\freud\\anaconda3\\envs\\tf310\\lib\\site-packages\\statsmodels\\tsa\\statespace\\sarimax.py:978: UserWarning: Non-invertible starting MA parameters found. Using zeros as starting parameters.\n",
      "  warn('Non-invertible starting MA parameters found.'\n"
     ]
    },
    {
     "name": "stdout",
     "output_type": "stream",
     "text": [
      "Zone 88329b5105fffff - RMSE: 0.35, R2: 0.4024\n",
      "\n",
      "--- Working on Zone 14/139: 88329b5109fffff ---\n",
      "Zone 88329b5109fffff - RMSE: 3.03, R2: 0.8602\n",
      "\n",
      "--- Working on Zone 15/139: 88329b510bfffff ---\n",
      "Zone 88329b510bfffff - RMSE: 0.73, R2: 0.3999\n",
      "\n",
      "--- Working on Zone 16/139: 88329b510dfffff ---\n"
     ]
    },
    {
     "name": "stderr",
     "output_type": "stream",
     "text": [
      "c:\\Users\\freud\\anaconda3\\envs\\tf310\\lib\\site-packages\\statsmodels\\tsa\\statespace\\sarimax.py:966: UserWarning: Non-stationary starting autoregressive parameters found. Using zeros as starting parameters.\n",
      "  warn('Non-stationary starting autoregressive parameters'\n",
      "c:\\Users\\freud\\anaconda3\\envs\\tf310\\lib\\site-packages\\statsmodels\\tsa\\statespace\\sarimax.py:966: UserWarning: Non-stationary starting autoregressive parameters found. Using zeros as starting parameters.\n",
      "  warn('Non-stationary starting autoregressive parameters'\n"
     ]
    },
    {
     "name": "stdout",
     "output_type": "stream",
     "text": [
      "Zone 88329b510dfffff - RMSE: 0.86, R2: 0.4272\n",
      "\n",
      "--- Working on Zone 17/139: 88329b5143fffff ---\n",
      "Zone 88329b5143fffff - RMSE: 4.23, R2: 0.8722\n",
      "\n",
      "--- Working on Zone 18/139: 88329b5147fffff ---\n"
     ]
    },
    {
     "name": "stderr",
     "output_type": "stream",
     "text": [
      "c:\\Users\\freud\\anaconda3\\envs\\tf310\\lib\\site-packages\\statsmodels\\tsa\\statespace\\sarimax.py:966: UserWarning: Non-stationary starting autoregressive parameters found. Using zeros as starting parameters.\n",
      "  warn('Non-stationary starting autoregressive parameters'\n",
      "c:\\Users\\freud\\anaconda3\\envs\\tf310\\lib\\site-packages\\statsmodels\\tsa\\statespace\\sarimax.py:966: UserWarning: Non-stationary starting autoregressive parameters found. Using zeros as starting parameters.\n",
      "  warn('Non-stationary starting autoregressive parameters'\n"
     ]
    },
    {
     "name": "stdout",
     "output_type": "stream",
     "text": [
      "Zone 88329b5147fffff - RMSE: 1.99, R2: 0.7291\n",
      "\n",
      "--- Working on Zone 19/139: 88329b514bfffff ---\n",
      "Zone 88329b514bfffff - RMSE: 0.34, R2: 0.0788\n",
      "\n",
      "--- Working on Zone 20/139: 88329b5151fffff ---\n",
      "Zone 88329b5151fffff - RMSE: 0.02, R2: 0.0000\n",
      "\n",
      "--- Working on Zone 21/139: 88329b5155fffff ---\n"
     ]
    },
    {
     "name": "stderr",
     "output_type": "stream",
     "text": [
      "c:\\Users\\freud\\anaconda3\\envs\\tf310\\lib\\site-packages\\statsmodels\\tsa\\statespace\\sarimax.py:966: UserWarning: Non-stationary starting autoregressive parameters found. Using zeros as starting parameters.\n",
      "  warn('Non-stationary starting autoregressive parameters'\n",
      "c:\\Users\\freud\\anaconda3\\envs\\tf310\\lib\\site-packages\\statsmodels\\tsa\\statespace\\sarimax.py:966: UserWarning: Non-stationary starting autoregressive parameters found. Using zeros as starting parameters.\n",
      "  warn('Non-stationary starting autoregressive parameters'\n"
     ]
    },
    {
     "name": "stdout",
     "output_type": "stream",
     "text": [
      "Zone 88329b5155fffff - RMSE: 1.54, R2: 0.5879\n",
      "\n",
      "--- Working on Zone 22/139: 88329b516bfffff ---\n"
     ]
    },
    {
     "name": "stderr",
     "output_type": "stream",
     "text": [
      "c:\\Users\\freud\\anaconda3\\envs\\tf310\\lib\\site-packages\\statsmodels\\tsa\\statespace\\sarimax.py:966: UserWarning: Non-stationary starting autoregressive parameters found. Using zeros as starting parameters.\n",
      "  warn('Non-stationary starting autoregressive parameters'\n"
     ]
    },
    {
     "name": "stdout",
     "output_type": "stream",
     "text": [
      "Zone 88329b516bfffff - RMSE: 0.51, R2: 0.2726\n",
      "\n",
      "--- Working on Zone 23/139: 88329b5801fffff ---\n"
     ]
    },
    {
     "name": "stderr",
     "output_type": "stream",
     "text": [
      "c:\\Users\\freud\\anaconda3\\envs\\tf310\\lib\\site-packages\\statsmodels\\tsa\\statespace\\sarimax.py:966: UserWarning: Non-stationary starting autoregressive parameters found. Using zeros as starting parameters.\n",
      "  warn('Non-stationary starting autoregressive parameters'\n",
      "c:\\Users\\freud\\anaconda3\\envs\\tf310\\lib\\site-packages\\statsmodels\\tsa\\statespace\\sarimax.py:966: UserWarning: Non-stationary starting autoregressive parameters found. Using zeros as starting parameters.\n",
      "  warn('Non-stationary starting autoregressive parameters'\n"
     ]
    },
    {
     "name": "stdout",
     "output_type": "stream",
     "text": [
      "Zone 88329b5801fffff - RMSE: 1.93, R2: 0.8453\n",
      "\n",
      "--- Working on Zone 24/139: 88329b5805fffff ---\n"
     ]
    },
    {
     "name": "stderr",
     "output_type": "stream",
     "text": [
      "c:\\Users\\freud\\anaconda3\\envs\\tf310\\lib\\site-packages\\statsmodels\\tsa\\statespace\\sarimax.py:966: UserWarning: Non-stationary starting autoregressive parameters found. Using zeros as starting parameters.\n",
      "  warn('Non-stationary starting autoregressive parameters'\n",
      "c:\\Users\\freud\\anaconda3\\envs\\tf310\\lib\\site-packages\\statsmodels\\tsa\\statespace\\sarimax.py:966: UserWarning: Non-stationary starting autoregressive parameters found. Using zeros as starting parameters.\n",
      "  warn('Non-stationary starting autoregressive parameters'\n"
     ]
    },
    {
     "name": "stdout",
     "output_type": "stream",
     "text": [
      "Zone 88329b5805fffff - RMSE: 6.36, R2: 0.7982\n",
      "\n",
      "--- Working on Zone 25/139: 88329b5807fffff ---\n",
      "Zone 88329b5807fffff - RMSE: 0.44, R2: 0.3076\n",
      "\n",
      "--- Working on Zone 26/139: 88329b5809fffff ---\n",
      "Zone 88329b5809fffff - RMSE: 0.94, R2: 0.2098\n",
      "\n",
      "--- Working on Zone 27/139: 88329b580bfffff ---\n",
      "Zone 88329b580bfffff - RMSE: 1.82, R2: 0.3003\n",
      "\n",
      "--- Working on Zone 28/139: 88329b580dfffff ---\n",
      "Zone 88329b580dfffff - RMSE: 0.58, R2: 0.6084\n",
      "\n",
      "--- Working on Zone 29/139: 88329b5811fffff ---\n",
      "Zone 88329b5811fffff - RMSE: 2.67, R2: 0.8116\n",
      "\n",
      "--- Working on Zone 30/139: 88329b5813fffff ---\n",
      "Zone 88329b5813fffff - RMSE: 2.92, R2: 0.8959\n",
      "\n",
      "--- Working on Zone 31/139: 88329b5815fffff ---\n"
     ]
    },
    {
     "name": "stderr",
     "output_type": "stream",
     "text": [
      "c:\\Users\\freud\\anaconda3\\envs\\tf310\\lib\\site-packages\\statsmodels\\tsa\\statespace\\sarimax.py:966: UserWarning: Non-stationary starting autoregressive parameters found. Using zeros as starting parameters.\n",
      "  warn('Non-stationary starting autoregressive parameters'\n",
      "c:\\Users\\freud\\anaconda3\\envs\\tf310\\lib\\site-packages\\statsmodels\\tsa\\statespace\\sarimax.py:966: UserWarning: Non-stationary starting autoregressive parameters found. Using zeros as starting parameters.\n",
      "  warn('Non-stationary starting autoregressive parameters'\n"
     ]
    },
    {
     "name": "stdout",
     "output_type": "stream",
     "text": [
      "Zone 88329b5815fffff - RMSE: 0.90, R2: 0.1504\n",
      "\n",
      "--- Working on Zone 32/139: 88329b5817fffff ---\n",
      "Zone 88329b5817fffff - RMSE: 3.18, R2: 0.8732\n",
      "\n",
      "--- Working on Zone 33/139: 88329b5819fffff ---\n",
      "Zone 88329b5819fffff - RMSE: 3.77, R2: 0.8910\n",
      "\n",
      "--- Working on Zone 34/139: 88329b581bfffff ---\n"
     ]
    },
    {
     "name": "stderr",
     "output_type": "stream",
     "text": [
      "c:\\Users\\freud\\anaconda3\\envs\\tf310\\lib\\site-packages\\statsmodels\\tsa\\statespace\\sarimax.py:966: UserWarning: Non-stationary starting autoregressive parameters found. Using zeros as starting parameters.\n",
      "  warn('Non-stationary starting autoregressive parameters'\n",
      "c:\\Users\\freud\\anaconda3\\envs\\tf310\\lib\\site-packages\\statsmodels\\tsa\\statespace\\sarimax.py:966: UserWarning: Non-stationary starting autoregressive parameters found. Using zeros as starting parameters.\n",
      "  warn('Non-stationary starting autoregressive parameters'\n"
     ]
    },
    {
     "name": "stdout",
     "output_type": "stream",
     "text": [
      "Zone 88329b581bfffff - RMSE: 2.34, R2: 0.7361\n",
      "\n",
      "--- Working on Zone 35/139: 88329b581dfffff ---\n",
      "Zone 88329b581dfffff - RMSE: 1.99, R2: 0.8025\n",
      "\n",
      "--- Working on Zone 36/139: 88329b5829fffff ---\n"
     ]
    },
    {
     "name": "stderr",
     "output_type": "stream",
     "text": [
      "c:\\Users\\freud\\anaconda3\\envs\\tf310\\lib\\site-packages\\statsmodels\\tsa\\statespace\\sarimax.py:966: UserWarning: Non-stationary starting autoregressive parameters found. Using zeros as starting parameters.\n",
      "  warn('Non-stationary starting autoregressive parameters'\n",
      "c:\\Users\\freud\\anaconda3\\envs\\tf310\\lib\\site-packages\\statsmodels\\tsa\\statespace\\sarimax.py:978: UserWarning: Non-invertible starting MA parameters found. Using zeros as starting parameters.\n",
      "  warn('Non-invertible starting MA parameters found.'\n",
      "c:\\Users\\freud\\anaconda3\\envs\\tf310\\lib\\site-packages\\statsmodels\\tsa\\statespace\\sarimax.py:966: UserWarning: Non-stationary starting autoregressive parameters found. Using zeros as starting parameters.\n",
      "  warn('Non-stationary starting autoregressive parameters'\n",
      "c:\\Users\\freud\\anaconda3\\envs\\tf310\\lib\\site-packages\\statsmodels\\tsa\\statespace\\sarimax.py:978: UserWarning: Non-invertible starting MA parameters found. Using zeros as starting parameters.\n",
      "  warn('Non-invertible starting MA parameters found.'\n"
     ]
    },
    {
     "name": "stdout",
     "output_type": "stream",
     "text": [
      "Zone 88329b5829fffff - RMSE: 0.27, R2: -0.0847\n",
      "\n",
      "--- Working on Zone 37/139: 88329b5831fffff ---\n",
      "Zone 88329b5831fffff - RMSE: 0.10, R2: 0.0025\n",
      "\n",
      "--- Working on Zone 38/139: 88329b5835fffff ---\n",
      "Zone 88329b5835fffff - RMSE: 0.53, R2: 0.2789\n",
      "\n",
      "--- Working on Zone 39/139: 88329b5839fffff ---\n"
     ]
    },
    {
     "name": "stderr",
     "output_type": "stream",
     "text": [
      "c:\\Users\\freud\\anaconda3\\envs\\tf310\\lib\\site-packages\\statsmodels\\tsa\\statespace\\sarimax.py:966: UserWarning: Non-stationary starting autoregressive parameters found. Using zeros as starting parameters.\n",
      "  warn('Non-stationary starting autoregressive parameters'\n",
      "c:\\Users\\freud\\anaconda3\\envs\\tf310\\lib\\site-packages\\statsmodels\\tsa\\statespace\\sarimax.py:978: UserWarning: Non-invertible starting MA parameters found. Using zeros as starting parameters.\n",
      "  warn('Non-invertible starting MA parameters found.'\n",
      "c:\\Users\\freud\\anaconda3\\envs\\tf310\\lib\\site-packages\\statsmodels\\tsa\\statespace\\sarimax.py:966: UserWarning: Non-stationary starting autoregressive parameters found. Using zeros as starting parameters.\n",
      "  warn('Non-stationary starting autoregressive parameters'\n",
      "c:\\Users\\freud\\anaconda3\\envs\\tf310\\lib\\site-packages\\statsmodels\\tsa\\statespace\\sarimax.py:978: UserWarning: Non-invertible starting MA parameters found. Using zeros as starting parameters.\n",
      "  warn('Non-invertible starting MA parameters found.'\n"
     ]
    },
    {
     "name": "stdout",
     "output_type": "stream",
     "text": [
      "Zone 88329b5839fffff - RMSE: 1.03, R2: 0.1927\n",
      "\n",
      "--- Working on Zone 40/139: 88329b583bfffff ---\n"
     ]
    },
    {
     "name": "stderr",
     "output_type": "stream",
     "text": [
      "c:\\Users\\freud\\anaconda3\\envs\\tf310\\lib\\site-packages\\statsmodels\\tsa\\statespace\\sarimax.py:966: UserWarning: Non-stationary starting autoregressive parameters found. Using zeros as starting parameters.\n",
      "  warn('Non-stationary starting autoregressive parameters'\n",
      "c:\\Users\\freud\\anaconda3\\envs\\tf310\\lib\\site-packages\\statsmodels\\tsa\\statespace\\sarimax.py:978: UserWarning: Non-invertible starting MA parameters found. Using zeros as starting parameters.\n",
      "  warn('Non-invertible starting MA parameters found.'\n",
      "c:\\Users\\freud\\anaconda3\\envs\\tf310\\lib\\site-packages\\statsmodels\\tsa\\statespace\\sarimax.py:966: UserWarning: Non-stationary starting autoregressive parameters found. Using zeros as starting parameters.\n",
      "  warn('Non-stationary starting autoregressive parameters'\n",
      "c:\\Users\\freud\\anaconda3\\envs\\tf310\\lib\\site-packages\\statsmodels\\tsa\\statespace\\sarimax.py:978: UserWarning: Non-invertible starting MA parameters found. Using zeros as starting parameters.\n",
      "  warn('Non-invertible starting MA parameters found.'\n"
     ]
    },
    {
     "name": "stdout",
     "output_type": "stream",
     "text": [
      "Zone 88329b583bfffff - RMSE: 0.40, R2: 0.3825\n",
      "\n",
      "--- Working on Zone 41/139: 88329b5851fffff ---\n"
     ]
    },
    {
     "name": "stderr",
     "output_type": "stream",
     "text": [
      "c:\\Users\\freud\\anaconda3\\envs\\tf310\\lib\\site-packages\\statsmodels\\tsa\\statespace\\sarimax.py:966: UserWarning: Non-stationary starting autoregressive parameters found. Using zeros as starting parameters.\n",
      "  warn('Non-stationary starting autoregressive parameters'\n",
      "c:\\Users\\freud\\anaconda3\\envs\\tf310\\lib\\site-packages\\statsmodels\\tsa\\statespace\\sarimax.py:966: UserWarning: Non-stationary starting autoregressive parameters found. Using zeros as starting parameters.\n",
      "  warn('Non-stationary starting autoregressive parameters'\n"
     ]
    },
    {
     "name": "stdout",
     "output_type": "stream",
     "text": [
      "Zone 88329b5851fffff - RMSE: 1.94, R2: 0.6296\n",
      "\n",
      "--- Working on Zone 42/139: 88329b5853fffff ---\n",
      "Zone 88329b5853fffff - RMSE: 2.76, R2: 0.7611\n",
      "\n",
      "--- Working on Zone 43/139: 88329b5855fffff ---\n",
      "Zone 88329b5855fffff - RMSE: 0.60, R2: 0.4874\n",
      "\n",
      "--- Working on Zone 44/139: 88329b5857fffff ---\n",
      "Zone 88329b5857fffff - RMSE: 4.13, R2: 0.9225\n",
      "\n",
      "--- Working on Zone 45/139: 88329b5859fffff ---\n"
     ]
    },
    {
     "name": "stderr",
     "output_type": "stream",
     "text": [
      "c:\\Users\\freud\\anaconda3\\envs\\tf310\\lib\\site-packages\\statsmodels\\tsa\\statespace\\sarimax.py:966: UserWarning: Non-stationary starting autoregressive parameters found. Using zeros as starting parameters.\n",
      "  warn('Non-stationary starting autoregressive parameters'\n",
      "c:\\Users\\freud\\anaconda3\\envs\\tf310\\lib\\site-packages\\statsmodels\\tsa\\statespace\\sarimax.py:966: UserWarning: Non-stationary starting autoregressive parameters found. Using zeros as starting parameters.\n",
      "  warn('Non-stationary starting autoregressive parameters'\n"
     ]
    },
    {
     "name": "stdout",
     "output_type": "stream",
     "text": [
      "Zone 88329b5859fffff - RMSE: 1.25, R2: 0.6296\n",
      "\n",
      "--- Working on Zone 46/139: 88329b585bfffff ---\n"
     ]
    },
    {
     "name": "stderr",
     "output_type": "stream",
     "text": [
      "c:\\Users\\freud\\anaconda3\\envs\\tf310\\lib\\site-packages\\statsmodels\\tsa\\statespace\\sarimax.py:966: UserWarning: Non-stationary starting autoregressive parameters found. Using zeros as starting parameters.\n",
      "  warn('Non-stationary starting autoregressive parameters'\n"
     ]
    },
    {
     "name": "stdout",
     "output_type": "stream",
     "text": [
      "Zone 88329b585bfffff - RMSE: 2.33, R2: 0.5315\n",
      "\n",
      "--- Working on Zone 47/139: 88329b585dfffff ---\n"
     ]
    },
    {
     "name": "stderr",
     "output_type": "stream",
     "text": [
      "c:\\Users\\freud\\anaconda3\\envs\\tf310\\lib\\site-packages\\statsmodels\\tsa\\statespace\\sarimax.py:966: UserWarning: Non-stationary starting autoregressive parameters found. Using zeros as starting parameters.\n",
      "  warn('Non-stationary starting autoregressive parameters'\n"
     ]
    },
    {
     "name": "stdout",
     "output_type": "stream",
     "text": [
      "Zone 88329b585dfffff - RMSE: 0.49, R2: 0.0709\n",
      "\n",
      "--- Working on Zone 48/139: 88329b5863fffff ---\n"
     ]
    },
    {
     "name": "stderr",
     "output_type": "stream",
     "text": [
      "c:\\Users\\freud\\anaconda3\\envs\\tf310\\lib\\site-packages\\statsmodels\\tsa\\statespace\\sarimax.py:966: UserWarning: Non-stationary starting autoregressive parameters found. Using zeros as starting parameters.\n",
      "  warn('Non-stationary starting autoregressive parameters'\n",
      "c:\\Users\\freud\\anaconda3\\envs\\tf310\\lib\\site-packages\\statsmodels\\tsa\\statespace\\sarimax.py:966: UserWarning: Non-stationary starting autoregressive parameters found. Using zeros as starting parameters.\n",
      "  warn('Non-stationary starting autoregressive parameters'\n"
     ]
    },
    {
     "name": "stdout",
     "output_type": "stream",
     "text": [
      "Zone 88329b5863fffff - RMSE: 6.75, R2: 0.9247\n",
      "\n",
      "--- Working on Zone 49/139: 88329b586bfffff ---\n",
      "Zone 88329b586bfffff - RMSE: 0.49, R2: 0.4037\n",
      "\n",
      "--- Working on Zone 50/139: 88329b5881fffff ---\n"
     ]
    },
    {
     "name": "stderr",
     "output_type": "stream",
     "text": [
      "c:\\Users\\freud\\anaconda3\\envs\\tf310\\lib\\site-packages\\statsmodels\\tsa\\statespace\\sarimax.py:966: UserWarning: Non-stationary starting autoregressive parameters found. Using zeros as starting parameters.\n",
      "  warn('Non-stationary starting autoregressive parameters'\n",
      "c:\\Users\\freud\\anaconda3\\envs\\tf310\\lib\\site-packages\\statsmodels\\tsa\\statespace\\sarimax.py:966: UserWarning: Non-stationary starting autoregressive parameters found. Using zeros as starting parameters.\n",
      "  warn('Non-stationary starting autoregressive parameters'\n"
     ]
    },
    {
     "name": "stdout",
     "output_type": "stream",
     "text": [
      "Zone 88329b5881fffff - RMSE: 2.24, R2: 0.7267\n",
      "\n",
      "--- Working on Zone 51/139: 88329b5883fffff ---\n",
      "Zone 88329b5883fffff - RMSE: 4.59, R2: 0.8912\n",
      "\n",
      "--- Working on Zone 52/139: 88329b5885fffff ---\n"
     ]
    },
    {
     "name": "stderr",
     "output_type": "stream",
     "text": [
      "c:\\Users\\freud\\anaconda3\\envs\\tf310\\lib\\site-packages\\statsmodels\\tsa\\statespace\\sarimax.py:966: UserWarning: Non-stationary starting autoregressive parameters found. Using zeros as starting parameters.\n",
      "  warn('Non-stationary starting autoregressive parameters'\n",
      "c:\\Users\\freud\\anaconda3\\envs\\tf310\\lib\\site-packages\\statsmodels\\tsa\\statespace\\sarimax.py:966: UserWarning: Non-stationary starting autoregressive parameters found. Using zeros as starting parameters.\n",
      "  warn('Non-stationary starting autoregressive parameters'\n"
     ]
    },
    {
     "name": "stdout",
     "output_type": "stream",
     "text": [
      "Zone 88329b5885fffff - RMSE: 1.62, R2: 0.5884\n",
      "\n",
      "--- Working on Zone 53/139: 88329b5887fffff ---\n"
     ]
    },
    {
     "name": "stderr",
     "output_type": "stream",
     "text": [
      "c:\\Users\\freud\\anaconda3\\envs\\tf310\\lib\\site-packages\\statsmodels\\tsa\\statespace\\sarimax.py:966: UserWarning: Non-stationary starting autoregressive parameters found. Using zeros as starting parameters.\n",
      "  warn('Non-stationary starting autoregressive parameters'\n",
      "c:\\Users\\freud\\anaconda3\\envs\\tf310\\lib\\site-packages\\statsmodels\\tsa\\statespace\\sarimax.py:966: UserWarning: Non-stationary starting autoregressive parameters found. Using zeros as starting parameters.\n",
      "  warn('Non-stationary starting autoregressive parameters'\n"
     ]
    },
    {
     "name": "stdout",
     "output_type": "stream",
     "text": [
      "Zone 88329b5887fffff - RMSE: 1.31, R2: 0.7944\n",
      "\n",
      "--- Working on Zone 54/139: 88329b5889fffff ---\n"
     ]
    },
    {
     "name": "stderr",
     "output_type": "stream",
     "text": [
      "c:\\Users\\freud\\anaconda3\\envs\\tf310\\lib\\site-packages\\statsmodels\\tsa\\statespace\\sarimax.py:966: UserWarning: Non-stationary starting autoregressive parameters found. Using zeros as starting parameters.\n",
      "  warn('Non-stationary starting autoregressive parameters'\n",
      "c:\\Users\\freud\\anaconda3\\envs\\tf310\\lib\\site-packages\\statsmodels\\tsa\\statespace\\sarimax.py:966: UserWarning: Non-stationary starting autoregressive parameters found. Using zeros as starting parameters.\n",
      "  warn('Non-stationary starting autoregressive parameters'\n"
     ]
    },
    {
     "name": "stdout",
     "output_type": "stream",
     "text": [
      "Zone 88329b5889fffff - RMSE: 4.80, R2: 0.9644\n",
      "\n",
      "--- Working on Zone 55/139: 88329b588bfffff ---\n"
     ]
    },
    {
     "name": "stderr",
     "output_type": "stream",
     "text": [
      "c:\\Users\\freud\\anaconda3\\envs\\tf310\\lib\\site-packages\\statsmodels\\tsa\\statespace\\sarimax.py:966: UserWarning: Non-stationary starting autoregressive parameters found. Using zeros as starting parameters.\n",
      "  warn('Non-stationary starting autoregressive parameters'\n",
      "c:\\Users\\freud\\anaconda3\\envs\\tf310\\lib\\site-packages\\statsmodels\\tsa\\statespace\\sarimax.py:966: UserWarning: Non-stationary starting autoregressive parameters found. Using zeros as starting parameters.\n",
      "  warn('Non-stationary starting autoregressive parameters'\n"
     ]
    },
    {
     "name": "stdout",
     "output_type": "stream",
     "text": [
      "Zone 88329b588bfffff - RMSE: 3.47, R2: 0.8209\n",
      "\n",
      "--- Working on Zone 56/139: 88329b588dfffff ---\n"
     ]
    },
    {
     "name": "stderr",
     "output_type": "stream",
     "text": [
      "c:\\Users\\freud\\anaconda3\\envs\\tf310\\lib\\site-packages\\statsmodels\\tsa\\statespace\\sarimax.py:966: UserWarning: Non-stationary starting autoregressive parameters found. Using zeros as starting parameters.\n",
      "  warn('Non-stationary starting autoregressive parameters'\n",
      "c:\\Users\\freud\\anaconda3\\envs\\tf310\\lib\\site-packages\\statsmodels\\tsa\\statespace\\sarimax.py:966: UserWarning: Non-stationary starting autoregressive parameters found. Using zeros as starting parameters.\n",
      "  warn('Non-stationary starting autoregressive parameters'\n"
     ]
    },
    {
     "name": "stdout",
     "output_type": "stream",
     "text": [
      "Zone 88329b588dfffff - RMSE: 11.32, R2: 0.9196\n",
      "\n",
      "--- Working on Zone 57/139: 88329b5895fffff ---\n",
      "Zone 88329b5895fffff - RMSE: 3.87, R2: 0.8801\n",
      "\n",
      "--- Working on Zone 58/139: 88329b589dfffff ---\n",
      "Zone 88329b589dfffff - RMSE: 2.67, R2: 0.6677\n",
      "\n",
      "--- Working on Zone 59/139: 88329b58a1fffff ---\n",
      "Zone 88329b58a1fffff - RMSE: 0.80, R2: 0.5282\n",
      "\n",
      "--- Working on Zone 60/139: 88329b58a3fffff ---\n",
      "Zone 88329b58a3fffff - RMSE: 1.33, R2: 0.6630\n",
      "\n",
      "--- Working on Zone 61/139: 88329b58a9fffff ---\n"
     ]
    },
    {
     "name": "stderr",
     "output_type": "stream",
     "text": [
      "c:\\Users\\freud\\anaconda3\\envs\\tf310\\lib\\site-packages\\statsmodels\\tsa\\statespace\\sarimax.py:966: UserWarning: Non-stationary starting autoregressive parameters found. Using zeros as starting parameters.\n",
      "  warn('Non-stationary starting autoregressive parameters'\n",
      "c:\\Users\\freud\\anaconda3\\envs\\tf310\\lib\\site-packages\\statsmodels\\tsa\\statespace\\sarimax.py:978: UserWarning: Non-invertible starting MA parameters found. Using zeros as starting parameters.\n",
      "  warn('Non-invertible starting MA parameters found.'\n",
      "c:\\Users\\freud\\anaconda3\\envs\\tf310\\lib\\site-packages\\statsmodels\\tsa\\statespace\\sarimax.py:966: UserWarning: Non-stationary starting autoregressive parameters found. Using zeros as starting parameters.\n",
      "  warn('Non-stationary starting autoregressive parameters'\n",
      "c:\\Users\\freud\\anaconda3\\envs\\tf310\\lib\\site-packages\\statsmodels\\tsa\\statespace\\sarimax.py:978: UserWarning: Non-invertible starting MA parameters found. Using zeros as starting parameters.\n",
      "  warn('Non-invertible starting MA parameters found.'\n"
     ]
    },
    {
     "name": "stdout",
     "output_type": "stream",
     "text": [
      "Zone 88329b58a9fffff - RMSE: 0.67, R2: 0.4235\n",
      "\n",
      "--- Working on Zone 62/139: 88329b58abfffff ---\n"
     ]
    },
    {
     "name": "stderr",
     "output_type": "stream",
     "text": [
      "c:\\Users\\freud\\anaconda3\\envs\\tf310\\lib\\site-packages\\statsmodels\\tsa\\statespace\\sarimax.py:966: UserWarning: Non-stationary starting autoregressive parameters found. Using zeros as starting parameters.\n",
      "  warn('Non-stationary starting autoregressive parameters'\n",
      "c:\\Users\\freud\\anaconda3\\envs\\tf310\\lib\\site-packages\\statsmodels\\tsa\\statespace\\sarimax.py:966: UserWarning: Non-stationary starting autoregressive parameters found. Using zeros as starting parameters.\n",
      "  warn('Non-stationary starting autoregressive parameters'\n"
     ]
    },
    {
     "name": "stdout",
     "output_type": "stream",
     "text": [
      "Zone 88329b58abfffff - RMSE: 0.82, R2: 0.2850\n",
      "\n",
      "--- Working on Zone 63/139: 88329b58adfffff ---\n",
      "Zone 88329b58adfffff - RMSE: 0.56, R2: 0.1213\n",
      "\n",
      "--- Working on Zone 64/139: 88329b58b1fffff ---\n"
     ]
    },
    {
     "name": "stderr",
     "output_type": "stream",
     "text": [
      "c:\\Users\\freud\\anaconda3\\envs\\tf310\\lib\\site-packages\\statsmodels\\tsa\\statespace\\sarimax.py:966: UserWarning: Non-stationary starting autoregressive parameters found. Using zeros as starting parameters.\n",
      "  warn('Non-stationary starting autoregressive parameters'\n",
      "c:\\Users\\freud\\anaconda3\\envs\\tf310\\lib\\site-packages\\statsmodels\\tsa\\statespace\\sarimax.py:966: UserWarning: Non-stationary starting autoregressive parameters found. Using zeros as starting parameters.\n",
      "  warn('Non-stationary starting autoregressive parameters'\n"
     ]
    },
    {
     "name": "stdout",
     "output_type": "stream",
     "text": [
      "Zone 88329b58b1fffff - RMSE: 0.70, R2: 0.2937\n",
      "\n",
      "--- Working on Zone 65/139: 88329b58b3fffff ---\n",
      "Zone 88329b58b3fffff - RMSE: 1.69, R2: 0.7850\n",
      "\n",
      "--- Working on Zone 66/139: 88329b58b9fffff ---\n"
     ]
    },
    {
     "name": "stderr",
     "output_type": "stream",
     "text": [
      "c:\\Users\\freud\\anaconda3\\envs\\tf310\\lib\\site-packages\\statsmodels\\tsa\\statespace\\sarimax.py:966: UserWarning: Non-stationary starting autoregressive parameters found. Using zeros as starting parameters.\n",
      "  warn('Non-stationary starting autoregressive parameters'\n",
      "c:\\Users\\freud\\anaconda3\\envs\\tf310\\lib\\site-packages\\statsmodels\\tsa\\statespace\\sarimax.py:966: UserWarning: Non-stationary starting autoregressive parameters found. Using zeros as starting parameters.\n",
      "  warn('Non-stationary starting autoregressive parameters'\n"
     ]
    },
    {
     "name": "stdout",
     "output_type": "stream",
     "text": [
      "Zone 88329b58b9fffff - RMSE: 1.99, R2: 0.8317\n",
      "\n",
      "--- Working on Zone 67/139: 88329b58bbfffff ---\n"
     ]
    },
    {
     "name": "stderr",
     "output_type": "stream",
     "text": [
      "c:\\Users\\freud\\anaconda3\\envs\\tf310\\lib\\site-packages\\statsmodels\\tsa\\statespace\\sarimax.py:966: UserWarning: Non-stationary starting autoregressive parameters found. Using zeros as starting parameters.\n",
      "  warn('Non-stationary starting autoregressive parameters'\n",
      "c:\\Users\\freud\\anaconda3\\envs\\tf310\\lib\\site-packages\\statsmodels\\tsa\\statespace\\sarimax.py:978: UserWarning: Non-invertible starting MA parameters found. Using zeros as starting parameters.\n",
      "  warn('Non-invertible starting MA parameters found.'\n",
      "c:\\Users\\freud\\anaconda3\\envs\\tf310\\lib\\site-packages\\statsmodels\\tsa\\statespace\\sarimax.py:966: UserWarning: Non-stationary starting autoregressive parameters found. Using zeros as starting parameters.\n",
      "  warn('Non-stationary starting autoregressive parameters'\n"
     ]
    },
    {
     "name": "stdout",
     "output_type": "stream",
     "text": [
      "Zone 88329b58bbfffff - RMSE: 0.73, R2: 0.3995\n",
      "\n",
      "--- Working on Zone 68/139: 88329b58bdfffff ---\n",
      "Zone 88329b58bdfffff - RMSE: 6.17, R2: 0.8919\n",
      "\n",
      "--- Working on Zone 69/139: 88329b58c1fffff ---\n"
     ]
    },
    {
     "name": "stderr",
     "output_type": "stream",
     "text": [
      "c:\\Users\\freud\\anaconda3\\envs\\tf310\\lib\\site-packages\\statsmodels\\tsa\\statespace\\sarimax.py:966: UserWarning: Non-stationary starting autoregressive parameters found. Using zeros as starting parameters.\n",
      "  warn('Non-stationary starting autoregressive parameters'\n",
      "c:\\Users\\freud\\anaconda3\\envs\\tf310\\lib\\site-packages\\statsmodels\\tsa\\statespace\\sarimax.py:966: UserWarning: Non-stationary starting autoregressive parameters found. Using zeros as starting parameters.\n",
      "  warn('Non-stationary starting autoregressive parameters'\n"
     ]
    },
    {
     "name": "stdout",
     "output_type": "stream",
     "text": [
      "Zone 88329b58c1fffff - RMSE: 2.62, R2: 0.7685\n",
      "\n",
      "--- Working on Zone 70/139: 88329b58c3fffff ---\n"
     ]
    },
    {
     "name": "stderr",
     "output_type": "stream",
     "text": [
      "c:\\Users\\freud\\anaconda3\\envs\\tf310\\lib\\site-packages\\statsmodels\\tsa\\statespace\\sarimax.py:966: UserWarning: Non-stationary starting autoregressive parameters found. Using zeros as starting parameters.\n",
      "  warn('Non-stationary starting autoregressive parameters'\n",
      "c:\\Users\\freud\\anaconda3\\envs\\tf310\\lib\\site-packages\\statsmodels\\tsa\\statespace\\sarimax.py:966: UserWarning: Non-stationary starting autoregressive parameters found. Using zeros as starting parameters.\n",
      "  warn('Non-stationary starting autoregressive parameters'\n"
     ]
    },
    {
     "name": "stdout",
     "output_type": "stream",
     "text": [
      "Zone 88329b58c3fffff - RMSE: 5.50, R2: 0.9167\n",
      "\n",
      "--- Working on Zone 71/139: 88329b58c5fffff ---\n"
     ]
    },
    {
     "name": "stderr",
     "output_type": "stream",
     "text": [
      "c:\\Users\\freud\\anaconda3\\envs\\tf310\\lib\\site-packages\\statsmodels\\tsa\\statespace\\sarimax.py:966: UserWarning: Non-stationary starting autoregressive parameters found. Using zeros as starting parameters.\n",
      "  warn('Non-stationary starting autoregressive parameters'\n",
      "c:\\Users\\freud\\anaconda3\\envs\\tf310\\lib\\site-packages\\statsmodels\\tsa\\statespace\\sarimax.py:966: UserWarning: Non-stationary starting autoregressive parameters found. Using zeros as starting parameters.\n",
      "  warn('Non-stationary starting autoregressive parameters'\n"
     ]
    },
    {
     "name": "stdout",
     "output_type": "stream",
     "text": [
      "Zone 88329b58c5fffff - RMSE: 3.46, R2: 0.8278\n",
      "\n",
      "--- Working on Zone 72/139: 88329b58c7fffff ---\n",
      "Zone 88329b58c7fffff - RMSE: 3.88, R2: 0.7815\n",
      "\n",
      "--- Working on Zone 73/139: 88329b58c9fffff ---\n",
      "Zone 88329b58c9fffff - RMSE: 0.76, R2: 0.2147\n",
      "\n",
      "--- Working on Zone 74/139: 88329b58cbfffff ---\n",
      "Zone 88329b58cbfffff - RMSE: 8.01, R2: 0.9054\n",
      "\n",
      "--- Working on Zone 75/139: 88329b58cdfffff ---\n",
      "Zone 88329b58cdfffff - RMSE: 4.05, R2: 0.9028\n",
      "\n",
      "--- Working on Zone 76/139: 88329b58d1fffff ---\n"
     ]
    },
    {
     "name": "stderr",
     "output_type": "stream",
     "text": [
      "c:\\Users\\freud\\anaconda3\\envs\\tf310\\lib\\site-packages\\statsmodels\\tsa\\statespace\\sarimax.py:966: UserWarning: Non-stationary starting autoregressive parameters found. Using zeros as starting parameters.\n",
      "  warn('Non-stationary starting autoregressive parameters'\n",
      "c:\\Users\\freud\\anaconda3\\envs\\tf310\\lib\\site-packages\\statsmodels\\tsa\\statespace\\sarimax.py:966: UserWarning: Non-stationary starting autoregressive parameters found. Using zeros as starting parameters.\n",
      "  warn('Non-stationary starting autoregressive parameters'\n"
     ]
    },
    {
     "name": "stdout",
     "output_type": "stream",
     "text": [
      "Zone 88329b58d1fffff - RMSE: 2.10, R2: 0.6764\n",
      "\n",
      "--- Working on Zone 77/139: 88329b58d3fffff ---\n"
     ]
    },
    {
     "name": "stderr",
     "output_type": "stream",
     "text": [
      "c:\\Users\\freud\\anaconda3\\envs\\tf310\\lib\\site-packages\\statsmodels\\tsa\\statespace\\sarimax.py:966: UserWarning: Non-stationary starting autoregressive parameters found. Using zeros as starting parameters.\n",
      "  warn('Non-stationary starting autoregressive parameters'\n",
      "c:\\Users\\freud\\anaconda3\\envs\\tf310\\lib\\site-packages\\statsmodels\\tsa\\statespace\\sarimax.py:978: UserWarning: Non-invertible starting MA parameters found. Using zeros as starting parameters.\n",
      "  warn('Non-invertible starting MA parameters found.'\n",
      "c:\\Users\\freud\\anaconda3\\envs\\tf310\\lib\\site-packages\\statsmodels\\tsa\\statespace\\sarimax.py:966: UserWarning: Non-stationary starting autoregressive parameters found. Using zeros as starting parameters.\n",
      "  warn('Non-stationary starting autoregressive parameters'\n",
      "c:\\Users\\freud\\anaconda3\\envs\\tf310\\lib\\site-packages\\statsmodels\\tsa\\statespace\\sarimax.py:978: UserWarning: Non-invertible starting MA parameters found. Using zeros as starting parameters.\n",
      "  warn('Non-invertible starting MA parameters found.'\n"
     ]
    },
    {
     "name": "stdout",
     "output_type": "stream",
     "text": [
      "Zone 88329b58d3fffff - RMSE: 0.76, R2: 0.2545\n",
      "\n",
      "--- Working on Zone 78/139: 88329b58d5fffff ---\n",
      "Zone 88329b58d5fffff - RMSE: 3.61, R2: 0.8924\n",
      "\n",
      "--- Working on Zone 79/139: 88329b58d7fffff ---\n",
      "Zone 88329b58d7fffff - RMSE: 2.19, R2: 0.8538\n",
      "\n",
      "--- Working on Zone 80/139: 88329b58d9fffff ---\n"
     ]
    },
    {
     "name": "stderr",
     "output_type": "stream",
     "text": [
      "c:\\Users\\freud\\anaconda3\\envs\\tf310\\lib\\site-packages\\statsmodels\\tsa\\statespace\\sarimax.py:966: UserWarning: Non-stationary starting autoregressive parameters found. Using zeros as starting parameters.\n",
      "  warn('Non-stationary starting autoregressive parameters'\n",
      "c:\\Users\\freud\\anaconda3\\envs\\tf310\\lib\\site-packages\\statsmodels\\tsa\\statespace\\sarimax.py:966: UserWarning: Non-stationary starting autoregressive parameters found. Using zeros as starting parameters.\n",
      "  warn('Non-stationary starting autoregressive parameters'\n"
     ]
    },
    {
     "name": "stdout",
     "output_type": "stream",
     "text": [
      "Zone 88329b58d9fffff - RMSE: 2.47, R2: 0.5542\n",
      "\n",
      "--- Working on Zone 81/139: 88329b58dbfffff ---\n",
      "Zone 88329b58dbfffff - RMSE: 0.80, R2: 0.2832\n",
      "\n",
      "--- Working on Zone 82/139: 88329b58ddfffff ---\n"
     ]
    },
    {
     "name": "stderr",
     "output_type": "stream",
     "text": [
      "c:\\Users\\freud\\anaconda3\\envs\\tf310\\lib\\site-packages\\statsmodels\\tsa\\statespace\\sarimax.py:966: UserWarning: Non-stationary starting autoregressive parameters found. Using zeros as starting parameters.\n",
      "  warn('Non-stationary starting autoregressive parameters'\n"
     ]
    },
    {
     "name": "stdout",
     "output_type": "stream",
     "text": [
      "Zone 88329b58ddfffff - RMSE: 2.17, R2: 0.8251\n",
      "\n",
      "--- Working on Zone 83/139: 88329b58e1fffff ---\n"
     ]
    },
    {
     "name": "stderr",
     "output_type": "stream",
     "text": [
      "c:\\Users\\freud\\anaconda3\\envs\\tf310\\lib\\site-packages\\statsmodels\\tsa\\statespace\\sarimax.py:966: UserWarning: Non-stationary starting autoregressive parameters found. Using zeros as starting parameters.\n",
      "  warn('Non-stationary starting autoregressive parameters'\n",
      "c:\\Users\\freud\\anaconda3\\envs\\tf310\\lib\\site-packages\\statsmodels\\tsa\\statespace\\sarimax.py:966: UserWarning: Non-stationary starting autoregressive parameters found. Using zeros as starting parameters.\n",
      "  warn('Non-stationary starting autoregressive parameters'\n"
     ]
    },
    {
     "name": "stdout",
     "output_type": "stream",
     "text": [
      "Zone 88329b58e1fffff - RMSE: 4.99, R2: 0.8828\n",
      "\n",
      "--- Working on Zone 84/139: 88329b58e3fffff ---\n"
     ]
    },
    {
     "name": "stderr",
     "output_type": "stream",
     "text": [
      "c:\\Users\\freud\\anaconda3\\envs\\tf310\\lib\\site-packages\\statsmodels\\tsa\\statespace\\sarimax.py:966: UserWarning: Non-stationary starting autoregressive parameters found. Using zeros as starting parameters.\n",
      "  warn('Non-stationary starting autoregressive parameters'\n",
      "c:\\Users\\freud\\anaconda3\\envs\\tf310\\lib\\site-packages\\statsmodels\\tsa\\statespace\\sarimax.py:966: UserWarning: Non-stationary starting autoregressive parameters found. Using zeros as starting parameters.\n",
      "  warn('Non-stationary starting autoregressive parameters'\n"
     ]
    },
    {
     "name": "stdout",
     "output_type": "stream",
     "text": [
      "Zone 88329b58e3fffff - RMSE: 5.72, R2: 0.8296\n",
      "\n",
      "--- Working on Zone 85/139: 88329b58e5fffff ---\n",
      "Zone 88329b58e5fffff - RMSE: 1.81, R2: 0.5548\n",
      "\n",
      "--- Working on Zone 86/139: 88329b58e7fffff ---\n",
      "Zone 88329b58e7fffff - RMSE: 0.93, R2: 0.5958\n",
      "\n",
      "--- Working on Zone 87/139: 88329b58e9fffff ---\n"
     ]
    },
    {
     "name": "stderr",
     "output_type": "stream",
     "text": [
      "c:\\Users\\freud\\anaconda3\\envs\\tf310\\lib\\site-packages\\statsmodels\\tsa\\statespace\\sarimax.py:966: UserWarning: Non-stationary starting autoregressive parameters found. Using zeros as starting parameters.\n",
      "  warn('Non-stationary starting autoregressive parameters'\n"
     ]
    },
    {
     "name": "stdout",
     "output_type": "stream",
     "text": [
      "Zone 88329b58e9fffff - RMSE: 4.73, R2: 0.6946\n",
      "\n",
      "--- Working on Zone 88/139: 88329b58ebfffff ---\n",
      "Zone 88329b58ebfffff - RMSE: 4.86, R2: 0.9097\n",
      "\n",
      "--- Working on Zone 89/139: 88329b58edfffff ---\n",
      "Zone 88329b58edfffff - RMSE: 2.88, R2: 0.8184\n",
      "\n",
      "--- Working on Zone 90/139: 88329b59d3fffff ---\n",
      "Zone 88329b59d3fffff - RMSE: 0.09, R2: 0.1464\n",
      "\n",
      "--- Working on Zone 91/139: 88329b59d7fffff ---\n",
      "Zone 88329b59d7fffff - RMSE: 0.21, R2: 0.0000\n",
      "\n",
      "--- Working on Zone 92/139: 88329b59dbfffff ---\n"
     ]
    },
    {
     "name": "stderr",
     "output_type": "stream",
     "text": [
      "c:\\Users\\freud\\anaconda3\\envs\\tf310\\lib\\site-packages\\statsmodels\\tsa\\statespace\\sarimax.py:966: UserWarning: Non-stationary starting autoregressive parameters found. Using zeros as starting parameters.\n",
      "  warn('Non-stationary starting autoregressive parameters'\n",
      "c:\\Users\\freud\\anaconda3\\envs\\tf310\\lib\\site-packages\\statsmodels\\tsa\\statespace\\sarimax.py:966: UserWarning: Non-stationary starting autoregressive parameters found. Using zeros as starting parameters.\n",
      "  warn('Non-stationary starting autoregressive parameters'\n"
     ]
    },
    {
     "name": "stdout",
     "output_type": "stream",
     "text": [
      "Zone 88329b59dbfffff - RMSE: 1.77, R2: 0.7271\n",
      "\n",
      "--- Working on Zone 93/139: 88329b5a15fffff ---\n",
      "Zone 88329b5a15fffff - RMSE: 0.10, R2: -0.0159\n",
      "\n",
      "--- Working on Zone 94/139: 88329b5a31fffff ---\n"
     ]
    },
    {
     "name": "stderr",
     "output_type": "stream",
     "text": [
      "c:\\Users\\freud\\anaconda3\\envs\\tf310\\lib\\site-packages\\statsmodels\\tsa\\statespace\\sarimax.py:966: UserWarning: Non-stationary starting autoregressive parameters found. Using zeros as starting parameters.\n",
      "  warn('Non-stationary starting autoregressive parameters'\n",
      "c:\\Users\\freud\\anaconda3\\envs\\tf310\\lib\\site-packages\\statsmodels\\tsa\\statespace\\sarimax.py:978: UserWarning: Non-invertible starting MA parameters found. Using zeros as starting parameters.\n",
      "  warn('Non-invertible starting MA parameters found.'\n",
      "c:\\Users\\freud\\anaconda3\\envs\\tf310\\lib\\site-packages\\statsmodels\\tsa\\statespace\\sarimax.py:966: UserWarning: Non-stationary starting autoregressive parameters found. Using zeros as starting parameters.\n",
      "  warn('Non-stationary starting autoregressive parameters'\n",
      "c:\\Users\\freud\\anaconda3\\envs\\tf310\\lib\\site-packages\\statsmodels\\tsa\\statespace\\sarimax.py:978: UserWarning: Non-invertible starting MA parameters found. Using zeros as starting parameters.\n",
      "  warn('Non-invertible starting MA parameters found.'\n"
     ]
    },
    {
     "name": "stdout",
     "output_type": "stream",
     "text": [
      "Zone 88329b5a31fffff - RMSE: 0.36, R2: 0.0949\n",
      "\n",
      "--- Working on Zone 95/139: 88329b5a33fffff ---\n",
      "Zone 88329b5a33fffff - RMSE: 0.17, R2: 0.2344\n",
      "\n",
      "--- Working on Zone 96/139: 88329b5a81fffff ---\n"
     ]
    },
    {
     "name": "stderr",
     "output_type": "stream",
     "text": [
      "c:\\Users\\freud\\anaconda3\\envs\\tf310\\lib\\site-packages\\statsmodels\\tsa\\statespace\\sarimax.py:966: UserWarning: Non-stationary starting autoregressive parameters found. Using zeros as starting parameters.\n",
      "  warn('Non-stationary starting autoregressive parameters'\n",
      "c:\\Users\\freud\\anaconda3\\envs\\tf310\\lib\\site-packages\\statsmodels\\tsa\\statespace\\sarimax.py:966: UserWarning: Non-stationary starting autoregressive parameters found. Using zeros as starting parameters.\n",
      "  warn('Non-stationary starting autoregressive parameters'\n"
     ]
    },
    {
     "name": "stdout",
     "output_type": "stream",
     "text": [
      "Zone 88329b5a81fffff - RMSE: 2.14, R2: 0.7068\n",
      "\n",
      "--- Working on Zone 97/139: 88329b5a83fffff ---\n"
     ]
    },
    {
     "name": "stderr",
     "output_type": "stream",
     "text": [
      "c:\\Users\\freud\\anaconda3\\envs\\tf310\\lib\\site-packages\\statsmodels\\tsa\\statespace\\sarimax.py:966: UserWarning: Non-stationary starting autoregressive parameters found. Using zeros as starting parameters.\n",
      "  warn('Non-stationary starting autoregressive parameters'\n"
     ]
    },
    {
     "name": "stdout",
     "output_type": "stream",
     "text": [
      "Zone 88329b5a83fffff - RMSE: 1.19, R2: 0.4682\n",
      "\n",
      "--- Working on Zone 98/139: 88329b5a85fffff ---\n"
     ]
    },
    {
     "name": "stderr",
     "output_type": "stream",
     "text": [
      "c:\\Users\\freud\\anaconda3\\envs\\tf310\\lib\\site-packages\\statsmodels\\tsa\\statespace\\sarimax.py:966: UserWarning: Non-stationary starting autoregressive parameters found. Using zeros as starting parameters.\n",
      "  warn('Non-stationary starting autoregressive parameters'\n",
      "c:\\Users\\freud\\anaconda3\\envs\\tf310\\lib\\site-packages\\statsmodels\\tsa\\statespace\\sarimax.py:966: UserWarning: Non-stationary starting autoregressive parameters found. Using zeros as starting parameters.\n",
      "  warn('Non-stationary starting autoregressive parameters'\n"
     ]
    },
    {
     "name": "stdout",
     "output_type": "stream",
     "text": [
      "Zone 88329b5a85fffff - RMSE: 1.47, R2: 0.7286\n",
      "\n",
      "--- Working on Zone 99/139: 88329b5a87fffff ---\n",
      "Zone 88329b5a87fffff - RMSE: 4.96, R2: 0.8729\n",
      "\n",
      "--- Working on Zone 100/139: 88329b5a89fffff ---\n"
     ]
    },
    {
     "name": "stderr",
     "output_type": "stream",
     "text": [
      "c:\\Users\\freud\\anaconda3\\envs\\tf310\\lib\\site-packages\\statsmodels\\tsa\\statespace\\sarimax.py:966: UserWarning: Non-stationary starting autoregressive parameters found. Using zeros as starting parameters.\n",
      "  warn('Non-stationary starting autoregressive parameters'\n",
      "c:\\Users\\freud\\anaconda3\\envs\\tf310\\lib\\site-packages\\statsmodels\\tsa\\statespace\\sarimax.py:978: UserWarning: Non-invertible starting MA parameters found. Using zeros as starting parameters.\n",
      "  warn('Non-invertible starting MA parameters found.'\n",
      "c:\\Users\\freud\\anaconda3\\envs\\tf310\\lib\\site-packages\\statsmodels\\tsa\\statespace\\sarimax.py:966: UserWarning: Non-stationary starting autoregressive parameters found. Using zeros as starting parameters.\n",
      "  warn('Non-stationary starting autoregressive parameters'\n",
      "c:\\Users\\freud\\anaconda3\\envs\\tf310\\lib\\site-packages\\statsmodels\\tsa\\statespace\\sarimax.py:978: UserWarning: Non-invertible starting MA parameters found. Using zeros as starting parameters.\n",
      "  warn('Non-invertible starting MA parameters found.'\n"
     ]
    },
    {
     "name": "stdout",
     "output_type": "stream",
     "text": [
      "Zone 88329b5a89fffff - RMSE: 0.93, R2: 0.2493\n",
      "\n",
      "--- Working on Zone 101/139: 88329b5a8bfffff ---\n",
      "Zone 88329b5a8bfffff - RMSE: 0.85, R2: 0.2422\n",
      "\n",
      "--- Working on Zone 102/139: 88329b5a8dfffff ---\n"
     ]
    },
    {
     "name": "stderr",
     "output_type": "stream",
     "text": [
      "c:\\Users\\freud\\anaconda3\\envs\\tf310\\lib\\site-packages\\statsmodels\\tsa\\statespace\\sarimax.py:966: UserWarning: Non-stationary starting autoregressive parameters found. Using zeros as starting parameters.\n",
      "  warn('Non-stationary starting autoregressive parameters'\n",
      "c:\\Users\\freud\\anaconda3\\envs\\tf310\\lib\\site-packages\\statsmodels\\tsa\\statespace\\sarimax.py:978: UserWarning: Non-invertible starting MA parameters found. Using zeros as starting parameters.\n",
      "  warn('Non-invertible starting MA parameters found.'\n",
      "c:\\Users\\freud\\anaconda3\\envs\\tf310\\lib\\site-packages\\statsmodels\\tsa\\statespace\\sarimax.py:966: UserWarning: Non-stationary starting autoregressive parameters found. Using zeros as starting parameters.\n",
      "  warn('Non-stationary starting autoregressive parameters'\n",
      "c:\\Users\\freud\\anaconda3\\envs\\tf310\\lib\\site-packages\\statsmodels\\tsa\\statespace\\sarimax.py:978: UserWarning: Non-invertible starting MA parameters found. Using zeros as starting parameters.\n",
      "  warn('Non-invertible starting MA parameters found.'\n"
     ]
    },
    {
     "name": "stdout",
     "output_type": "stream",
     "text": [
      "Zone 88329b5a8dfffff - RMSE: 0.63, R2: 0.4884\n",
      "\n",
      "--- Working on Zone 103/139: 88329b5a91fffff ---\n"
     ]
    },
    {
     "name": "stderr",
     "output_type": "stream",
     "text": [
      "c:\\Users\\freud\\anaconda3\\envs\\tf310\\lib\\site-packages\\statsmodels\\tsa\\statespace\\sarimax.py:966: UserWarning: Non-stationary starting autoregressive parameters found. Using zeros as starting parameters.\n",
      "  warn('Non-stationary starting autoregressive parameters'\n",
      "c:\\Users\\freud\\anaconda3\\envs\\tf310\\lib\\site-packages\\statsmodels\\tsa\\statespace\\sarimax.py:978: UserWarning: Non-invertible starting MA parameters found. Using zeros as starting parameters.\n",
      "  warn('Non-invertible starting MA parameters found.'\n",
      "c:\\Users\\freud\\anaconda3\\envs\\tf310\\lib\\site-packages\\statsmodels\\tsa\\statespace\\sarimax.py:966: UserWarning: Non-stationary starting autoregressive parameters found. Using zeros as starting parameters.\n",
      "  warn('Non-stationary starting autoregressive parameters'\n"
     ]
    },
    {
     "name": "stdout",
     "output_type": "stream",
     "text": [
      "Zone 88329b5a91fffff - RMSE: 0.43, R2: -0.2347\n",
      "\n",
      "--- Working on Zone 104/139: 88329b5a93fffff ---\n"
     ]
    },
    {
     "name": "stderr",
     "output_type": "stream",
     "text": [
      "c:\\Users\\freud\\anaconda3\\envs\\tf310\\lib\\site-packages\\statsmodels\\tsa\\statespace\\sarimax.py:978: UserWarning: Non-invertible starting MA parameters found. Using zeros as starting parameters.\n",
      "  warn('Non-invertible starting MA parameters found.'\n",
      "c:\\Users\\freud\\anaconda3\\envs\\tf310\\lib\\site-packages\\statsmodels\\tsa\\statespace\\sarimax.py:966: UserWarning: Non-stationary starting autoregressive parameters found. Using zeros as starting parameters.\n",
      "  warn('Non-stationary starting autoregressive parameters'\n",
      "c:\\Users\\freud\\anaconda3\\envs\\tf310\\lib\\site-packages\\statsmodels\\tsa\\statespace\\sarimax.py:978: UserWarning: Non-invertible starting MA parameters found. Using zeros as starting parameters.\n",
      "  warn('Non-invertible starting MA parameters found.'\n"
     ]
    },
    {
     "name": "stdout",
     "output_type": "stream",
     "text": [
      "Zone 88329b5a93fffff - RMSE: 0.23, R2: -0.0386\n",
      "\n",
      "--- Working on Zone 105/139: 88329b5a95fffff ---\n"
     ]
    },
    {
     "name": "stderr",
     "output_type": "stream",
     "text": [
      "c:\\Users\\freud\\anaconda3\\envs\\tf310\\lib\\site-packages\\statsmodels\\tsa\\statespace\\sarimax.py:966: UserWarning: Non-stationary starting autoregressive parameters found. Using zeros as starting parameters.\n",
      "  warn('Non-stationary starting autoregressive parameters'\n",
      "c:\\Users\\freud\\anaconda3\\envs\\tf310\\lib\\site-packages\\statsmodels\\tsa\\statespace\\sarimax.py:966: UserWarning: Non-stationary starting autoregressive parameters found. Using zeros as starting parameters.\n",
      "  warn('Non-stationary starting autoregressive parameters'\n",
      "c:\\Users\\freud\\anaconda3\\envs\\tf310\\lib\\site-packages\\statsmodels\\tsa\\statespace\\sarimax.py:978: UserWarning: Non-invertible starting MA parameters found. Using zeros as starting parameters.\n",
      "  warn('Non-invertible starting MA parameters found.'\n"
     ]
    },
    {
     "name": "stdout",
     "output_type": "stream",
     "text": [
      "Zone 88329b5a95fffff - RMSE: 0.94, R2: 0.4252\n",
      "\n",
      "--- Working on Zone 106/139: 88329b5a97fffff ---\n"
     ]
    },
    {
     "name": "stderr",
     "output_type": "stream",
     "text": [
      "c:\\Users\\freud\\anaconda3\\envs\\tf310\\lib\\site-packages\\statsmodels\\tsa\\statespace\\sarimax.py:966: UserWarning: Non-stationary starting autoregressive parameters found. Using zeros as starting parameters.\n",
      "  warn('Non-stationary starting autoregressive parameters'\n"
     ]
    },
    {
     "name": "stdout",
     "output_type": "stream",
     "text": [
      "Zone 88329b5a97fffff - RMSE: 1.81, R2: 0.7185\n",
      "\n",
      "--- Working on Zone 107/139: 88329b5a9dfffff ---\n"
     ]
    },
    {
     "name": "stderr",
     "output_type": "stream",
     "text": [
      "c:\\Users\\freud\\anaconda3\\envs\\tf310\\lib\\site-packages\\statsmodels\\tsa\\statespace\\sarimax.py:966: UserWarning: Non-stationary starting autoregressive parameters found. Using zeros as starting parameters.\n",
      "  warn('Non-stationary starting autoregressive parameters'\n",
      "c:\\Users\\freud\\anaconda3\\envs\\tf310\\lib\\site-packages\\statsmodels\\tsa\\statespace\\sarimax.py:978: UserWarning: Non-invertible starting MA parameters found. Using zeros as starting parameters.\n",
      "  warn('Non-invertible starting MA parameters found.'\n"
     ]
    },
    {
     "name": "stdout",
     "output_type": "stream",
     "text": [
      "Zone 88329b5a9dfffff - RMSE: 0.20, R2: 0.0297\n",
      "\n",
      "--- Working on Zone 108/139: 88329b5aa1fffff ---\n"
     ]
    },
    {
     "name": "stderr",
     "output_type": "stream",
     "text": [
      "c:\\Users\\freud\\anaconda3\\envs\\tf310\\lib\\site-packages\\statsmodels\\tsa\\statespace\\sarimax.py:966: UserWarning: Non-stationary starting autoregressive parameters found. Using zeros as starting parameters.\n",
      "  warn('Non-stationary starting autoregressive parameters'\n",
      "c:\\Users\\freud\\anaconda3\\envs\\tf310\\lib\\site-packages\\statsmodels\\tsa\\statespace\\sarimax.py:966: UserWarning: Non-stationary starting autoregressive parameters found. Using zeros as starting parameters.\n",
      "  warn('Non-stationary starting autoregressive parameters'\n"
     ]
    },
    {
     "name": "stdout",
     "output_type": "stream",
     "text": [
      "Zone 88329b5aa1fffff - RMSE: 9.10, R2: 0.9520\n",
      "\n",
      "--- Working on Zone 109/139: 88329b5aa3fffff ---\n"
     ]
    },
    {
     "name": "stderr",
     "output_type": "stream",
     "text": [
      "c:\\Users\\freud\\anaconda3\\envs\\tf310\\lib\\site-packages\\statsmodels\\tsa\\statespace\\sarimax.py:966: UserWarning: Non-stationary starting autoregressive parameters found. Using zeros as starting parameters.\n",
      "  warn('Non-stationary starting autoregressive parameters'\n",
      "c:\\Users\\freud\\anaconda3\\envs\\tf310\\lib\\site-packages\\statsmodels\\tsa\\statespace\\sarimax.py:966: UserWarning: Non-stationary starting autoregressive parameters found. Using zeros as starting parameters.\n",
      "  warn('Non-stationary starting autoregressive parameters'\n"
     ]
    },
    {
     "name": "stdout",
     "output_type": "stream",
     "text": [
      "Zone 88329b5aa3fffff - RMSE: 5.59, R2: 0.8722\n",
      "\n",
      "--- Working on Zone 110/139: 88329b5aa5fffff ---\n",
      "Zone 88329b5aa5fffff - RMSE: 5.61, R2: 0.9520\n",
      "\n",
      "--- Working on Zone 111/139: 88329b5aa7fffff ---\n",
      "Zone 88329b5aa7fffff - RMSE: 5.63, R2: 0.9146\n",
      "\n",
      "--- Working on Zone 112/139: 88329b5aa9fffff ---\n",
      "Zone 88329b5aa9fffff - RMSE: 2.53, R2: 0.7885\n",
      "\n",
      "--- Working on Zone 113/139: 88329b5aabfffff ---\n"
     ]
    },
    {
     "name": "stderr",
     "output_type": "stream",
     "text": [
      "c:\\Users\\freud\\anaconda3\\envs\\tf310\\lib\\site-packages\\statsmodels\\tsa\\statespace\\sarimax.py:966: UserWarning: Non-stationary starting autoregressive parameters found. Using zeros as starting parameters.\n",
      "  warn('Non-stationary starting autoregressive parameters'\n"
     ]
    },
    {
     "name": "stdout",
     "output_type": "stream",
     "text": [
      "Zone 88329b5aabfffff - RMSE: 3.48, R2: 0.9082\n",
      "\n",
      "--- Working on Zone 114/139: 88329b5aadfffff ---\n",
      "Zone 88329b5aadfffff - RMSE: 2.84, R2: 0.8566\n",
      "\n",
      "--- Working on Zone 115/139: 88329b5ab1fffff ---\n",
      "Zone 88329b5ab1fffff - RMSE: 2.74, R2: 0.7397\n",
      "\n",
      "--- Working on Zone 116/139: 88329b5ab3fffff ---\n"
     ]
    },
    {
     "name": "stderr",
     "output_type": "stream",
     "text": [
      "c:\\Users\\freud\\anaconda3\\envs\\tf310\\lib\\site-packages\\statsmodels\\tsa\\statespace\\sarimax.py:966: UserWarning: Non-stationary starting autoregressive parameters found. Using zeros as starting parameters.\n",
      "  warn('Non-stationary starting autoregressive parameters'\n",
      "c:\\Users\\freud\\anaconda3\\envs\\tf310\\lib\\site-packages\\statsmodels\\tsa\\statespace\\sarimax.py:966: UserWarning: Non-stationary starting autoregressive parameters found. Using zeros as starting parameters.\n",
      "  warn('Non-stationary starting autoregressive parameters'\n"
     ]
    },
    {
     "name": "stdout",
     "output_type": "stream",
     "text": [
      "Zone 88329b5ab3fffff - RMSE: 2.72, R2: 0.7558\n",
      "\n",
      "--- Working on Zone 117/139: 88329b5ab5fffff ---\n",
      "Zone 88329b5ab5fffff - RMSE: 5.89, R2: 0.9119\n",
      "\n",
      "--- Working on Zone 118/139: 88329b5ab7fffff ---\n"
     ]
    },
    {
     "name": "stderr",
     "output_type": "stream",
     "text": [
      "c:\\Users\\freud\\anaconda3\\envs\\tf310\\lib\\site-packages\\statsmodels\\tsa\\statespace\\sarimax.py:966: UserWarning: Non-stationary starting autoregressive parameters found. Using zeros as starting parameters.\n",
      "  warn('Non-stationary starting autoregressive parameters'\n",
      "c:\\Users\\freud\\anaconda3\\envs\\tf310\\lib\\site-packages\\statsmodels\\tsa\\statespace\\sarimax.py:966: UserWarning: Non-stationary starting autoregressive parameters found. Using zeros as starting parameters.\n",
      "  warn('Non-stationary starting autoregressive parameters'\n"
     ]
    },
    {
     "name": "stdout",
     "output_type": "stream",
     "text": [
      "Zone 88329b5ab7fffff - RMSE: 4.56, R2: 0.8637\n",
      "\n",
      "--- Working on Zone 119/139: 88329b5ab9fffff ---\n",
      "Zone 88329b5ab9fffff - RMSE: 1.12, R2: 0.4263\n",
      "\n",
      "--- Working on Zone 120/139: 88329b5abbfffff ---\n",
      "Zone 88329b5abbfffff - RMSE: 4.08, R2: 0.6973\n",
      "\n",
      "--- Working on Zone 121/139: 88329b5abdfffff ---\n",
      "Zone 88329b5abdfffff - RMSE: 3.52, R2: 0.9338\n",
      "\n",
      "--- Working on Zone 122/139: 88329b5ac1fffff ---\n"
     ]
    },
    {
     "name": "stderr",
     "output_type": "stream",
     "text": [
      "c:\\Users\\freud\\anaconda3\\envs\\tf310\\lib\\site-packages\\statsmodels\\tsa\\statespace\\sarimax.py:966: UserWarning: Non-stationary starting autoregressive parameters found. Using zeros as starting parameters.\n",
      "  warn('Non-stationary starting autoregressive parameters'\n",
      "c:\\Users\\freud\\anaconda3\\envs\\tf310\\lib\\site-packages\\statsmodels\\tsa\\statespace\\sarimax.py:978: UserWarning: Non-invertible starting MA parameters found. Using zeros as starting parameters.\n",
      "  warn('Non-invertible starting MA parameters found.'\n",
      "c:\\Users\\freud\\anaconda3\\envs\\tf310\\lib\\site-packages\\statsmodels\\tsa\\statespace\\sarimax.py:966: UserWarning: Non-stationary starting autoregressive parameters found. Using zeros as starting parameters.\n",
      "  warn('Non-stationary starting autoregressive parameters'\n",
      "c:\\Users\\freud\\anaconda3\\envs\\tf310\\lib\\site-packages\\statsmodels\\tsa\\statespace\\sarimax.py:978: UserWarning: Non-invertible starting MA parameters found. Using zeros as starting parameters.\n",
      "  warn('Non-invertible starting MA parameters found.'\n"
     ]
    },
    {
     "name": "stdout",
     "output_type": "stream",
     "text": [
      "Zone 88329b5ac1fffff - RMSE: 0.41, R2: 0.0504\n",
      "\n",
      "--- Working on Zone 123/139: 88329b5ac5fffff ---\n",
      "Zone 88329b5ac5fffff - RMSE: 0.22, R2: 0.0052\n",
      "\n",
      "--- Working on Zone 124/139: 88329b5ac7fffff ---\n"
     ]
    },
    {
     "name": "stderr",
     "output_type": "stream",
     "text": [
      "c:\\Users\\freud\\anaconda3\\envs\\tf310\\lib\\site-packages\\statsmodels\\tsa\\statespace\\sarimax.py:966: UserWarning: Non-stationary starting autoregressive parameters found. Using zeros as starting parameters.\n",
      "  warn('Non-stationary starting autoregressive parameters'\n",
      "c:\\Users\\freud\\anaconda3\\envs\\tf310\\lib\\site-packages\\statsmodels\\tsa\\statespace\\sarimax.py:966: UserWarning: Non-stationary starting autoregressive parameters found. Using zeros as starting parameters.\n",
      "  warn('Non-stationary starting autoregressive parameters'\n"
     ]
    },
    {
     "name": "stdout",
     "output_type": "stream",
     "text": [
      "Zone 88329b5ac7fffff - RMSE: 0.87, R2: 0.4337\n",
      "\n",
      "--- Working on Zone 125/139: 88329b5ac9fffff ---\n"
     ]
    },
    {
     "name": "stderr",
     "output_type": "stream",
     "text": [
      "c:\\Users\\freud\\anaconda3\\envs\\tf310\\lib\\site-packages\\statsmodels\\base\\model.py:607: ConvergenceWarning: Maximum Likelihood optimization failed to converge. Check mle_retvals\n",
      "  warnings.warn(\"Maximum Likelihood optimization failed to \"\n"
     ]
    },
    {
     "name": "stdout",
     "output_type": "stream",
     "text": [
      "Zone 88329b5ac9fffff - RMSE: 0.01, R2: 0.0000\n",
      "\n",
      "--- Working on Zone 126/139: 88329b5acbfffff ---\n",
      "Zone 88329b5acbfffff - RMSE: 1.63, R2: 0.8142\n",
      "\n",
      "--- Working on Zone 127/139: 88329b5acdfffff ---\n",
      "Zone 88329b5acdfffff - RMSE: 0.15, R2: -0.0312\n",
      "\n",
      "--- Working on Zone 128/139: 88329b5ad1fffff ---\n",
      "Zone 88329b5ad1fffff - RMSE: 0.41, R2: 0.1244\n",
      "\n",
      "--- Working on Zone 129/139: 88329b5ad3fffff ---\n"
     ]
    },
    {
     "name": "stderr",
     "output_type": "stream",
     "text": [
      "c:\\Users\\freud\\anaconda3\\envs\\tf310\\lib\\site-packages\\statsmodels\\tsa\\statespace\\sarimax.py:966: UserWarning: Non-stationary starting autoregressive parameters found. Using zeros as starting parameters.\n",
      "  warn('Non-stationary starting autoregressive parameters'\n",
      "c:\\Users\\freud\\anaconda3\\envs\\tf310\\lib\\site-packages\\statsmodels\\tsa\\statespace\\sarimax.py:978: UserWarning: Non-invertible starting MA parameters found. Using zeros as starting parameters.\n",
      "  warn('Non-invertible starting MA parameters found.'\n",
      "c:\\Users\\freud\\anaconda3\\envs\\tf310\\lib\\site-packages\\statsmodels\\tsa\\statespace\\sarimax.py:966: UserWarning: Non-stationary starting autoregressive parameters found. Using zeros as starting parameters.\n",
      "  warn('Non-stationary starting autoregressive parameters'\n",
      "c:\\Users\\freud\\anaconda3\\envs\\tf310\\lib\\site-packages\\statsmodels\\tsa\\statespace\\sarimax.py:978: UserWarning: Non-invertible starting MA parameters found. Using zeros as starting parameters.\n",
      "  warn('Non-invertible starting MA parameters found.'\n"
     ]
    },
    {
     "name": "stdout",
     "output_type": "stream",
     "text": [
      "Zone 88329b5ad3fffff - RMSE: 0.50, R2: 0.1600\n",
      "\n",
      "--- Working on Zone 130/139: 88329b5ad5fffff ---\n"
     ]
    },
    {
     "name": "stderr",
     "output_type": "stream",
     "text": [
      "c:\\Users\\freud\\anaconda3\\envs\\tf310\\lib\\site-packages\\statsmodels\\tsa\\statespace\\sarimax.py:966: UserWarning: Non-stationary starting autoregressive parameters found. Using zeros as starting parameters.\n",
      "  warn('Non-stationary starting autoregressive parameters'\n",
      "c:\\Users\\freud\\anaconda3\\envs\\tf310\\lib\\site-packages\\statsmodels\\tsa\\statespace\\sarimax.py:966: UserWarning: Non-stationary starting autoregressive parameters found. Using zeros as starting parameters.\n",
      "  warn('Non-stationary starting autoregressive parameters'\n"
     ]
    },
    {
     "name": "stdout",
     "output_type": "stream",
     "text": [
      "Zone 88329b5ad5fffff - RMSE: 0.97, R2: 0.2402\n",
      "\n",
      "--- Working on Zone 131/139: 88329b5ad7fffff ---\n"
     ]
    },
    {
     "name": "stderr",
     "output_type": "stream",
     "text": [
      "c:\\Users\\freud\\anaconda3\\envs\\tf310\\lib\\site-packages\\statsmodels\\tsa\\statespace\\sarimax.py:966: UserWarning: Non-stationary starting autoregressive parameters found. Using zeros as starting parameters.\n",
      "  warn('Non-stationary starting autoregressive parameters'\n",
      "c:\\Users\\freud\\anaconda3\\envs\\tf310\\lib\\site-packages\\statsmodels\\tsa\\statespace\\sarimax.py:966: UserWarning: Non-stationary starting autoregressive parameters found. Using zeros as starting parameters.\n",
      "  warn('Non-stationary starting autoregressive parameters'\n"
     ]
    },
    {
     "name": "stdout",
     "output_type": "stream",
     "text": [
      "Zone 88329b5ad7fffff - RMSE: 0.94, R2: 0.1919\n",
      "\n",
      "--- Working on Zone 132/139: 88329b5adbfffff ---\n"
     ]
    },
    {
     "name": "stderr",
     "output_type": "stream",
     "text": [
      "c:\\Users\\freud\\anaconda3\\envs\\tf310\\lib\\site-packages\\statsmodels\\tsa\\statespace\\sarimax.py:966: UserWarning: Non-stationary starting autoregressive parameters found. Using zeros as starting parameters.\n",
      "  warn('Non-stationary starting autoregressive parameters'\n",
      "c:\\Users\\freud\\anaconda3\\envs\\tf310\\lib\\site-packages\\statsmodels\\tsa\\statespace\\sarimax.py:966: UserWarning: Non-stationary starting autoregressive parameters found. Using zeros as starting parameters.\n",
      "  warn('Non-stationary starting autoregressive parameters'\n"
     ]
    },
    {
     "name": "stdout",
     "output_type": "stream",
     "text": [
      "Zone 88329b5adbfffff - RMSE: 2.51, R2: 0.7935\n",
      "\n",
      "--- Working on Zone 133/139: 88329b5addfffff ---\n"
     ]
    },
    {
     "name": "stderr",
     "output_type": "stream",
     "text": [
      "c:\\Users\\freud\\anaconda3\\envs\\tf310\\lib\\site-packages\\statsmodels\\tsa\\statespace\\sarimax.py:966: UserWarning: Non-stationary starting autoregressive parameters found. Using zeros as starting parameters.\n",
      "  warn('Non-stationary starting autoregressive parameters'\n",
      "c:\\Users\\freud\\anaconda3\\envs\\tf310\\lib\\site-packages\\statsmodels\\tsa\\statespace\\sarimax.py:966: UserWarning: Non-stationary starting autoregressive parameters found. Using zeros as starting parameters.\n",
      "  warn('Non-stationary starting autoregressive parameters'\n"
     ]
    },
    {
     "name": "stdout",
     "output_type": "stream",
     "text": [
      "Zone 88329b5addfffff - RMSE: 0.69, R2: 0.5147\n",
      "\n",
      "--- Working on Zone 134/139: 88329b5ae1fffff ---\n",
      "Zone 88329b5ae1fffff - RMSE: 0.20, R2: -0.0187\n",
      "\n",
      "--- Working on Zone 135/139: 88329b5ae3fffff ---\n",
      "Zone 88329b5ae3fffff - RMSE: 1.16, R2: 0.8078\n",
      "\n",
      "--- Working on Zone 136/139: 88329b5ae5fffff ---\n"
     ]
    },
    {
     "name": "stderr",
     "output_type": "stream",
     "text": [
      "c:\\Users\\freud\\anaconda3\\envs\\tf310\\lib\\site-packages\\statsmodels\\tsa\\statespace\\sarimax.py:966: UserWarning: Non-stationary starting autoregressive parameters found. Using zeros as starting parameters.\n",
      "  warn('Non-stationary starting autoregressive parameters'\n",
      "c:\\Users\\freud\\anaconda3\\envs\\tf310\\lib\\site-packages\\statsmodels\\tsa\\statespace\\sarimax.py:978: UserWarning: Non-invertible starting MA parameters found. Using zeros as starting parameters.\n",
      "  warn('Non-invertible starting MA parameters found.'\n",
      "c:\\Users\\freud\\anaconda3\\envs\\tf310\\lib\\site-packages\\statsmodels\\tsa\\statespace\\sarimax.py:966: UserWarning: Non-stationary starting autoregressive parameters found. Using zeros as starting parameters.\n",
      "  warn('Non-stationary starting autoregressive parameters'\n",
      "c:\\Users\\freud\\anaconda3\\envs\\tf310\\lib\\site-packages\\statsmodels\\tsa\\statespace\\sarimax.py:978: UserWarning: Non-invertible starting MA parameters found. Using zeros as starting parameters.\n",
      "  warn('Non-invertible starting MA parameters found.'\n"
     ]
    },
    {
     "name": "stdout",
     "output_type": "stream",
     "text": [
      "Zone 88329b5ae5fffff - RMSE: 0.40, R2: 0.1161\n",
      "\n",
      "--- Working on Zone 137/139: 88329b5ae7fffff ---\n"
     ]
    },
    {
     "name": "stderr",
     "output_type": "stream",
     "text": [
      "c:\\Users\\freud\\anaconda3\\envs\\tf310\\lib\\site-packages\\statsmodels\\tsa\\statespace\\sarimax.py:966: UserWarning: Non-stationary starting autoregressive parameters found. Using zeros as starting parameters.\n",
      "  warn('Non-stationary starting autoregressive parameters'\n",
      "c:\\Users\\freud\\anaconda3\\envs\\tf310\\lib\\site-packages\\statsmodels\\tsa\\statespace\\sarimax.py:966: UserWarning: Non-stationary starting autoregressive parameters found. Using zeros as starting parameters.\n",
      "  warn('Non-stationary starting autoregressive parameters'\n"
     ]
    },
    {
     "name": "stdout",
     "output_type": "stream",
     "text": [
      "Zone 88329b5ae7fffff - RMSE: 2.81, R2: 0.6760\n",
      "\n",
      "--- Working on Zone 138/139: 88329b5ae9fffff ---\n"
     ]
    },
    {
     "name": "stderr",
     "output_type": "stream",
     "text": [
      "c:\\Users\\freud\\anaconda3\\envs\\tf310\\lib\\site-packages\\statsmodels\\tsa\\statespace\\sarimax.py:966: UserWarning: Non-stationary starting autoregressive parameters found. Using zeros as starting parameters.\n",
      "  warn('Non-stationary starting autoregressive parameters'\n",
      "c:\\Users\\freud\\anaconda3\\envs\\tf310\\lib\\site-packages\\statsmodels\\tsa\\statespace\\sarimax.py:978: UserWarning: Non-invertible starting MA parameters found. Using zeros as starting parameters.\n",
      "  warn('Non-invertible starting MA parameters found.'\n",
      "c:\\Users\\freud\\anaconda3\\envs\\tf310\\lib\\site-packages\\statsmodels\\tsa\\statespace\\sarimax.py:966: UserWarning: Non-stationary starting autoregressive parameters found. Using zeros as starting parameters.\n",
      "  warn('Non-stationary starting autoregressive parameters'\n",
      "c:\\Users\\freud\\anaconda3\\envs\\tf310\\lib\\site-packages\\statsmodels\\tsa\\statespace\\sarimax.py:978: UserWarning: Non-invertible starting MA parameters found. Using zeros as starting parameters.\n",
      "  warn('Non-invertible starting MA parameters found.'\n"
     ]
    },
    {
     "name": "stdout",
     "output_type": "stream",
     "text": [
      "Zone 88329b5ae9fffff - RMSE: 0.67, R2: 0.0573\n",
      "\n",
      "--- Working on Zone 139/139: 88329b5aebfffff ---\n"
     ]
    },
    {
     "name": "stderr",
     "output_type": "stream",
     "text": [
      "c:\\Users\\freud\\anaconda3\\envs\\tf310\\lib\\site-packages\\statsmodels\\tsa\\statespace\\sarimax.py:966: UserWarning: Non-stationary starting autoregressive parameters found. Using zeros as starting parameters.\n",
      "  warn('Non-stationary starting autoregressive parameters'\n",
      "c:\\Users\\freud\\anaconda3\\envs\\tf310\\lib\\site-packages\\statsmodels\\tsa\\statespace\\sarimax.py:966: UserWarning: Non-stationary starting autoregressive parameters found. Using zeros as starting parameters.\n",
      "  warn('Non-stationary starting autoregressive parameters'\n"
     ]
    },
    {
     "name": "stdout",
     "output_type": "stream",
     "text": [
      "Zone 88329b5aebfffff - RMSE: 1.29, R2: 0.6697\n"
     ]
    }
   ],
   "source": [
    "#We are going zone by zone to determine the values\n",
    "for i, zone_id in enumerate(pivot_data.columns):\n",
    "    print(f'\\n--- Working on Zone {i+1}/{total_zones}: {zone_id} ---')\n",
    "    zone_series = pivot_data[zone_id]\n",
    "    zone_series_log = np.log1p(zone_series)\n",
    "\n",
    "    # Train/Test Split for this zone\n",
    "    train_endog_zone = zone_series_log.iloc[:split_point_idx]\n",
    "    test_endog_zone = zone_series_log.iloc[split_point_idx:]\n",
    "    test_actual_zone = zone_series.iloc[split_point_idx:]\n",
    "\n",
    "    train_exog_zone = all_fourier_features.iloc[:split_point_idx]\n",
    "    test_exog_zone = all_fourier_features.iloc[split_point_idx:]\n",
    "\n",
    "    # We use a walk forward for the training by using the variables\n",
    "    history_endog = train_endog_zone.copy() # endogene variables (log)\n",
    "    history_exog = train_exog_zone.copy() # exogene variables\n",
    "    predictions_log_zone = [] # List of log predictions for this zone\n",
    "    current_model_fit = None # Platzhalter für das aktuell gültige Modell\n",
    "    zone_start_time = time.time()\n",
    "\n",
    "    for t in range(len(test_endog_zone)):\n",
    "        if t % refit_interval == 0 or current_model_fit is None:\n",
    "            # Train model with history data during refit interval\n",
    "            model = SARIMAX(endog=history_endog,\n",
    "                            exog=history_exog,\n",
    "                            order=pdq_order,\n",
    "                            seasonal_order=(0, 0, 0, 0))\n",
    "            \n",
    "            try:\n",
    "                # We enforce stationarity, by letting it on standard true\n",
    "                #Maxiter is the max number of iterations\n",
    "                current_model_fit = model.fit(disp=False, maxiter=200, method='lbfgs') #lbfgs is our optimization model\n",
    "            except Exception as e:\n",
    "                print(f'Error refitting zone {zone_id} at step {t+1}: {e}')\n",
    "                # Fallback: If refit fails\n",
    "                if current_model_fit is None:\n",
    "                     print(f'Termination because of this zone here: {zone_id}')\n",
    "                     predictions_log_zone = [np.nan] * len(test_endog_zone)\n",
    "                     break # Next zone\n",
    "\n",
    "        # Predictions with actual model\n",
    "        try:\n",
    "            exog_next_step = test_exog_zone.iloc[[t]] # Prepare exogenes for next step\n",
    "            yhat_log = current_model_fit.forecast(steps=1, exog=exog_next_step)  # Predict one step\n",
    "            predictions_log_zone.append(yhat_log.iloc[0])  #Extract value\n",
    "        except Exception as e:\n",
    "             print(f'Error predicting {zone_id} at step {t+1}: {e}')\n",
    "             if predictions_log_zone:\n",
    "                 predictions_log_zone.append(predictions_log_zone[-1])\n",
    "             else:\n",
    "                 predictions_log_zone.append(np.nan)\n",
    "\n",
    "        # Add observation to next step\n",
    "        obs_log = test_endog_zone.iloc[[t]]\n",
    "        history_endog = pd.concat([history_endog, obs_log]) # Endog extended\n",
    "        history_exog = pd.concat([history_exog, test_exog_zone.iloc[[t]]]) # Exog extended\n",
    "\n",
    "    zone_end_time = time.time()\n",
    "    #Calculate metrics for each zone\n",
    "    if len(predictions_log_zone) == len(test_actual_zone):\n",
    "        predictions_zone = np.expm1(np.array(predictions_log_zone))\n",
    "        predictions_zone[predictions_zone < 0] = 0\n",
    "\n",
    "        mae = mean_absolute_error(test_actual_zone, predictions_zone)\n",
    "        mse = mean_squared_error(test_actual_zone, predictions_zone)\n",
    "        rmse = math.sqrt(mse)\n",
    "        r2 = r2_score(test_actual_zone, predictions_zone)\n",
    "\n",
    "        nonzero_indices = test_actual_zone != 0\n",
    "        actual_vals = test_actual_zone.values\n",
    "        forecast_vals = predictions_zone\n",
    "\n",
    "        if np.any(nonzero_indices):#for zero division\n",
    "            mape = np.mean(np.abs((actual_vals[nonzero_indices] - forecast_vals[nonzero_indices]) / actual_vals[nonzero_indices])) * 100\n",
    "        else:\n",
    "            mape = np.nan\n",
    "    else: #If it breaks\n",
    "        mae, mse, rmse, r2, mape = [np.nan] * 5\n",
    "        predictions_zone = np.full(len(test_actual_zone), np.nan)\n",
    "\n",
    "\n",
    "    results[zone_id] = {\n",
    "        'predictions': predictions_zone,\n",
    "        'actual': test_actual_zone.values,\n",
    "        'mae': mae,\n",
    "        'rmse': rmse,\n",
    "        'r2': r2,\n",
    "        'mape': mape\n",
    "    }\n",
    "    print(f'Zone {zone_id} - RMSE: {rmse:.2f}, R2: {r2:.4f}')\n",
    "\n",
    "\n",
    "total_end_time = time.time()"
   ]
  },
  {
   "cell_type": "code",
   "execution_count": null,
   "id": "59a7eb8e",
   "metadata": {},
   "outputs": [
    {
     "name": "stdout",
     "output_type": "stream",
     "text": [
      "Average. RMSE: 2.06\n",
      "Average. MAPE: 54.74%\n",
      "Average. MAE: 1.27%\n",
      "Average. R2: 0.5159\n",
      "Average. NRMSE: 157.67\n"
     ]
    }
   ],
   "source": [
    "#Calculate NRMSE\n",
    "for zone_id, res in results.items():\n",
    "    if 'rmse' in res and 'actual' in res and not np.isnan(res['rmse']):\n",
    "        actual_vals = res['actual']\n",
    "        rmse = res['rmse']\n",
    "\n",
    "        mean_actual = np.mean(actual_vals)\n",
    "        nrmse = (rmse / mean_actual) * 100 if mean_actual != 0 else np.nan \n",
    "        results[zone_id]['nrmse'] = nrmse\n",
    "    else:\n",
    "        results[zone_id]['nrmse'] = np.nan\n",
    "#Calculate the averages of all 139 zones\n",
    "avg_rmse = np.nanmean([res['rmse'] for res in results.values()])\n",
    "avg_r2 = np.nanmean([res['r2'] for res in results.values()])\n",
    "avg_mape = np.nanmean([res['mape'] for res in results.values()])\n",
    "avg_mae = np.nanmean([res['mae'] for res in results.values()]) # nanmean because of nans\n",
    "avg_nrmse = np.nanmean([res['nrmse'] for res in results.values()]) \n",
    "\n",
    "print(f'Average. RMSE: {avg_rmse:.2f}')\n",
    "print(f'Average. MAPE: {avg_mape:.2f}%')\n",
    "print(f'Average. MAE: {avg_mae:.2f}%')\n",
    "print(f'Average. R2: {avg_r2:.4f}')\n",
    "print(f'Average. NRMSE: {avg_nrmse:.2f}')\n"
   ]
  },
  {
   "cell_type": "code",
   "execution_count": null,
   "id": "8b3da30a",
   "metadata": {},
   "outputs": [
    {
     "data": {
      "image/png": "[encoded data removed]",
      "text/plain": [
       "<Figure size 1500x700 with 1 Axes>"
      ]
     },
     "metadata": {},
     "output_type": "display_data"
    }
   ],
   "source": [
    "#For our target zone for comparison\n",
    "target_zone_id = '88329b5aa1fffff'\n",
    "\n",
    "if target_zone_id in results:\n",
    "    plt.figure(figsize=(15, 7))\n",
    "    #Train data\n",
    "    plt.plot(pivot_data.index[:split_point_idx],\n",
    "             pivot_data[target_zone_id].iloc[:split_point_idx],\n",
    "             label=f'Train (Zone {target_zone_id})')\n",
    "    #Test data\n",
    "    plt.plot(pivot_data.index[split_point_idx:],\n",
    "             results[target_zone_id]['actual'],\n",
    "             label=f'Test (Zone {target_zone_id})', color='orange')\n",
    "    #Predictions\n",
    "    plt.plot(pivot_data.index[split_point_idx:],\n",
    "             results[target_zone_id]['predictions'],\n",
    "             label=f'Walk-Forward Forecast (k={k}, d=0)', color='green', linestyle='--')\n",
    "    plt.title(f'Walk-Forward Validation for zone {target_zone_id}')\n",
    "    plt.legend()\n",
    "    plt.show()\n",
    "\n",
    "    # Export as numpy array for comparison\n",
    "    predictions_to_export = results[target_zone_id]['predictions']\n",
    "    export_filename = 'prognose_arima.npy' # Fixed filename\n",
    "    np.save(export_filename, predictions_to_export)\n",
    "\n",
    "else:\n",
    "    print(f'Zone not found: This is a list of valid zones:  {list(results.keys())}')"
   ]
  }
 ],
 "metadata": {
  "kernelspec": {
   "display_name": "tf310",
   "language": "python",
   "name": "python3"
  },
  "language_info": {
   "codemirror_mode": {
    "name": "ipython",
    "version": 3
   },
   "file_extension": ".py",
   "mimetype": "text/x-python",
   "name": "python",
   "nbconvert_exporter": "python",
   "pygments_lexer": "ipython3",
   "version": "3.10.13"
  }
 },
 "nbformat": 4,
 "nbformat_minor": 5
}
