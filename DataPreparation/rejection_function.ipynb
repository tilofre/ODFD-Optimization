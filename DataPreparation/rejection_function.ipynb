{
 "cells": [
  {
   "cell_type": "code",
   "execution_count": null,
   "id": "ffd9cc77",
   "metadata": {},
   "outputs": [],
   "source": [
    "import pandas as pd\n",
    "from sklearn.model_selection import train_test_split\n",
    "from sklearn.linear_model import LogisticRegression\n",
    "from sklearn.metrics import accuracy_score\n",
    "import numpy as np\n",
    "import h3\n",
    "import joblib\n"
   ]
  },
  {
   "cell_type": "code",
   "execution_count": null,
   "id": "06954667",
   "metadata": {},
   "outputs": [],
   "source": [
    "data_4 = pd.read_csv(\"....Data/all_waybill_info_meituan_0322.csv\")"
   ]
  },
  {
   "cell_type": "code",
   "execution_count": null,
   "id": "09591b63",
   "metadata": {},
   "outputs": [],
   "source": [
    "min_lat = 0\n",
    "min_lon = 0\n",
    "max_lat = 46000000\n",
    "max_lon = 174700000\n",
    "\n",
    "\"first we will filter the data and remvoing a order area encupsuled from the main area of operation\"\n",
    "\n",
    "data_4 = data_4[\n",
    "        (data_4['recipient_lat'] >= min_lat) &\n",
    "        (data_4['recipient_lat'] <= max_lat) &\n",
    "        (data_4['recipient_lng'] >= min_lon) &\n",
    "        (data_4['recipient_lng'] <= max_lon) &\n",
    "        (data_4['sender_lat'] >= min_lat) &\n",
    "        (data_4['sender_lat'] <= max_lat) &\n",
    "        (data_4['sender_lng'] >= min_lon) &\n",
    "        (data_4['sender_lng'] <= max_lon)] \n",
    "\n",
    "\n",
    "data_4['platform_order_date'] = data_4['platform_order_time']\n",
    "data_4['platform_order_date'] = pd.to_datetime(data_4['platform_order_date'], unit='s') + pd.Timedelta(hours=8) #Offset of 8 hours, because it is probably a chinese timezone\n",
    "\n",
    "data_4 = data_4[data_4['estimate_meal_prepare_time'] != 0].reset_index(drop=True) #data cleaning\n",
    "data_4 = data_4[data_4['is_prebook'] != 1].reset_index(drop=True) #data cleaning\n",
    "\n",
    "scaling_factor = 1_000_000\n",
    "data_4['sender_lat'] = data_4['sender_lat'] / scaling_factor\n",
    "data_4['sender_lng'] = data_4['sender_lng'] / scaling_factor\n",
    "data_4['recipient_lat'] = data_4['recipient_lat'] / scaling_factor\n",
    "data_4['recipient_lng'] = data_4['recipient_lng'] / scaling_factor\n",
    "data_4[\"grab_lat\"] = data_4[\"grab_lat\"] / scaling_factor\n",
    "data_4[\"grab_lng\"] = data_4[\"grab_lng\"] / scaling_factor"
   ]
  },
  {
   "cell_type": "code",
   "execution_count": null,
   "id": "46ffb881",
   "metadata": {},
   "outputs": [],
   "source": [
    "WORK_RESOLUTION = 13  # All courier positions and specific locations (restaurants, customers) are mapped to this grid.\n",
    "MACRO_RESOLUTION = 8 # Define the lower resolution for strategic demand analysis. res = 8 ~0.74 km² #How many available couriers in the grid versus whats the demand\n",
    "\"\"\"\n",
    "Convert all relevant lat/lon coordinates from the DataFrame into H3 cell indices.\n",
    "This maps every point of interest (restaurants, customers, courier starting points) onto our discrete hexagon grid.\n",
    "\"\"\"\n",
    "try:\n",
    "    data_4['sender_h3'] = data_4.apply(\n",
    "        lambda row: h3.latlng_to_cell(row['sender_lat'], row['sender_lng'], WORK_RESOLUTION),\n",
    "        axis=1\n",
    "    )\n",
    "    data_4['recipient_h3'] = data_4.apply(\n",
    "        lambda row: h3.latlng_to_cell(row['recipient_lat'], row['recipient_lng'], WORK_RESOLUTION),\n",
    "        axis=1\n",
    "    )\n",
    "    data_4['grab_h3'] = data_4.apply(\n",
    "        lambda row: h3.latlng_to_cell(row['grab_lat'], row['grab_lng'], WORK_RESOLUTION),\n",
    "        axis=1\n",
    "    )\n",
    "    print(\"Conversion to H3 indices complete.\")\n",
    "\n",
    "\n",
    "except h3.H3ValueError as e:\n",
    "    print(\"ERROR: A coordinate in the dataset is invalid. H3 message: {e}\")"
   ]
  },
  {
   "cell_type": "code",
   "execution_count": null,
   "id": "2b59d142",
   "metadata": {},
   "outputs": [],
   "source": [
    "#Prepare the functions for the features\n",
    "\n",
    "def get_hex_distance(start_hex, end_hex):\n",
    "    key = tuple(sorted((start_hex, end_hex)))\n",
    "    try:\n",
    "        distance = h3.grid_distance(start_hex, end_hex)\n",
    "        return distance\n",
    "    except (h3.H3FailedError, TypeError):\n",
    "        return float('inf')\n",
    "    \n",
    "data_4['hex_distance'] = data_4.apply(\n",
    "    lambda row: get_hex_distance(row['sender_h3'], row['recipient_h3']),\n",
    "    axis=1\n",
    ")\n",
    "\n",
    "print(data_4[['sender_h3', 'recipient_h3', 'hex_distance']].head())"
   ]
  },
  {
   "cell_type": "code",
   "execution_count": null,
   "id": "400cd3e4",
   "metadata": {},
   "outputs": [],
   "source": [
    "data_4['push_hour'] = pd.to_datetime(data_4['order_push_time'], unit='s').dt.hour"
   ]
  },
  {
   "cell_type": "code",
   "execution_count": null,
   "id": "d0f07905",
   "metadata": {},
   "outputs": [],
   "source": [
    "features = [\n",
    "    'is_weekend',\n",
    "    'push_hour',\n",
    "    #'estimate_meal_prepare_time',\n",
    "    'hex_distance' \n",
    "]\n",
    "\n",
    "# Define objective and features\n",
    "X = data_4[features]\n",
    "y = data_4['is_courier_grabbed'] # if courier is rejection is our goal to predict\n",
    "\n",
    "# Split data to test and train\n",
    "X_train, X_test, y_train, y_test = train_test_split(X, y, test_size=0.2, stratify=y, random_state=42)\n",
    "\n",
    "#Train the logistic regression as a model\n",
    "model = LogisticRegression()\n",
    "model.fit(X_train, y_train)"
   ]
  },
  {
   "cell_type": "code",
   "execution_count": null,
   "id": "d30ddec2",
   "metadata": {},
   "outputs": [],
   "source": [
    "#We save the model for our ABM\n",
    "model_filename = 'rejection_model.joblib'\n",
    "joblib.dump(model, model_filename)"
   ]
  }
 ],
 "metadata": {
  "kernelspec": {
   "display_name": "tf310",
   "language": "python",
   "name": "python3"
  },
  "language_info": {
   "codemirror_mode": {
    "name": "ipython",
    "version": 3
   },
   "file_extension": ".py",
   "mimetype": "text/x-python",
   "name": "python",
   "nbconvert_exporter": "python",
   "pygments_lexer": "ipython3",
   "version": "3.10.13"
  }
 },
 "nbformat": 4,
 "nbformat_minor": 5
}
